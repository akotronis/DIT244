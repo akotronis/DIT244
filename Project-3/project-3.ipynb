{
 "cells": [
  {
   "cell_type": "markdown",
   "metadata": {
    "id": "XLx5v_Z18pCv"
   },
   "source": [
    "<center><h1>DIT244 Project 3<br>(itp22104@hua.gr / Anastasios Kotronis)</h1><center>"
   ]
  },
  {
   "cell_type": "markdown",
   "metadata": {
    "id": "4Bt43-ccMuKq"
   },
   "source": [
    "# 1.1 Environment setup (Google Colab)"
   ]
  },
  {
   "cell_type": "markdown",
   "metadata": {
    "id": "tWz4W_gkFw7N"
   },
   "source": [
    "Install dependencies\n",
    "- [`transformers` instructions](https://huggingface.co/docs/transformers/installation)\n",
    "- [huggingface/datasets installation - github](https://github.com/huggingface/datasets/blob/2.13.0/README.md)"
   ]
  },
  {
   "cell_type": "code",
   "execution_count": null,
   "metadata": {
    "id": "6BS41KIO9uGW"
   },
   "outputs": [],
   "source": [
    "!python -m pip install --upgrade pip\n",
    "!pip install transformers[tf-cpu]\n",
    "!pip install xformers\n",
    "!pip install datasets"
   ]
  },
  {
   "cell_type": "markdown",
   "metadata": {
    "id": "4Bt43-ccMuKq"
   },
   "source": [
    "# 1.2 Environment setup (Local)"
   ]
  },
  {
   "cell_type": "markdown",
   "metadata": {},
   "source": [
    "- Add `ipykernel==6.22.0` to `requirements.txt` so that we can change kernel in notebook file\n",
    "- `>>> python -m venv venv` to create virtual environment with name venv\n",
    "- `>>> .\\venv\\Scripts\\activate.ps1` (Windows Powershell) to activate it\n",
    "- `>>> python -m pip install --upgrade pip` to upgrade pip package manager\n",
    "- `>>> python -m pip install -r requirements.txt`\n",
    "- Add kernel to jupyter `>>> python -m ipykernel install --user --name=dit244-3` (`dit244-3` will appear in jupyter **Kernel** → **Change kernel** menu and can be a custom name, not necessarily the same as virtual environment name)"
   ]
  },
  {
   "cell_type": "markdown",
   "metadata": {
    "id": "UVHOF_SeJDXV"
   },
   "source": [
    "# 2. Χρήση pretrained μοντέλων"
   ]
  },
  {
   "cell_type": "code",
   "execution_count": 1,
   "metadata": {
    "id": "_xAKOUGXIxbg"
   },
   "outputs": [
    {
     "name": "stderr",
     "output_type": "stream",
     "text": [
      "C:\\ANASTASIS\\DIT244-AI-and-IoT\\Projects\\Project-3\\venv\\lib\\site-packages\\tqdm\\auto.py:21: TqdmWarning: IProgress not found. Please update jupyter and ipywidgets. See https://ipywidgets.readthedocs.io/en/stable/user_install.html\n",
      "  from .autonotebook import tqdm as notebook_tqdm\n"
     ]
    }
   ],
   "source": [
    "from transformers import pipeline"
   ]
  },
  {
   "cell_type": "markdown",
   "metadata": {
    "id": "1L8UheqmKTeD"
   },
   "source": [
    "## 2.1. Text Classification"
   ]
  },
  {
   "cell_type": "markdown",
   "metadata": {
    "id": "tiK7Eff8F7ta"
   },
   "source": [
    "Text Classification with [j-hartmann/emotion-english-distilroberta-base](https://huggingface.co/j-hartmann/emotion-english-distilroberta-base)"
   ]
  },
  {
   "cell_type": "code",
   "execution_count": null,
   "metadata": {
    "id": "llzRYtu_IktK"
   },
   "outputs": [],
   "source": [
    "text_1 = 'I love this!'\n",
    "text_2 = 'I surely hate this plate and this makes me pitty about myself'\n",
    "text_3 = 'I would not say I dislike this day, nor that I am enthusiastic about it'\n",
    "text_4 = 'This extraordinarily disgusiting beauty is of my fond'\n",
    "\n",
    "texts = [text_1, text_2, text_3, text_4]"
   ]
  },
  {
   "cell_type": "code",
   "execution_count": null,
   "metadata": {
    "colab": {
     "base_uri": "https://localhost:8080/"
    },
    "id": "faiababDQ4bI",
    "outputId": "d8af0a49-1d83-4f94-b6cb-8a633c8f13bf",
    "scrolled": true
   },
   "outputs": [
    {
     "name": "stdout",
     "output_type": "stream",
     "text": [
      "============================================== TEXT 1 ==============================================\n",
      "I love this!\n",
      "\n",
      "{'label': 'anger', 'score': 0.004419787786900997}\n",
      "{'label': 'disgust', 'score': 0.001611991785466671}\n",
      "{'label': 'fear', 'score': 0.0004138524236623198}\n",
      "{'label': 'joy', 'score': 0.9771687984466553}\n",
      "{'label': 'neutral', 'score': 0.005764591973274946}\n",
      "{'label': 'sadness', 'score': 0.002092393347993493}\n",
      "{'label': 'surprise', 'score': 0.008528684265911579}\n",
      "\n",
      "============================================== TEXT 2 ==============================================\n",
      "I surely hate this plate and this makes me pitty about myself\n",
      "\n",
      "{'label': 'anger', 'score': 0.10400301218032837}\n",
      "{'label': 'disgust', 'score': 0.07186344265937805}\n",
      "{'label': 'fear', 'score': 0.016615966334939003}\n",
      "{'label': 'joy', 'score': 0.006794916931539774}\n",
      "{'label': 'neutral', 'score': 0.023871345445513725}\n",
      "{'label': 'sadness', 'score': 0.7655432820320129}\n",
      "{'label': 'surprise', 'score': 0.011308115907013416}\n",
      "\n",
      "============================================== TEXT 3 ==============================================\n",
      "I would not say I dislike this day, nor that I am enthusiastic about it\n",
      "\n",
      "{'label': 'anger', 'score': 0.2288040667772293}\n",
      "{'label': 'disgust', 'score': 0.47354888916015625}\n",
      "{'label': 'fear', 'score': 0.005448551848530769}\n",
      "{'label': 'joy', 'score': 0.07384597510099411}\n",
      "{'label': 'neutral', 'score': 0.058644894510507584}\n",
      "{'label': 'sadness', 'score': 0.15188243985176086}\n",
      "{'label': 'surprise', 'score': 0.007825152017176151}\n",
      "\n",
      "============================================== TEXT 4 ==============================================\n",
      "This extraordinarily disgusiting beauty is of my fond\n",
      "\n",
      "{'label': 'anger', 'score': 0.0034655991476029158}\n",
      "{'label': 'disgust', 'score': 0.039753228425979614}\n",
      "{'label': 'fear', 'score': 0.0028620862867683172}\n",
      "{'label': 'joy', 'score': 0.8047031760215759}\n",
      "{'label': 'neutral', 'score': 0.1256571114063263}\n",
      "{'label': 'sadness', 'score': 0.011431303806602955}\n",
      "{'label': 'surprise', 'score': 0.012127640657126904}\n",
      "\n",
      "============================================== TEXT 5 ==============================================\n",
      "Don't bullshit me I am not buying this\n",
      "\n",
      "{'label': 'anger', 'score': 0.9144605398178101}\n",
      "{'label': 'disgust', 'score': 0.03300616145133972}\n",
      "{'label': 'fear', 'score': 0.010309326462447643}\n",
      "{'label': 'joy', 'score': 0.001826104475185275}\n",
      "{'label': 'neutral', 'score': 0.030265385285019875}\n",
      "{'label': 'sadness', 'score': 0.006318927276879549}\n",
      "{'label': 'surprise', 'score': 0.0038136476650834084}\n",
      "\n"
     ]
    }
   ],
   "source": [
    "classifier = pipeline('text-classification', model='j-hartmann/emotion-english-distilroberta-base', top_k=None)\n",
    "\n",
    "for i, text in enumerate(texts, 1):\n",
    "    print(f' TEXT {i} '.center(100, '='))\n",
    "    print(text)\n",
    "    print()\n",
    "    clf = sorted(classifier(text)[0], key=lambda x:x['label'])\n",
    "    for label in clf:\n",
    "        print(label)\n",
    "    print()"
   ]
  },
  {
   "cell_type": "markdown",
   "metadata": {
    "id": "xS19D9pTdXNg"
   },
   "source": [
    "It looks like this model catches specific words but not context (See example 3 which is a neutral phrase in context but neutral is low)"
   ]
  },
  {
   "cell_type": "markdown",
   "metadata": {
    "id": "ZakG5o6oKg_k"
   },
   "source": [
    "## 2.2. Zero-Shot Classification"
   ]
  },
  {
   "cell_type": "markdown",
   "metadata": {
    "id": "7RVGBpVlKn2S"
   },
   "source": [
    "Zero-Shot Classification with [facebook/bart-large-mnli](https://huggingface.co/facebook/bart-large-mnli)"
   ]
  },
  {
   "cell_type": "code",
   "execution_count": null,
   "metadata": {
    "id": "m8_Be9SfM39-"
   },
   "outputs": [],
   "source": [
    "text_1 = 'I love this!'\n",
    "text_2 = 'I surely hate this plate and this makes me pitty about myself'\n",
    "text_3 = 'I would not say I dislike this day, nor that I am enthusiastic about it'\n",
    "text_4 = 'This extraordinarily disgusiting beauty is of my fond'\n",
    "text_5 = \"Don't bullshit me I am not buying this\"\n",
    "\n",
    "texts = [text_1, text_2, text_3, text_4, text_5]\n",
    "\n",
    "candidate_labels = ['affection', 'shopping', 'cooking', 'politics']"
   ]
  },
  {
   "cell_type": "code",
   "execution_count": null,
   "metadata": {
    "colab": {
     "base_uri": "https://localhost:8080/",
     "height": 903,
     "referenced_widgets": [
      "d860c1261852416492075ae82eb17818",
      "c5346d1345a94aeca3257d72895a496b",
      "5977ad77c9f74c6dba76b3155e7d16db",
      "35f3ff3850094a26adbd9c129a7ef19e",
      "5b3f4cb408b343feb1131ab96838e4b7",
      "161332eb79864fd5877d34eb57406651",
      "94734f149522417389d318632756734b",
      "505a37bc6a664eceab18c824d287b5e6",
      "4d60600b2dc44fe9b880c4ca9db7cfdd",
      "a572ae0037614c84ac973b8a4b61cd5f",
      "39d9425be8e2408c934d13060e63d20b",
      "e51e9d5a315f446e9594105fab008816",
      "91f28c20bd9845cfb492c3360c1192e5",
      "097909d81f134fc3a730d88a74d178e6",
      "26a43481ed6b47be90d0d14e09f9636b",
      "1327857656664b5a9c63ff1f89b2c5e7",
      "62ad542741ee45a89bab5c5bf1034113",
      "75a86f49152d4c02b6accadf6a2d7616",
      "b083d9851182487f8e79914b68b8a6ec",
      "b49fbca47d244c86b69eeac16794a607",
      "91310013b1d84bd68b16ea3a9734fa2a",
      "437000556a5b4b18aa7b6529ba339c21",
      "65b0e2a32c224edea52fe96d1d1503ff",
      "da2cbae2575747cf88e12a3456bc8fcf",
      "924378e7812645f19309d54cf2cb197f",
      "d99710b3cdc84b1b891f365ba48c550f",
      "ba78ba11633b4474ba337f8e1e0efb1c",
      "ee8df07f961e43c1a36624988714d533",
      "0fe60eddde794df88c4b862ae5c1d64f",
      "ac5ae143d0d84ffcab1ef65445841a87",
      "6425e480a2a140f7b50bb959db8de84e",
      "d2c471e150974bc6aaf55a44bb2d4fa6",
      "fb81c6f354df416581335036d8d508e3",
      "552f4311e7114e22bd79cfd3205ddebf",
      "2ee37338ec9b48e99730ed621242299c",
      "957d1ea1d81a41398ae47dbc7c663024",
      "f438e99cd74948a6a56024ca03dc01f5",
      "f72f173d7c9743b4b51b20d0c71a9d20",
      "e8aa850926914cc5a776b5298668bbf3",
      "656c176180514140bc89a2ed98bf8ca4",
      "4f72ed897ba9401ea159c675a12601e6",
      "c63f94bda1074aa58bda46f7410712be",
      "0a6c645193f347f58ceeada3ac8334e2",
      "a17fca6623c34a528b5fd43b335112b9",
      "43afe162620d4ca98846f1df12a78834",
      "3a490695afb34265b48ea77d93aa124d",
      "25701aea28c34078800c010c94587c43",
      "6d861aca6592445899de7286ac3e1995",
      "99619bf1a95a4ce9bd20f2a4ad3c7bec",
      "dc8863910dcf4a49a6bd33559f60ceb4",
      "7619e7f07d5b43c68f9010ac0625945a",
      "875f321454af49ea8e22c46b718efb7d",
      "8acb544f5bfd4bebb2ebda4d54db2fae",
      "7d684031934f4755a5e9764e49be3113",
      "3c25a17900414276986f4c6accbac394",
      "7fa8b55bffa046bbb83ce20f82c6d968",
      "b64d2178bc674f96be3064fe37d179d5",
      "f7326eb4fe9e4bd3a4a370f5f0e79021",
      "a480b3e0d79d4392b477d8589fa6df15",
      "6e7b0311015b45e595218023672a879f",
      "feac1350111c4a0893b1260c0d685ac5",
      "6c9cc52f8dc04d548d9a57ab9f5c5ed1",
      "b9500fa1b9504862a657f40a5c055c23",
      "f32e0ff2f74c46d19f81d44e7246b17a",
      "bbb97d0d23d449a3a51c1bdcdf88b228",
      "e2313f45562f47a6896dc7e242383075"
     ]
    },
    "id": "04jum57fMxGI",
    "outputId": "8d2b4613-7eea-4f87-fddf-ab59df14ed5e",
    "scrolled": true
   },
   "outputs": [
    {
     "data": {
      "application/vnd.jupyter.widget-view+json": {
       "model_id": "d860c1261852416492075ae82eb17818",
       "version_major": 2,
       "version_minor": 0
      },
      "text/plain": [
       "Downloading (…)lve/main/config.json:   0%|          | 0.00/1.15k [00:00<?, ?B/s]"
      ]
     },
     "metadata": {},
     "output_type": "display_data"
    },
    {
     "data": {
      "application/vnd.jupyter.widget-view+json": {
       "model_id": "e51e9d5a315f446e9594105fab008816",
       "version_major": 2,
       "version_minor": 0
      },
      "text/plain": [
       "Downloading model.safetensors:   0%|          | 0.00/1.63G [00:00<?, ?B/s]"
      ]
     },
     "metadata": {},
     "output_type": "display_data"
    },
    {
     "data": {
      "application/vnd.jupyter.widget-view+json": {
       "model_id": "65b0e2a32c224edea52fe96d1d1503ff",
       "version_major": 2,
       "version_minor": 0
      },
      "text/plain": [
       "Downloading (…)okenizer_config.json:   0%|          | 0.00/26.0 [00:00<?, ?B/s]"
      ]
     },
     "metadata": {},
     "output_type": "display_data"
    },
    {
     "data": {
      "application/vnd.jupyter.widget-view+json": {
       "model_id": "552f4311e7114e22bd79cfd3205ddebf",
       "version_major": 2,
       "version_minor": 0
      },
      "text/plain": [
       "Downloading (…)olve/main/vocab.json:   0%|          | 0.00/899k [00:00<?, ?B/s]"
      ]
     },
     "metadata": {},
     "output_type": "display_data"
    },
    {
     "data": {
      "application/vnd.jupyter.widget-view+json": {
       "model_id": "43afe162620d4ca98846f1df12a78834",
       "version_major": 2,
       "version_minor": 0
      },
      "text/plain": [
       "Downloading (…)olve/main/merges.txt:   0%|          | 0.00/456k [00:00<?, ?B/s]"
      ]
     },
     "metadata": {},
     "output_type": "display_data"
    },
    {
     "data": {
      "application/vnd.jupyter.widget-view+json": {
       "model_id": "7fa8b55bffa046bbb83ce20f82c6d968",
       "version_major": 2,
       "version_minor": 0
      },
      "text/plain": [
       "Downloading (…)/main/tokenizer.json:   0%|          | 0.00/1.36M [00:00<?, ?B/s]"
      ]
     },
     "metadata": {},
     "output_type": "display_data"
    },
    {
     "name": "stdout",
     "output_type": "stream",
     "text": [
      "============================================== TEXT 1 ==============================================\n",
      "I love this!\n",
      "\n",
      "{'label': 'affection', 'score': 0.9635745286941528}\n",
      "{'label': 'cooking', 'score': 0.6533708572387695}\n",
      "{'label': 'politics', 'score': 0.07594060897827148}\n",
      "{'label': 'shopping', 'score': 0.2407349944114685}\n",
      "\n",
      "============================================== TEXT 2 ==============================================\n",
      "I surely hate this plate and this makes me pitty about myself\n",
      "\n",
      "{'label': 'affection', 'score': 0.0004045303212478757}\n",
      "{'label': 'cooking', 'score': 0.8133435249328613}\n",
      "{'label': 'politics', 'score': 0.06993021070957184}\n",
      "{'label': 'shopping', 'score': 0.0019582295790314674}\n",
      "\n",
      "============================================== TEXT 3 ==============================================\n",
      "I would not say I dislike this day, nor that I am enthusiastic about it\n",
      "\n",
      "{'label': 'affection', 'score': 0.22424258291721344}\n",
      "{'label': 'cooking', 'score': 0.12882106006145477}\n",
      "{'label': 'politics', 'score': 0.3008555471897125}\n",
      "{'label': 'shopping', 'score': 0.18695001304149628}\n",
      "\n",
      "============================================== TEXT 4 ==============================================\n",
      "This extraordinarily disgusiting beauty is of my fond\n",
      "\n",
      "{'label': 'affection', 'score': 0.9979147911071777}\n",
      "{'label': 'cooking', 'score': 0.06437288224697113}\n",
      "{'label': 'politics', 'score': 0.00022596053895540535}\n",
      "{'label': 'shopping', 'score': 0.0021776678040623665}\n",
      "\n",
      "============================================== TEXT 5 ==============================================\n",
      "Don't bullshit me I am not buying this\n",
      "\n",
      "{'label': 'affection', 'score': 0.008899569511413574}\n",
      "{'label': 'cooking', 'score': 0.054714784026145935}\n",
      "{'label': 'politics', 'score': 0.23080974817276}\n",
      "{'label': 'shopping', 'score': 0.5337265133857727}\n",
      "\n"
     ]
    }
   ],
   "source": [
    "classifier = pipeline('zero-shot-classification', model='facebook/bart-large-mnli')\n",
    "\n",
    "for i, text in enumerate(texts, 1):\n",
    "    print(f' TEXT {i} '.center(100, '='))\n",
    "    print(text)\n",
    "    print()\n",
    "    clf = classifier(text, candidate_labels, multi_label=True)\n",
    "    clf = [{'label':item[0], 'score':item[1]} for item in zip(clf['labels'], clf['scores'])]\n",
    "    clf = sorted(clf, key=lambda x:x['label'])\n",
    "    for label in clf:\n",
    "        print(label)\n",
    "    print()"
   ]
  },
  {
   "cell_type": "markdown",
   "metadata": {},
   "source": [
    "Same as above. It doesn't seem to catch context. See last case 'shopping'"
   ]
  },
  {
   "cell_type": "markdown",
   "metadata": {
    "id": "pa5aaGac3yC-"
   },
   "source": [
    "## 2.3. Token ClassificationZero-Shot Classification"
   ]
  },
  {
   "cell_type": "markdown",
   "metadata": {
    "id": "stFUjtz468ir"
   },
   "source": [
    "For **Colab**\n",
    "\n",
    "Required for error:\n",
    "```\n",
    "Couldn't instantiate the backend tokenizer from one of:\n",
    "(1) a `tokenizers` library serialization file,\n",
    "(2) a slow tokenizer instance to convert or\n",
    "(3) an equivalent slow tokenizer class to instantiate and convert.\n",
    "You need to have sentencepiece installed to convert a slow tokenizer to a fast one.\n",
    "```\n",
    "\n",
    "Restart kernel after installing"
   ]
  },
  {
   "cell_type": "code",
   "execution_count": null,
   "metadata": {
    "id": "aUuMq9Tg64S9"
   },
   "outputs": [],
   "source": [
    "!pip install sentencepiece"
   ]
  },
  {
   "cell_type": "markdown",
   "metadata": {
    "id": "tMpkYYtt40nw"
   },
   "source": [
    "Token Classification with [Jean-Baptiste/camembert-ner](https://huggingface.co/Jean-Baptiste/camembert-ner)"
   ]
  },
  {
   "cell_type": "code",
   "execution_count": null,
   "metadata": {
    "id": "Xn7Y16K63we-"
   },
   "outputs": [],
   "source": [
    "text_1 = \"Apple est créée le 1er avril 1976 dans le garage de la maison d'enfance de Steve Jobs à Los Altos en Californie par Steve Jobs, Steve Wozniak et Ronald Wayne14, puis constituée sous forme de société le 3 janvier 1977 à l'origine sous le nom d'Apple Computer, mais pour ses 30 ans et pour refléter la diversification de ses produits, le mot « computer » est retiré le 9 janvier 2015.\"\n",
    "text_2 = \"Human resources are like natural resources; they're often buried deep. You have to go looking for them; they're not just lying around on the surface. Ken Robinson\"\n",
    "text_3 = \"Python was conceived in the late 1980s[43] by Guido van Rossum at Centrum Wiskunde & Informatica (CWI) in the Netherlands as a successor to the ABC programming language, which was inspired by SETL, capable of exception handling and interfacing with the Amoeba operating system\"\n",
    "text_4 = \"Ο Μικελάντζελο ντι Λοντοβίκο Μπουοναρότι Σιμόνι (Michelangelo di Lodovico Buonarroti Simoni, 6 Μαρτίου 1475 – 18 Φεβρουαρίου 1564), γνωστός περισσότερο ως Μιχαήλ Άγγελος, ήταν Ιταλός γλύπτης, ζωγράφος, αρχιτέκτονας και ποιητής της Αναγέννησης, που άσκησε απαράμιλλη επίδραση στην ανάπτυξη της δυτικής τέχνης\"\n",
    "text_5 = \"Michelangelo di Lodovico Buonarroti Simoni, known as Michelangelo, was an Italian sculptor, painter, architect and poet of the High Renaissance. Born in the Republic of Florence, his work was inspired by models from classical antiquity and had a lasting influence on Western art\"\n",
    "\n",
    "texts = [text_1, text_2, text_3, text_4, text_5]"
   ]
  },
  {
   "cell_type": "code",
   "execution_count": null,
   "metadata": {
    "id": "UM3NkAd25SEf"
   },
   "outputs": [],
   "source": [
    "import textwrap\n",
    "from transformers import AutoTokenizer, AutoModelForTokenClassification\n",
    "\n",
    "PRETRAINED_MODEL = 'Jean-Baptiste/camembert-ner'\n",
    "tokenizer = AutoTokenizer.from_pretrained(PRETRAINED_MODEL)\n",
    "token_classifier = AutoModelForTokenClassification.from_pretrained(PRETRAINED_MODEL)"
   ]
  },
  {
   "cell_type": "code",
   "execution_count": null,
   "metadata": {
    "colab": {
     "base_uri": "https://localhost:8080/"
    },
    "id": "WvLZfArA4lvV",
    "outputId": "01e62d79-96cd-441c-b9d2-53d9ca6366c7",
    "scrolled": true
   },
   "outputs": [
    {
     "name": "stdout",
     "output_type": "stream",
     "text": [
      "============================================== TEXT 1 ==============================================\n",
      "Apple est créée le 1er avril 1976 dans le garage de la maison d'enfance de Steve Jobs à Los Altos en Californie par\n",
      "Steve Jobs, Steve Wozniak et Ronald Wayne14, puis constituée sous forme de société le 3 janvier 1977 à l'origine sous le\n",
      "nom d'Apple Computer, mais pour ses 30 ans et pour refléter la diversification de ses produits, le mot « computer » est\n",
      "retiré le 9 janvier 2015.\n",
      "\n",
      "{'entity_group': 'ORG', 'score': 0.9921588, 'word': 'Apple', 'start': 0, 'end': 5}\n",
      "{'entity_group': 'PER', 'score': 0.99597645, 'word': 'Steve Jobs', 'start': 74, 'end': 85}\n",
      "{'entity_group': 'LOC', 'score': 0.99835855, 'word': 'Los Altos', 'start': 87, 'end': 97}\n",
      "{'entity_group': 'LOC', 'score': 0.9982911, 'word': 'Californie', 'start': 100, 'end': 111}\n",
      "{'entity_group': 'PER', 'score': 0.99870753, 'word': 'Steve Jobs', 'start': 115, 'end': 126}\n",
      "{'entity_group': 'PER', 'score': 0.99879086, 'word': 'Steve Wozniak', 'start': 127, 'end': 141}\n",
      "{'entity_group': 'PER', 'score': 0.99646753, 'word': 'Ronald Wayne', 'start': 144, 'end': 157}\n",
      "{'entity_group': 'ORG', 'score': 0.9449747, 'word': 'Apple Computer', 'start': 243, 'end': 257}\n",
      "\n",
      "============================================== TEXT 2 ==============================================\n",
      "Human resources are like natural resources; they're often buried deep. You have to go looking for them; they're not just\n",
      "lying around on the surface. Ken Robinson\n",
      "\n",
      "{'entity_group': 'PER', 'score': 0.9913867, 'word': 'Ken Robinson', 'start': 149, 'end': 162}\n",
      "\n",
      "============================================== TEXT 3 ==============================================\n",
      "Python was conceived in the late 1980s[43] by Guido van Rossum at Centrum Wiskunde & Informatica (CWI) in the\n",
      "Netherlands as a successor to the ABC programming language, which was inspired by SETL, capable of exception handling\n",
      "and interfacing with the Amoeba operating system\n",
      "\n",
      "{'entity_group': 'MISC', 'score': 0.9937172, 'word': 'Python', 'start': 0, 'end': 6}\n",
      "{'entity_group': 'PER', 'score': 0.998633, 'word': 'Guido van Rossum', 'start': 45, 'end': 62}\n",
      "{'entity_group': 'ORG', 'score': 0.99521744, 'word': 'Centrum Wiskunde & Informatica', 'start': 65, 'end': 96}\n",
      "{'entity_group': 'ORG', 'score': 0.99382854, 'word': 'CWI', 'start': 98, 'end': 101}\n",
      "{'entity_group': 'LOC', 'score': 0.9988542, 'word': 'Netherlands', 'start': 109, 'end': 121}\n",
      "{'entity_group': 'MISC', 'score': 0.9310253, 'word': 'ABC', 'start': 143, 'end': 147}\n",
      "{'entity_group': 'MISC', 'score': 0.9419058, 'word': 'SETL', 'start': 191, 'end': 196}\n",
      "{'entity_group': 'MISC', 'score': 0.9919686, 'word': 'Amoeba', 'start': 252, 'end': 259}\n",
      "\n",
      "============================================== TEXT 4 ==============================================\n",
      "Ο Μικελάντζελο ντι Λοντοβίκο Μπουοναρότι Σιμόνι (Michelangelo di Lodovico Buonarroti Simoni, 6 Μαρτίου 1475 – 18\n",
      "Φεβρουαρίου 1564), γνωστός περισσότερο ως Μιχαήλ Άγγελος, ήταν Ιταλός γλύπτης, ζωγράφος, αρχιτέκτονας και ποιητής της\n",
      "Αναγέννησης, που άσκησε απαράμιλλη επίδραση στην ανάπτυξη της δυτικής τέχνης\n",
      "\n",
      "{'entity_group': 'PER', 'score': 0.9988323, 'word': 'Michelangelo di Lodovico Buonarroti Simoni', 'start': 49, 'end': 91}\n",
      "\n",
      "============================================== TEXT 5 ==============================================\n",
      "Michelangelo di Lodovico Buonarroti Simoni, known as Michelangelo, was an Italian sculptor, painter, architect and poet\n",
      "of the High Renaissance. Born in the Republic of Florence, his work was inspired by models from classical antiquity and\n",
      "had a lasting influence on Western art\n",
      "\n",
      "{'entity_group': 'PER', 'score': 0.99907494, 'word': 'Michelangelo di Lodovico Buonarroti Simoni', 'start': 0, 'end': 42}\n",
      "{'entity_group': 'PER', 'score': 0.9986995, 'word': 'Michelangelo', 'start': 52, 'end': 65}\n",
      "{'entity_group': 'LOC', 'score': 0.9933657, 'word': 'Italian', 'start': 73, 'end': 81}\n",
      "{'entity_group': 'MISC', 'score': 0.83380014, 'word': 'High Renaissance', 'start': 126, 'end': 143}\n",
      "{'entity_group': 'LOC', 'score': 0.97234213, 'word': 'Republic of Florence', 'start': 156, 'end': 177}\n",
      "{'entity_group': 'MISC', 'score': 0.68113345, 'word': 'Western', 'start': 266, 'end': 274}\n",
      "\n"
     ]
    }
   ],
   "source": [
    "wrapper = textwrap.TextWrapper(width=120)\n",
    "\n",
    "classifier = pipeline(\n",
    "    'ner',\n",
    "    model=token_classifier,\n",
    "    tokenizer=tokenizer,\n",
    "    aggregation_strategy='simple'\n",
    ")\n",
    "\n",
    "for i, text in enumerate(texts, 1):\n",
    "    print(f' TEXT {i} '.center(100, '='))\n",
    "    print(wrapper.fill(text))\n",
    "    print()\n",
    "    clf = classifier(text)\n",
    "    for item in clf:\n",
    "        print(item)\n",
    "    print()"
   ]
  },
  {
   "cell_type": "markdown",
   "metadata": {
    "id": "TZYRBFuFcM5i"
   },
   "source": [
    "Although this model has been trained in french text, it looks like it goes well in the english language as well.\n",
    "\n",
    "In greek text it doesn't perform well as with the same sentence in english.\n",
    "\n",
    "I would trust it for french and english text."
   ]
  },
  {
   "cell_type": "markdown",
   "metadata": {
    "id": "S5s3bhTlbl2S"
   },
   "source": [
    "## 2.4. Question Answering"
   ]
  },
  {
   "cell_type": "markdown",
   "metadata": {
    "id": "jwR_CtLob3sW"
   },
   "source": [
    "Token Classification with [roberta-base-squad2](https://huggingface.co/deepset/roberta-base-squad2)"
   ]
  },
  {
   "cell_type": "code",
   "execution_count": 53,
   "metadata": {},
   "outputs": [
    {
     "name": "stderr",
     "output_type": "stream",
     "text": [
      "Downloading (…)lve/main/config.json: 100%|████████████████████████████████████████████████████| 571/571 [00:00<?, ?B/s]\n",
      "Downloading model.safetensors: 100%|████████████████████████████████████████████████| 496M/496M [05:05<00:00, 1.63MB/s]\n",
      "Downloading (…)okenizer_config.json: 100%|███████████████████████████████████████████| 79.0/79.0 [00:00<00:00, 151kB/s]\n",
      "Downloading (…)olve/main/vocab.json: 100%|██████████████████████████████████████████| 899k/899k [00:00<00:00, 1.14MB/s]\n",
      "Downloading (…)olve/main/merges.txt: 100%|███████████████████████████████████████████| 456k/456k [00:00<00:00, 949kB/s]\n",
      "Downloading (…)cial_tokens_map.json: 100%|████████████████████████████████████████████████████| 772/772 [00:00<?, ?B/s]\n"
     ]
    },
    {
     "data": {
      "text/plain": [
       "{'score': 0.2117147594690323,\n",
       " 'start': 59,\n",
       " 'end': 84,\n",
       " 'answer': 'gives freedom to the user'}"
      ]
     },
     "execution_count": 53,
     "metadata": {},
     "output_type": "execute_result"
    }
   ],
   "source": [
    "from transformers import AutoModelForQuestionAnswering, AutoTokenizer, pipeline\n",
    "\n",
    "PRETRAINED_MODEL = \"deepset/roberta-base-squad2\"\n",
    "\n",
    "nlp = pipeline('question-answering', model=PRETRAINED_MODEL, tokenizer=PRETRAINED_MODEL)"
   ]
  },
  {
   "cell_type": "code",
   "execution_count": 55,
   "metadata": {},
   "outputs": [],
   "source": [
    "text_1 = {\n",
    "    'question': 'Why is model conversion important?',\n",
    "    'context': 'The option to convert models between FARM and transformers gives freedom to the user and let people easily switch between frameworks.'\n",
    "}\n",
    "text_2 = {\n",
    "    'question': 'Is it true that although I am bold, I am good looking as they say?',\n",
    "    'context': 'According to a recent survey conducted on a random sample of 40.000.000 women, men with no hair are considered attractive',\n",
    "}\n",
    "\n",
    "texts = [text_1, text_2]"
   ]
  },
  {
   "cell_type": "code",
   "execution_count": 57,
   "metadata": {
    "scrolled": true
   },
   "outputs": [
    {
     "name": "stdout",
     "output_type": "stream",
     "text": [
      "============================================== TEXT 1 ==============================================\n",
      "{'score': 0.2117147594690323, 'start': 59, 'end': 84, 'answer': 'gives freedom to the user'}\n",
      "\n",
      "============================================== TEXT 2 ==============================================\n",
      "{'score': 0.043438591063022614, 'start': 79, 'end': 121, 'answer': 'men with no hair are considered attractive'}\n",
      "\n"
     ]
    }
   ],
   "source": [
    "for i, text in enumerate(texts, 1):\n",
    "    print(f' TEXT {i} '.center(100, '='))\n",
    "    print(nlp(text))\n",
    "    print()"
   ]
  },
  {
   "cell_type": "markdown",
   "metadata": {},
   "source": [
    "The model doesn't seem to be very sure about it's predictions (low score), however in case 2 it hit bool's eye, and I would trust it."
   ]
  },
  {
   "cell_type": "markdown",
   "metadata": {
    "id": "GI8vPsLxbmBy"
   },
   "source": [
    "## 2.5. Summarization"
   ]
  },
  {
   "cell_type": "markdown",
   "metadata": {},
   "source": [
    "Summarization with [facebook/bart-large-cnn](https://huggingface.co/facebook/bart-large-cnn)"
   ]
  },
  {
   "cell_type": "code",
   "execution_count": 58,
   "metadata": {
    "id": "oNP-3wHkb4jt"
   },
   "outputs": [
    {
     "name": "stderr",
     "output_type": "stream",
     "text": [
      "Downloading (…)lve/main/config.json: 100%|████████████████████████████████████████████████| 1.58k/1.58k [00:00<?, ?B/s]\n",
      "Downloading pytorch_model.bin: 100%|██████████████████████████████████████████████| 1.63G/1.63G [17:35<00:00, 1.54MB/s]\n",
      "Downloading (…)neration_config.json: 100%|████████████████████████████████████████████████████| 363/363 [00:00<?, ?B/s]\n",
      "Downloading (…)olve/main/vocab.json: 100%|██████████████████████████████████████████| 899k/899k [00:00<00:00, 1.00MB/s]\n",
      "Downloading (…)olve/main/merges.txt: 100%|███████████████████████████████████████████| 456k/456k [00:00<00:00, 884kB/s]\n",
      "Downloading (…)/main/tokenizer.json: 100%|████████████████████████████████████████| 1.36M/1.36M [00:01<00:00, 1.23MB/s]\n"
     ]
    }
   ],
   "source": [
    "from transformers import pipeline\n",
    "\n",
    "summarizer = pipeline(\"summarization\", model=\"facebook/bart-large-cnn\")"
   ]
  },
  {
   "cell_type": "code",
   "execution_count": 59,
   "metadata": {},
   "outputs": [],
   "source": [
    "text_1 = \"\"\" New York (CNN)When Liana Barrientos was 23 years old, she got married in Westchester County, New York.\n",
    "A year later, she got married again in Westchester County, but to a different man and without divorcing her first husband.\n",
    "Only 18 days after that marriage, she got hitched yet again. Then, Barrientos declared \"I do\" five more times, sometimes only within two weeks of each other.\n",
    "In 2010, she married once more, this time in the Bronx. In an application for a marriage license, she stated it was her \"first and only\" marriage.\n",
    "Barrientos, now 39, is facing two criminal counts of \"offering a false instrument for filing in the first degree,\" referring to her false statements on the\n",
    "2010 marriage license application, according to court documents.\n",
    "Prosecutors said the marriages were part of an immigration scam.\n",
    "On Friday, she pleaded not guilty at State Supreme Court in the Bronx, according to her attorney, Christopher Wright, who declined to comment further.\n",
    "After leaving court, Barrientos was arrested and charged with theft of service and criminal trespass for allegedly sneaking into the New York subway through an emergency exit, said Detective\n",
    "Annette Markowski, a police spokeswoman. In total, Barrientos has been married 10 times, with nine of her marriages occurring between 1999 and 2002.\n",
    "All occurred either in Westchester County, Long Island, New Jersey or the Bronx. She is believed to still be married to four men, and at one time, she was married to eight men at once, prosecutors say.\n",
    "Prosecutors said the immigration scam involved some of her husbands, who filed for permanent residence status shortly after the marriages.\n",
    "Any divorces happened only after such filings were approved. It was unclear whether any of the men will be prosecuted.\n",
    "The case was referred to the Bronx District Attorney\\'s Office by Immigration and Customs Enforcement and the Department of Homeland Security\\'s\n",
    "Investigation Division. Seven of the men are from so-called \"red-flagged\" countries, including Egypt, Turkey, Georgia, Pakistan and Mali.\n",
    "Her eighth husband, Rashid Rajput, was deported in 2006 to his native Pakistan after an investigation by the Joint Terrorism Task Force.\n",
    "If convicted, Barrientos faces up to four years in prison.  Her next court appearance is scheduled for May 18.\n",
    "\"\"\"\n",
    "\n",
    "text_2 = \"\"\"Stephen William Hawking (8 January 1942 – 14 March 2018) was an English theoretical physicist, cosmologist, and author who, at the time of his death, was director of research at the Centre for Theoretical Cosmology at the University of Cambridge.[6][17][18] Between 1979 and 2009, he was the Lucasian Professor of Mathematics at the University of Cambridge, widely viewed as one of the most prestigious academic posts in the world.[19]\n",
    "Hawking was born in Oxford into a family of physicians. In October 1959, at the age of 17, he began his university education at University College, Oxford, where he received a first-class BA degree in physics. In October 1962, he began his graduate work at Trinity Hall at the University of Cambridge where, in March 1966, he obtained his PhD degree in applied mathematics and theoretical physics, specialising in general relativity and cosmology. In 1963, at age 21, Hawking was diagnosed with an early-onset slow-progressing form of motor neurone disease that gradually, over decades, paralysed him.[20][21] After the loss of his speech, he communicated through a speech-generating device initially through use of a handheld switch, and eventually by using a single cheek muscle.[22]\n",
    "Hawking's scientific works included a collaboration with Roger Penrose on gravitational singularity theorems in the framework of general relativity, and the theoretical prediction that black holes emit radiation, often called Hawking radiation. Initially, Hawking radiation was controversial. By the late 1970s and following the publication of further research, the discovery was widely accepted as a major breakthrough in theoretical physics. Hawking was the first to set out a theory of cosmology explained by a union of the general theory of relativity and quantum mechanics. He was a vigorous supporter of the many-worlds interpretation of quantum mechanics.[23][24]\n",
    "Hawking achieved commercial success with several works of popular science in which he discussed his theories and cosmology in general. His book A Brief History of Time appeared on the Sunday Times bestseller list for a record-breaking 237 weeks. Hawking was a Fellow of the Royal Society, a lifetime member of the Pontifical Academy of Sciences, and a recipient of the Presidential Medal of Freedom, the highest civilian award in the United States. In 2002, Hawking was ranked number 25 in the BBC's poll of the 100 Greatest Britons. He died in 2018 at the age of 76, after living with motor neurone disease for more than 50 years\"\"\"\n",
    "\n",
    "texts = [text_1, text_2]"
   ]
  },
  {
   "cell_type": "code",
   "execution_count": 61,
   "metadata": {
    "scrolled": true
   },
   "outputs": [
    {
     "name": "stdout",
     "output_type": "stream",
     "text": [
      "============================================== TEXT 1 ==============================================\n",
      " New York (CNN)When Liana Barrientos was 23 years old, she got married in Westchester County, New York. A year later,\n",
      "she got married again in Westchester County, but to a different man and without divorcing her first husband. Only 18\n",
      "days after that marriage, she got hitched yet again. Then, Barrientos declared \"I do\" five more times, sometimes only\n",
      "within two weeks of each other. In 2010, she married once more, this time in the Bronx. In an application for a marriage\n",
      "license, she stated it was her \"first and only\" marriage. Barrientos, now 39, is facing two criminal counts of \"offering\n",
      "a false instrument for filing in the first degree,\" referring to her false statements on the 2010 marriage license\n",
      "application, according to court documents. Prosecutors said the marriages were part of an immigration scam. On Friday,\n",
      "she pleaded not guilty at State Supreme Court in the Bronx, according to her attorney, Christopher Wright, who declined\n",
      "to comment further. After leaving court, Barrientos was arrested and charged with theft of service and criminal trespass\n",
      "for allegedly sneaking into the New York subway through an emergency exit, said Detective Annette Markowski, a police\n",
      "spokeswoman. In total, Barrientos has been married 10 times, with nine of her marriages occurring between 1999 and 2002.\n",
      "All occurred either in Westchester County, Long Island, New Jersey or the Bronx. She is believed to still be married to\n",
      "four men, and at one time, she was married to eight men at once, prosecutors say. Prosecutors said the immigration scam\n",
      "involved some of her husbands, who filed for permanent residence status shortly after the marriages. Any divorces\n",
      "happened only after such filings were approved. It was unclear whether any of the men will be prosecuted. The case was\n",
      "referred to the Bronx District Attorney's Office by Immigration and Customs Enforcement and the Department of Homeland\n",
      "Security's Investigation Division. Seven of the men are from so-called \"red-flagged\" countries, including Egypt, Turkey,\n",
      "Georgia, Pakistan and Mali. Her eighth husband, Rashid Rajput, was deported in 2006 to his native Pakistan after an\n",
      "investigation by the Joint Terrorism Task Force. If convicted, Barrientos faces up to four years in prison.  Her next\n",
      "court appearance is scheduled for May 18.\n",
      "\n",
      "[{'summary_text': 'Liana Barrientos, 39, is charged with two counts of \"offering a false instrument for filing in the first degree\" In total, she has been married 10 times, with nine of her marriages occurring between 1999 and 2002. She is believed to still be married to four men.'}]\n",
      "============================================== TEXT 2 ==============================================\n",
      "Stephen William Hawking (8 January 1942 – 14 March 2018) was an English theoretical physicist, cosmologist, and author\n",
      "who, at the time of his death, was director of research at the Centre for Theoretical Cosmology at the University of\n",
      "Cambridge.[6][17][18] Between 1979 and 2009, he was the Lucasian Professor of Mathematics at the University of\n",
      "Cambridge, widely viewed as one of the most prestigious academic posts in the world.[19] Hawking was born in Oxford into\n",
      "a family of physicians. In October 1959, at the age of 17, he began his university education at University College,\n",
      "Oxford, where he received a first-class BA degree in physics. In October 1962, he began his graduate work at Trinity\n",
      "Hall at the University of Cambridge where, in March 1966, he obtained his PhD degree in applied mathematics and\n",
      "theoretical physics, specialising in general relativity and cosmology. In 1963, at age 21, Hawking was diagnosed with an\n",
      "early-onset slow-progressing form of motor neurone disease that gradually, over decades, paralysed him.[20][21] After\n",
      "the loss of his speech, he communicated through a speech-generating device initially through use of a handheld switch,\n",
      "and eventually by using a single cheek muscle.[22] Hawking's scientific works included a collaboration with Roger\n",
      "Penrose on gravitational singularity theorems in the framework of general relativity, and the theoretical prediction\n",
      "that black holes emit radiation, often called Hawking radiation. Initially, Hawking radiation was controversial. By the\n",
      "late 1970s and following the publication of further research, the discovery was widely accepted as a major breakthrough\n",
      "in theoretical physics. Hawking was the first to set out a theory of cosmology explained by a union of the general\n",
      "theory of relativity and quantum mechanics. He was a vigorous supporter of the many-worlds interpretation of quantum\n",
      "mechanics.[23][24] Hawking achieved commercial success with several works of popular science in which he discussed his\n",
      "theories and cosmology in general. His book A Brief History of Time appeared on the Sunday Times bestseller list for a\n",
      "record-breaking 237 weeks. Hawking was a Fellow of the Royal Society, a lifetime member of the Pontifical Academy of\n",
      "Sciences, and a recipient of the Presidential Medal of Freedom, the highest civilian award in the United States. In\n",
      "2002, Hawking was ranked number 25 in the BBC's poll of the 100 Greatest Britons. He died in 2018 at the age of 76,\n",
      "after living with motor neurone disease for more than 50 years\n",
      "\n",
      "[{'summary_text': \"Stephen William Hawking (8 January 1942 – 14 March 2018) was an English theoretical physicist, cosmologist, and author. At the time of his death, he was director of research at the Centre for Theoretical Cosmology at the University of Cambridge. His scientific works included a collaboration with Roger Penrose on gravitational singularity theorems in the framework of general relativity, and the theoretical prediction that black holes emit radiation. His book A Brief History of Time appeared on the Sunday Times bestseller list for a record-breaking 237 weeks. In 2002, Hawking was ranked number 25 in the BBC's poll of the 100 Greatest Britons\"}]\n"
     ]
    }
   ],
   "source": [
    "for i, text in enumerate(texts, 1):\n",
    "    print(f' TEXT {i} '.center(100, '='))\n",
    "    print(text)\n",
    "    print()\n",
    "    print(summarizer(text, max_length=130, min_length=30, do_sample=False))"
   ]
  },
  {
   "cell_type": "markdown",
   "metadata": {},
   "source": [
    "This one looks good, although it doesn't rephrases context. It rather seems to select phrases."
   ]
  },
  {
   "cell_type": "markdown",
   "metadata": {
    "id": "uQpd7_SubmI4"
   },
   "source": [
    "## 2.6. Translation"
   ]
  },
  {
   "cell_type": "markdown",
   "metadata": {
    "id": "kvxsAQt1b5A2"
   },
   "source": [
    "Translation with [optimum/t5-small](https://huggingface.co/optimum/t5-small)"
   ]
  },
  {
   "cell_type": "code",
   "execution_count": null,
   "metadata": {},
   "outputs": [],
   "source": [
    "from transformers import AutoTokenizer, pipeline\n",
    "from optimum.onnxruntime import ORTModelForSeq2SeqLM\n",
    "\n",
    "tokenizer = AutoTokenizer.from_pretrained(\"optimum/t5-small\")\n",
    "model = ORTModelForSeq2SeqLM.from_pretrained(\"optimum/t5-small\")\n",
    "\n",
    "translator = pipeline(\"translation_en_to_fr\", model=model, tokenizer=tokenizer)"
   ]
  },
  {
   "cell_type": "code",
   "execution_count": null,
   "metadata": {},
   "outputs": [],
   "source": [
    "text_1 = 'My name is Eustache and I have a pet raccoon'\n",
    "text_2 = 'Tommorow I will go to work'\n",
    "text_3 = \"Yesterday it was my brother in law's birthday, but i didn't call\"\n",
    "\n",
    "texts = [text_1, texte_2, texte_3]"
   ]
  },
  {
   "cell_type": "code",
   "execution_count": null,
   "metadata": {},
   "outputs": [],
   "source": [
    "for i, text in enumerate(texts, 1):\n",
    "    print(f' TEXT {i} '.center(100, '='))\n",
    "    print(text)\n",
    "    print()\n",
    "    print(translator(text))"
   ]
  },
  {
   "cell_type": "markdown",
   "metadata": {
    "id": "sTP2mJbNbmPB"
   },
   "source": [
    "## 2.7. Language modeling"
   ]
  },
  {
   "cell_type": "code",
   "execution_count": null,
   "metadata": {
    "id": "QU3OS_J34lx8"
   },
   "outputs": [],
   "source": []
  },
  {
   "cell_type": "markdown",
   "metadata": {
    "id": "G4fmrzwIJmpS"
   },
   "source": [
    "# 3. Finetuning ενός προεκπαιδευμένου μοντέλου"
   ]
  },
  {
   "cell_type": "markdown",
   "metadata": {
    "id": "rPNST7zrKB9z"
   },
   "source": [
    "## 3.1. Επιλογή ενός Dataset"
   ]
  },
  {
   "cell_type": "markdown",
   "metadata": {
    "id": "M7xz0BnwWgiV"
   },
   "source": [
    "- [huggingface/datasets - github](https://github.com/huggingface/datasets/blob/2.13.0/README.md)\n",
    "- [huggingface/datasets - huggingface docs](https://huggingface.co/docs/datasets/v2.13.0/en/package_reference/loading_methods#datasets.load_dataset_builder)"
   ]
  },
  {
   "cell_type": "code",
   "execution_count": 2,
   "metadata": {
    "id": "r56pykaDJ_Ly"
   },
   "outputs": [],
   "source": [
    "from datasets import list_datasets, load_dataset, load_dataset_builder"
   ]
  },
  {
   "cell_type": "code",
   "execution_count": 3,
   "metadata": {
    "id": "HQ0F_pB-a9lX"
   },
   "outputs": [],
   "source": [
    "# DATASET = 'imdb'\n",
    "# DATASET = 'rotten_tomatoes'\n",
    "DATASET = ('glue', 'cola')"
   ]
  },
  {
   "cell_type": "markdown",
   "metadata": {
    "id": "I-lCPY-dX0yW"
   },
   "source": [
    "Define `builder`"
   ]
  },
  {
   "cell_type": "code",
   "execution_count": 4,
   "metadata": {
    "id": "u7hY-TnhV5UW"
   },
   "outputs": [],
   "source": [
    "ds_builder = load_dataset_builder(DATASET) if isinstance(DATASET, str) else load_dataset_builder(*DATASET)"
   ]
  },
  {
   "cell_type": "markdown",
   "metadata": {
    "id": "1o3uUDv1Z2EA"
   },
   "source": [
    "Inspect dataset with `builder` attributes"
   ]
  },
  {
   "cell_type": "code",
   "execution_count": 5,
   "metadata": {
    "colab": {
     "base_uri": "https://localhost:8080/"
    },
    "id": "EBCyBIEFXpkb",
    "outputId": "8e37526f-e007-4c5e-89b6-cbc289164a6a"
   },
   "outputs": [
    {
     "name": "stdout",
     "output_type": "stream",
     "text": [
      "================== DESCRIPTION ===================\n",
      "GLUE, the General Language Understanding Evaluation benchmark (https://gluebenchmark.com/) is a collection of resources\n",
      "for training, evaluating, and analyzing natural language understanding systems.\n",
      "\n",
      "==================== FEATURES ====================\n",
      "{'sentence': Value(dtype='string', id=None), 'label': ClassLabel(names=['unacceptable', 'acceptable'], id=None), 'idx': Value(dtype='int32', id=None)}\n"
     ]
    }
   ],
   "source": [
    "import textwrap\n",
    "\n",
    "wrapper = textwrap.TextWrapper(width=120)\n",
    "\n",
    "print(' DESCRIPTION '.center(50, '='))\n",
    "print(wrapper.fill(ds_builder.info.description))\n",
    "print()\n",
    "print(' FEATURES '.center(50, '='))\n",
    "print(ds_builder.info.features)"
   ]
  },
  {
   "cell_type": "markdown",
   "metadata": {
    "id": "iMKp2HY8bV2G"
   },
   "source": [
    "Downoad the data"
   ]
  },
  {
   "cell_type": "code",
   "execution_count": 69,
   "metadata": {
    "colab": {
     "base_uri": "https://localhost:8080/",
     "height": 87,
     "referenced_widgets": [
      "1dae58d415bd4043bd28362154ac69fb",
      "3b840187e16d40a8bc7930293688a13e",
      "1d0b63c6a0ae49ab90c554a403bf2494",
      "3bbfea718cc14ff7ac7804b432e4b73d",
      "9007e2bb41154d2b9002ab5def7840d0",
      "22d1256bfd52414b9255f92a23d2cb6b",
      "033bbe2f4f0240bcae74793417a2e6e6",
      "bee0cc5bfa214cc2853a0db0a25e0e0c",
      "f7df8068d6e74abbb9b5b7bab1b252c5",
      "6aeee305e84341e5861c2ede5006e57b",
      "fccc4e876cd64743bfbfa2b10a86fafb"
     ]
    },
    "id": "FT1DdKCwa1fY",
    "outputId": "8d8125b6-6029-49a1-e02d-b395bd8371db"
   },
   "outputs": [
    {
     "name": "stderr",
     "output_type": "stream",
     "text": [
      "Found cached dataset glue (C:/Users/akotr/.cache/huggingface/datasets/glue/cola/1.0.0/dacbe3125aa31d7f70367a07a8a9e72a5a0bfeb5fc42e75c9db75b96da6053ad)\n",
      "100%|████████████████████████████████████████████████████████████████████████████████████| 3/3 [00:00<00:00, 74.95it/s]\n"
     ]
    }
   ],
   "source": [
    "data = load_dataset(DATASET) if isinstance(DATASET, str) else load_dataset(*DATASET)"
   ]
  },
  {
   "cell_type": "code",
   "execution_count": 70,
   "metadata": {
    "colab": {
     "base_uri": "https://localhost:8080/"
    },
    "id": "n7UpAGO2bHsb",
    "outputId": "29beb736-9eab-43e2-bbb4-5c6a154ed851"
   },
   "outputs": [
    {
     "data": {
      "text/plain": [
       "DatasetDict({\n",
       "    train: Dataset({\n",
       "        features: ['sentence', 'label', 'idx'],\n",
       "        num_rows: 8551\n",
       "    })\n",
       "    validation: Dataset({\n",
       "        features: ['sentence', 'label', 'idx'],\n",
       "        num_rows: 1043\n",
       "    })\n",
       "    test: Dataset({\n",
       "        features: ['sentence', 'label', 'idx'],\n",
       "        num_rows: 1063\n",
       "    })\n",
       "})"
      ]
     },
     "execution_count": 70,
     "metadata": {},
     "output_type": "execute_result"
    }
   ],
   "source": [
    "data"
   ]
  },
  {
   "cell_type": "markdown",
   "metadata": {
    "id": "TM5duT6Wh3PT"
   },
   "source": [
    "[Split furthermore](https://discuss.huggingface.co/t/how-to-split-hugging-face-dataset-to-train-and-test/20885/4), the initial test data into ***test*** and ***validation*** if it is not already split"
   ]
  },
  {
   "cell_type": "code",
   "execution_count": 71,
   "metadata": {
    "colab": {
     "base_uri": "https://localhost:8080/"
    },
    "id": "OpcyC1zBdrDZ",
    "outputId": "4610f61c-b2a2-4364-d3c9-89d531f30e42"
   },
   "outputs": [
    {
     "name": "stdout",
     "output_type": "stream",
     "text": [
      "===================== TRAIN ======================\n",
      "Dataset({\n",
      "    features: ['sentence', 'label', 'idx'],\n",
      "    num_rows: 8551\n",
      "})\n",
      "====================== TEST ======================\n",
      "Dataset({\n",
      "    features: ['sentence', 'label', 'idx'],\n",
      "    num_rows: 1063\n",
      "})\n",
      "=================== VALIDATION ===================\n",
      "Dataset({\n",
      "    features: ['sentence', 'label', 'idx'],\n",
      "    num_rows: 1043\n",
      "})\n"
     ]
    }
   ],
   "source": [
    "### I test/validation sets are together, then split\n",
    "if 'test' in data and 'validation' not in data:\n",
    "    train = data['train']\n",
    "    test_val = data['test']\n",
    "    test_val = test_val.train_test_split(test_size=0.5)\n",
    "    test, val = test_val['train'], test_val['test']\n",
    "else:\n",
    "    train, test, val = data['train'], data['test'], data['validation']\n",
    "\n",
    "print(' TRAIN '.center(50, '='))\n",
    "print(train)\n",
    "print(' TEST '.center(50, '='))\n",
    "print(test)\n",
    "print(' VALIDATION '.center(50, '='))\n",
    "print(val)"
   ]
  },
  {
   "cell_type": "markdown",
   "metadata": {
    "id": "WrXdVp_mjBun"
   },
   "source": [
    "Inspect first row of **train** data"
   ]
  },
  {
   "cell_type": "code",
   "execution_count": 8,
   "metadata": {
    "colab": {
     "base_uri": "https://localhost:8080/"
    },
    "id": "TGk0lhr1xJq9",
    "outputId": "6a44d4c8-c201-4f53-f73a-955f35527e91"
   },
   "outputs": [
    {
     "data": {
      "text/plain": [
       "{'sentence': \"Our friends won't buy this analysis, let alone the next one we propose.\",\n",
       " 'label': 1,\n",
       " 'idx': 0}"
      ]
     },
     "execution_count": 8,
     "metadata": {},
     "output_type": "execute_result"
    }
   ],
   "source": [
    "next(iter(train))"
   ]
  },
  {
   "cell_type": "markdown",
   "metadata": {
    "id": "t9WWQ2W3Jsud"
   },
   "source": [
    "## 3.2. Preprocessing και Finetuning"
   ]
  },
  {
   "cell_type": "markdown",
   "metadata": {
    "id": "3m8S8E63u6xt"
   },
   "source": [
    "Define `tokenizer` ([`bert-base-cased`](https://huggingface.co/bert-base-cased))"
   ]
  },
  {
   "cell_type": "code",
   "execution_count": 19,
   "metadata": {
    "id": "Hr8m9dDKJ_5x"
   },
   "outputs": [],
   "source": [
    "from transformers import AutoTokenizer\n",
    "\n",
    "tknzr = AutoTokenizer.from_pretrained('bert-base-cased')"
   ]
  },
  {
   "cell_type": "markdown",
   "metadata": {
    "id": "57xAC5gLtU1q"
   },
   "source": [
    "Define a function to tokenize datasets\n",
    "\n",
    "- [According to the docs](https://huggingface.co/docs/transformers/pad_truncation#padding-and-truncation), *In most cases, padding your batch to the length of the longest sequence and truncating to the maximum length a model can accept works pretty well*, so we use `padding=True` and `truncate=True`\n",
    "- Tokenizer returns a `BatchEncoding`, so we convert that to a dict for compatibility with `Keras`\n",
    "\n",
    "See also\n",
    "- [Huggingface: Process Text Data](https://huggingface.co/docs/datasets/nlp_process)\n",
    "- [Train a Tensorflow model with `Keras`](https://huggingface.co/docs/transformers/training#train-a-tensorflow-model-with-keras)"
   ]
  },
  {
   "cell_type": "code",
   "execution_count": 72,
   "metadata": {
    "id": "HbC65JxQ_l-z"
   },
   "outputs": [],
   "source": [
    "import numpy as np\n",
    "\n",
    "text_label = 'text' if 'text' in train.features else 'sentence'\n",
    "\n",
    "f = lambda ds: (\n",
    "    dict(\n",
    "        tknzr(\n",
    "            ds[text_label],\n",
    "            return_tensors=\"np\",\n",
    "            padding=True,\n",
    "            truncation=True\n",
    "        )\n",
    "    ),\n",
    "    np.array(ds[\"label\"])\n",
    ")"
   ]
  },
  {
   "cell_type": "markdown",
   "metadata": {
    "id": "J0vw6kdX0Rfw"
   },
   "source": [
    "Tokenize datasets"
   ]
  },
  {
   "cell_type": "code",
   "execution_count": 25,
   "metadata": {
    "id": "dgXsn5CV_4sp"
   },
   "outputs": [],
   "source": [
    "train_tok_data, train_lbls = f(train)\n",
    "test_tok_data, test_lbls = f(test)\n",
    "val_tok_data, val_lbls = f(val)"
   ]
  },
  {
   "cell_type": "markdown",
   "metadata": {
    "id": "reYbiN6y6OO5"
   },
   "source": [
    "Inspect tokenized content/label of first instance of train dataset"
   ]
  },
  {
   "cell_type": "markdown",
   "metadata": {
    "id": "R0SrsxxfNWWe"
   },
   "source": [
    "Labels"
   ]
  },
  {
   "cell_type": "code",
   "execution_count": 12,
   "metadata": {
    "colab": {
     "base_uri": "https://localhost:8080/"
    },
    "id": "hhb6Lo_4L0aI",
    "outputId": "4bd77696-6de9-4f6b-b111-d2984288d15f"
   },
   "outputs": [
    {
     "name": "stdout",
     "output_type": "stream",
     "text": [
      "1\n"
     ]
    }
   ],
   "source": [
    "print(train_lbls[0])"
   ]
  },
  {
   "cell_type": "code",
   "execution_count": 13,
   "metadata": {
    "colab": {
     "base_uri": "https://localhost:8080/"
    },
    "id": "oOp_RsTK4AX2",
    "outputId": "0c2fa592-91ec-4654-f989-9396d95447f1"
   },
   "outputs": [
    {
     "data": {
      "text/plain": [
       "dict_keys(['input_ids', 'token_type_ids', 'attention_mask'])"
      ]
     },
     "execution_count": 13,
     "metadata": {},
     "output_type": "execute_result"
    }
   ],
   "source": [
    "train_tok_data.keys()"
   ]
  },
  {
   "cell_type": "markdown",
   "metadata": {
    "id": "4nOfFpLq9MSM"
   },
   "source": [
    "[Input ids](https://huggingface.co/docs/transformers/glossary#input-ids): The text tokens converted to ids in order to be understandable by the model"
   ]
  },
  {
   "cell_type": "code",
   "execution_count": 14,
   "metadata": {
    "colab": {
     "base_uri": "https://localhost:8080/"
    },
    "id": "2-djQvQY6cG0",
    "outputId": "c62c5e09-9675-4c6a-a683-c59097e7de96"
   },
   "outputs": [
    {
     "name": "stdout",
     "output_type": "stream",
     "text": [
      "[  101  3458  2053  1281   112   189  4417  1142  3622   117  1519  2041\n",
      "  1103  1397  1141  1195 17794   119   102     0]\n"
     ]
    }
   ],
   "source": [
    "print(train_tok_data['input_ids'][0][:20])"
   ]
  },
  {
   "cell_type": "markdown",
   "metadata": {
    "id": "oCHIifzk86LC"
   },
   "source": [
    "[Token type ids](https://huggingface.co/docs/transformers/glossary#token-type-ids): Token type IDs are represented as a binary mask identifying two types of sequence in the model. First sequence, the “context” is used for the question (all its tokens represented by a 0) and the second sequence, corresponds to the “question” (all its tokens represented by a 1). These two sequences are joined in a single “input_ids” entry and serve some models purpose to do classification on pairs of sentences or question answering."
   ]
  },
  {
   "cell_type": "code",
   "execution_count": 15,
   "metadata": {
    "colab": {
     "base_uri": "https://localhost:8080/"
    },
    "id": "Vp9fGuGS6cKY",
    "outputId": "b2c75e42-6980-4d35-9026-bc901ddf7634"
   },
   "outputs": [
    {
     "name": "stdout",
     "output_type": "stream",
     "text": [
      "[0 0 0 0 0 0 0 0 0 0 0 0 0 0 0 0 0 0 0 0]\n",
      "Unique: {0}\n"
     ]
    }
   ],
   "source": [
    "print(train_tok_data['token_type_ids'][0][:20])\n",
    "print(f\"Unique: {set(train_tok_data['token_type_ids'][0])}\")"
   ]
  },
  {
   "cell_type": "markdown",
   "metadata": {
    "id": "oPeodcVx9GLe"
   },
   "source": [
    "[Attention mask](https://huggingface.co/docs/transformers/glossary#attention-mask): A binary tensor indicating the position of the padded indices so that the model does not attend to them"
   ]
  },
  {
   "cell_type": "code",
   "execution_count": 16,
   "metadata": {
    "colab": {
     "base_uri": "https://localhost:8080/"
    },
    "id": "0tGf0kZn6imW",
    "outputId": "f7586bae-24e2-4282-8157-f46a78338748"
   },
   "outputs": [
    {
     "name": "stdout",
     "output_type": "stream",
     "text": [
      "[1 1 1 1 1 1 1 1 1 1 1 1 1 1 1 1 1 1 1 0]\n",
      "Unique: {0, 1}\n"
     ]
    }
   ],
   "source": [
    "print(train_tok_data['attention_mask'][0][:20])\n",
    "print(f\"Unique: {set(train_tok_data['attention_mask'][0][:20])}\")"
   ]
  },
  {
   "cell_type": "markdown",
   "metadata": {
    "id": "qBBSwKCs6kdh"
   },
   "source": [
    "Define and load the model"
   ]
  },
  {
   "cell_type": "code",
   "execution_count": 17,
   "metadata": {
    "colab": {
     "base_uri": "https://localhost:8080/"
    },
    "id": "uIZfCwST6iwo",
    "outputId": "bf0d1c84-3e95-45b8-dfe0-abe22a83132f"
   },
   "outputs": [
    {
     "name": "stderr",
     "output_type": "stream",
     "text": [
      "All PyTorch model weights were used when initializing TFBertForSequenceClassification.\n",
      "\n",
      "Some weights or buffers of the TF 2.0 model TFBertForSequenceClassification were not initialized from the PyTorch model and are newly initialized: ['classifier.weight', 'classifier.bias']\n",
      "You should probably TRAIN this model on a down-stream task to be able to use it for predictions and inference.\n"
     ]
    }
   ],
   "source": [
    "from transformers import TFAutoModelForSequenceClassification\n",
    "\n",
    "mymodel = TFAutoModelForSequenceClassification.from_pretrained('bert-base-cased')\n",
    "# mymodel_1 = TFAutoModelForSequenceClassification.from_pretrained('bert-base-cased')"
   ]
  },
  {
   "cell_type": "markdown",
   "metadata": {
    "id": "IPtLqEHQJ2rH"
   },
   "source": [
    "## 3.3. Finetuning"
   ]
  },
  {
   "cell_type": "markdown",
   "metadata": {
    "id": "Xyg7sBgxBjTI"
   },
   "source": [
    "Compile and fit the model"
   ]
  },
  {
   "cell_type": "code",
   "execution_count": 78,
   "metadata": {
    "id": "tdvqO2U1F0td"
   },
   "outputs": [],
   "source": [
    "# EPOCHS = 2\n",
    "EPOCHS = 10\n",
    "\n",
    "# PATIENCE = 2\n",
    "PATIENCE = 5\n",
    "\n",
    "BATCH_SIZE = 32\n",
    "\n",
    "# LEARNING_RATE = 0.01\n",
    "LEARNING_RATE = 0.001\n",
    "# LEARNING_RATE = 3e-5"
   ]
  },
  {
   "cell_type": "code",
   "execution_count": 19,
   "metadata": {
    "colab": {
     "base_uri": "https://localhost:8080/"
    },
    "id": "L_pqyqvPVZD8",
    "outputId": "8949330e-4763-4cc8-cb03-a67f80e3f326"
   },
   "outputs": [
    {
     "name": "stdout",
     "output_type": "stream",
     "text": [
      "Epoch 1/10\n",
      "268/268 [==============================] - 2507s 9s/step - loss: 10.5815 - accuracy: 0.5040 - val_loss: 10.6629 - val_accuracy: 0.6913\n",
      "Epoch 2/10\n",
      "268/268 [==============================] - 2457s 9s/step - loss: 10.8647 - accuracy: 0.5002 - val_loss: 10.6629 - val_accuracy: 0.6913\n",
      "Epoch 3/10\n",
      "268/268 [==============================] - 2464s 9s/step - loss: 10.8647 - accuracy: 0.4930 - val_loss: 10.6629 - val_accuracy: 0.6913\n",
      "Epoch 4/10\n",
      "268/268 [==============================] - 2490s 9s/step - loss: 10.8629 - accuracy: 0.4899 - val_loss: 10.6629 - val_accuracy: 0.6913\n",
      "Epoch 5/10\n",
      "268/268 [==============================] - 2493s 9s/step - loss: 10.8629 - accuracy: 0.4847 - val_loss: 10.6629 - val_accuracy: 0.6913\n",
      "Epoch 6/10\n",
      "268/268 [==============================] - 2486s 9s/step - loss: 10.8647 - accuracy: 0.4984 - val_loss: 10.6629 - val_accuracy: 0.6913\n"
     ]
    }
   ],
   "source": [
    "from keras.optimizers import Adam\n",
    "from keras.callbacks import EarlyStopping\n",
    "\n",
    "# Compile\n",
    "mymodel.compile(\n",
    "    loss='binary_crossentropy',\n",
    "    optimizer=Adam(\n",
    "            learning_rate=LEARNING_RATE,\n",
    "            beta_1=0.9,\n",
    "            beta_2=0.99\n",
    "        ),\n",
    "        metrics=['accuracy']\n",
    ")\n",
    "\n",
    "# Fit\n",
    "history = mymodel.fit(\n",
    "    train_tok_data,\n",
    "    train_lbls,\n",
    "    validation_data=[val_tok_data, val_lbls],\n",
    "    epochs=EPOCHS,\n",
    "    batch_size=BATCH_SIZE,\n",
    "    callbacks=[\n",
    "        EarlyStopping(\n",
    "            monitor='val_loss',\n",
    "            mode='min',\n",
    "            patience=PATIENCE\n",
    "        )\n",
    "    ]\n",
    ")\n",
    "\n"
   ]
  },
  {
   "cell_type": "code",
   "execution_count": 79,
   "metadata": {},
   "outputs": [
    {
     "name": "stdout",
     "output_type": "stream",
     "text": [
      "Epoch 1/2\n",
      "268/268 [==============================] - 2580s 10s/step - loss: 7.6921 - accuracy: 0.2956 - val_loss: 7.6854 - val_accuracy: 0.3087\n",
      "Epoch 2/2\n",
      "268/268 [==============================] - 2505s 9s/step - loss: 7.6865 - accuracy: 0.2956 - val_loss: 7.6854 - val_accuracy: 0.3087\n"
     ]
    }
   ],
   "source": [
    "from keras.optimizers import Adam\n",
    "from keras.callbacks import EarlyStopping\n",
    "\n",
    "# Compile\n",
    "mymodel_1.compile(\n",
    "    loss='binary_crossentropy',\n",
    "    optimizer=Adam(\n",
    "            learning_rate=LEARNING_RATE,\n",
    "            beta_1=0.9,\n",
    "            beta_2=0.99\n",
    "        ),\n",
    "        metrics=['accuracy']\n",
    ")\n",
    "\n",
    "# Fit\n",
    "history = mymodel_1.fit(\n",
    "    train_tok_data,\n",
    "    train_lbls,\n",
    "    validation_data=[val_tok_data, val_lbls],\n",
    "    epochs=EPOCHS,\n",
    "    batch_size=BATCH_SIZE,\n",
    "#     callbacks=[\n",
    "#         EarlyStopping(\n",
    "#             monitor='val_loss',\n",
    "#             mode='min',\n",
    "#             patience=PATIENCE\n",
    "#         )\n",
    "#     ]\n",
    ")\n",
    "\n"
   ]
  },
  {
   "cell_type": "markdown",
   "metadata": {
    "id": "el0MS8cnZbK8"
   },
   "source": [
    "Save and load the model if needed"
   ]
  },
  {
   "cell_type": "code",
   "execution_count": 94,
   "metadata": {
    "colab": {
     "base_uri": "https://localhost:8080/"
    },
    "id": "0K1PLJPvYcgd",
    "outputId": "557f9afc-fa39-4010-96ac-95b7643b07fc"
   },
   "outputs": [
    {
     "name": "stderr",
     "output_type": "stream",
     "text": [
      "WARNING:absl:Found untraced functions such as embeddings_layer_call_fn, embeddings_layer_call_and_return_conditional_losses, encoder_layer_call_fn, encoder_layer_call_and_return_conditional_losses, pooler_layer_call_fn while saving (showing 5 of 420). These functions will not be directly callable after loading.\n"
     ]
    },
    {
     "name": "stdout",
     "output_type": "stream",
     "text": [
      "INFO:tensorflow:Assets written to: model\\assets\n"
     ]
    },
    {
     "name": "stderr",
     "output_type": "stream",
     "text": [
      "INFO:tensorflow:Assets written to: model\\assets\n"
     ]
    }
   ],
   "source": [
    "from tensorflow.keras.models import save_model\n",
    "\n",
    "save_model(mymodel, 'model')\n",
    "# save_model(mymodel_1, 'model')"
   ]
  },
  {
   "cell_type": "code",
   "execution_count": 16,
   "metadata": {
    "colab": {
     "base_uri": "https://localhost:8080/",
     "height": 162
    },
    "id": "Dd6ewL5tE-Gl",
    "outputId": "6c84c1ed-cfbf-4d3a-cbfd-8e156daa7915"
   },
   "outputs": [],
   "source": [
    "from tensorflow.keras.models import load_model\n",
    "mymodel = load_model('model')"
   ]
  },
  {
   "cell_type": "markdown",
   "metadata": {
    "id": "EjbfFwO4J6jo"
   },
   "source": [
    "## 3.4. Αξιολόγηση"
   ]
  },
  {
   "cell_type": "code",
   "execution_count": 6,
   "metadata": {
    "id": "FQIiAMPZrczD"
   },
   "outputs": [],
   "source": [
    "import keras\n",
    "import matplotlib.pyplot as plt\n",
    "import pandas as pd\n",
    "from sklearn import metrics\n",
    "import seaborn as sns\n",
    "\n",
    "sns.set_theme()\n",
    "%matplotlib inline"
   ]
  },
  {
   "cell_type": "markdown",
   "metadata": {
    "id": "4-ivb68wCdei"
   },
   "source": [
    "### 3.4.0 Βοηθητικές συναρτήσεις"
   ]
  },
  {
   "cell_type": "markdown",
   "metadata": {
    "id": "X3ChxOhSeOQr"
   },
   "source": [
    "For the model evaluation we define the following functions:\n",
    "- `y_y_pred_from_ds` to get labels and predictions from dataset with a model\n",
    "- `clf_report` to convert make the classification report string\n",
    "- `clf_report_do_df` to convert the classification report string to a `DataFrame` for display purposes\n",
    "- `confusion_matrix_report` to plot the confusion matrix and return it\n",
    "- `stats_from_confusion_matrix` to calculate stats from the confusion matrix independently of the classification report"
   ]
  },
  {
   "cell_type": "code",
   "execution_count": 26,
   "metadata": {
    "id": "miR7IQ8KrcuI"
   },
   "outputs": [
    {
     "name": "stdout",
     "output_type": "stream",
     "text": [
      "['unacceptable', 'acceptable']\n"
     ]
    }
   ],
   "source": [
    "CLASS_NAMES = ds_builder.info.features.get('label').names\n",
    "NUM_CLASSES = len(CLASS_NAMES)\n",
    "DATASETS_DICT = {'train':[train_tok_data, val_lbls], 'test':[test_tok_data, test_lbls], 'val':[val_tok_data, val_lbls]}\n",
    "\n",
    "print(CLASS_NAMES)"
   ]
  },
  {
   "cell_type": "code",
   "execution_count": 27,
   "metadata": {
    "id": "PIvu3UYXeRth"
   },
   "outputs": [],
   "source": [
    "def clf_report(model, subset, digits=5):\n",
    "    '''Makes Classification Report and returns it'''\n",
    "\n",
    "    ds = DATASETS_DICT[subset] if isinstance(subset, str) else subset\n",
    "    y, y_pred = y_y_pred_from_ds(ds, model)\n",
    "\n",
    "    # Classification report\n",
    "    return metrics.classification_report(\n",
    "        y,\n",
    "        y_pred,\n",
    "        target_names=CLASS_NAMES,\n",
    "        digits=digits\n",
    "    )"
   ]
  },
  {
   "cell_type": "code",
   "execution_count": 28,
   "metadata": {
    "id": "MlP8dlNoePIR"
   },
   "outputs": [],
   "source": [
    "def clf_report_to_df(txt):\n",
    "    '''Convert classification report to DataFrame'''\n",
    "\n",
    "    txt = txt.strip().replace('\\n\\n', '\\n')\n",
    "    txt = [ln.strip() for ln in txt.split('\\n')]\n",
    "    lines = []\n",
    "    for ln in txt:\n",
    "        if ln.startswith('accuracy'):\n",
    "            line = ln.split()\n",
    "            line.insert(1,'')\n",
    "            line.insert(1,'')\n",
    "        elif ln.startswith('precision'):\n",
    "            line = ln.split()\n",
    "            line.insert(0,'classes/agg')\n",
    "        elif 'avg' in ln:\n",
    "            line = ln.replace(' avg','-avg').split()\n",
    "        else:\n",
    "            line = ln.split()\n",
    "        lines.append(line)\n",
    "\n",
    "    return pd.DataFrame(data=lines[1:], columns=lines[0]).set_index('classes/agg')"
   ]
  },
  {
   "cell_type": "code",
   "execution_count": 29,
   "metadata": {
    "id": "OQGiNMn85A-B"
   },
   "outputs": [],
   "source": [
    "def stats_from_confusion_matrix(cm):\n",
    "    '''Calculate stats from Confusion Matrix'''\n",
    "\n",
    "    import warnings\n",
    "    warnings.filterwarnings('ignore')\n",
    "\n",
    "    # Convert Confusion Matrix to DataFrame\n",
    "    df = pd.DataFrame(cm, columns=CLASS_NAMES, index=CLASS_NAMES)\n",
    "    df.columns.name = 'Predicted'\n",
    "    df.index.name = 'Actual'\n",
    "\n",
    "    # Accuracy\n",
    "    acc = df.mul(np.eye(len(df))).sum().sum() / df.sum().sum()\n",
    "    precisions, recalls, fscores = [], [], []\n",
    "    print(f' Per Class '.center(50, '='))\n",
    "    for cls in CLASS_NAMES:\n",
    "        print(f'Class `{cls}`')\n",
    "        tp = df.loc[cls,cls]            # Class TP\n",
    "        fp = df.loc[:,cls].sum() - tp   # Class FP\n",
    "        fn = df.loc[cls,:].sum() - tp   # Class FN\n",
    "        # Class Precision\n",
    "        try:\n",
    "            pr = tp / (tp + fp)\n",
    "        except:\n",
    "            pr = 0\n",
    "        else:\n",
    "            if pd.isnull(pr):\n",
    "                pr = 0\n",
    "        # Class Recall\n",
    "        try:\n",
    "            rc = tp / (tp + fn)\n",
    "        except:\n",
    "            rc = 0\n",
    "        else:\n",
    "            if pd.isnull(rc):\n",
    "                rc = 0\n",
    "        # Class FScore\n",
    "        try:\n",
    "            1 / pr\n",
    "            1 / rc\n",
    "        except:\n",
    "            fsc = 0\n",
    "        else:\n",
    "            fsc = 2 * pr * rc / (pr + rc)\n",
    "            if pd.isnull(fsc):\n",
    "                fsc = 0\n",
    "        precisions.append(pr)\n",
    "        recalls.append(rc)\n",
    "        fscores.append(fsc)\n",
    "        print(f'\\tPrecision: {pr:.5f}')\n",
    "        print(f'\\tRecall: {rc:.5f}')\n",
    "        print(f'\\tFScore: {fsc:.5f}')\n",
    "    print(f' Overall '.center(50, '='))\n",
    "    print(f'Accuracy: {acc:.5f}')\n",
    "    print(f'Precision: {sum(precisions)/len(precisions):.5f}')\n",
    "    print(f'Recall: {sum(recalls)/len(recalls):.5f}')\n",
    "    print(f'FScore: {sum(fscores)/len(fscores):.5f}')"
   ]
  },
  {
   "cell_type": "code",
   "execution_count": 30,
   "metadata": {
    "id": "tVbwsZNC3WoF"
   },
   "outputs": [],
   "source": [
    "def confusion_matrix_report(model, subset):\n",
    "    '''plot Confusion Matrix and return it'''\n",
    "\n",
    "    ds = DATASETS_DICT[subset] if isinstance(subset, str) else subset\n",
    "    y, y_pred = y_y_pred_from_ds(ds, model)\n",
    "\n",
    "    # Confusion Matrix\n",
    "    fig, ax = plt.subplots(figsize=(6,4))\n",
    "    ax.grid(False)\n",
    "    cm = metrics.confusion_matrix(y, y_pred)\n",
    "    cmp = metrics.ConfusionMatrixDisplay(cm, display_labels=CLASS_NAMES)\n",
    "    cmp.plot(ax=ax, xticks_rotation=45)\n",
    "    plt.show()\n",
    "    return cm"
   ]
  },
  {
   "cell_type": "code",
   "execution_count": 38,
   "metadata": {
    "id": "jLggUkWz3i-A"
   },
   "outputs": [],
   "source": [
    "def y_y_pred_from_ds(ds, model):\n",
    "    '''Get labels and predictions from dataset using model\n",
    "       ds can be a dataset or a list of the form [X, y]\n",
    "    '''\n",
    "    if not isinstance(ds, list):\n",
    "        y_pred, y = [], []\n",
    "        for feature, label in ds:\n",
    "            y_pred.extend(model.predict(feature))\n",
    "            y.extend(label.numpy())\n",
    "    else:\n",
    "        X, y = ds\n",
    "        y_pred = model.predict(X)\n",
    "        \n",
    "    # Transform labels to class names\n",
    "    y = [CLASS_NAMES[x] for x in y]\n",
    "    logits = np.argmax(y_pred.logits if not isinstance(y_pred, dict) else y_pred.get('logits'), axis=1) \n",
    "    y_pred = [CLASS_NAMES[x] for x in logits]\n",
    "    return y, y_pred"
   ]
  },
  {
   "cell_type": "markdown",
   "metadata": {
    "id": "4z0C724VzAj0"
   },
   "source": [
    "### 3.2.1. ***Validation*** dataset"
   ]
  },
  {
   "cell_type": "code",
   "execution_count": 40,
   "metadata": {},
   "outputs": [
    {
     "name": "stdout",
     "output_type": "stream",
     "text": [
      "33/33 [==============================] - 67s 2s/step\n"
     ]
    },
    {
     "data": {
      "image/png": "[encoded data removed]",
      "text/plain": [
       "<Figure size 600x400 with 2 Axes>"
      ]
     },
     "metadata": {},
     "output_type": "display_data"
    },
    {
     "name": "stdout",
     "output_type": "stream",
     "text": [
      "=================== Per Class ====================\n",
      "Class `unacceptable`\n",
      "\tPrecision: 0.69128\n",
      "\tRecall: 1.00000\n",
      "\tFScore: 0.81746\n",
      "Class `acceptable`\n",
      "\tPrecision: 0.00000\n",
      "\tRecall: 0.00000\n",
      "\tFScore: 0.00000\n",
      "==================== Overall =====================\n",
      "Accuracy: 0.69128\n",
      "Precision: 0.34564\n",
      "Recall: 0.50000\n",
      "FScore: 0.40873\n"
     ]
    }
   ],
   "source": [
    "stats_from_confusion_matrix(confusion_matrix_report(mymodel, 'val'))"
   ]
  },
  {
   "cell_type": "markdown",
   "metadata": {},
   "source": [
    "We can also calculate stats directly from `sklearn.metrics.classification_report`"
   ]
  },
  {
   "cell_type": "code",
   "execution_count": 42,
   "metadata": {},
   "outputs": [
    {
     "name": "stdout",
     "output_type": "stream",
     "text": [
      "33/33 [==============================] - 66s 2s/step\n"
     ]
    },
    {
     "data": {
      "text/html": [
       "<div>\n",
       "<style scoped>\n",
       "    .dataframe tbody tr th:only-of-type {\n",
       "        vertical-align: middle;\n",
       "    }\n",
       "\n",
       "    .dataframe tbody tr th {\n",
       "        vertical-align: top;\n",
       "    }\n",
       "\n",
       "    .dataframe thead th {\n",
       "        text-align: right;\n",
       "    }\n",
       "</style>\n",
       "<table border=\"1\" class=\"dataframe\">\n",
       "  <thead>\n",
       "    <tr style=\"text-align: right;\">\n",
       "      <th></th>\n",
       "      <th>precision</th>\n",
       "      <th>recall</th>\n",
       "      <th>f1-score</th>\n",
       "      <th>support</th>\n",
       "    </tr>\n",
       "    <tr>\n",
       "      <th>classes/agg</th>\n",
       "      <th></th>\n",
       "      <th></th>\n",
       "      <th></th>\n",
       "      <th></th>\n",
       "    </tr>\n",
       "  </thead>\n",
       "  <tbody>\n",
       "    <tr>\n",
       "      <th>unacceptable</th>\n",
       "      <td>0.69128</td>\n",
       "      <td>1.00000</td>\n",
       "      <td>0.81746</td>\n",
       "      <td>721</td>\n",
       "    </tr>\n",
       "    <tr>\n",
       "      <th>acceptable</th>\n",
       "      <td>0.00000</td>\n",
       "      <td>0.00000</td>\n",
       "      <td>0.00000</td>\n",
       "      <td>322</td>\n",
       "    </tr>\n",
       "    <tr>\n",
       "      <th>accuracy</th>\n",
       "      <td></td>\n",
       "      <td></td>\n",
       "      <td>0.69128</td>\n",
       "      <td>1043</td>\n",
       "    </tr>\n",
       "    <tr>\n",
       "      <th>macro-avg</th>\n",
       "      <td>0.34564</td>\n",
       "      <td>0.50000</td>\n",
       "      <td>0.40873</td>\n",
       "      <td>1043</td>\n",
       "    </tr>\n",
       "    <tr>\n",
       "      <th>weighted-avg</th>\n",
       "      <td>0.47786</td>\n",
       "      <td>0.69128</td>\n",
       "      <td>0.56509</td>\n",
       "      <td>1043</td>\n",
       "    </tr>\n",
       "  </tbody>\n",
       "</table>\n",
       "</div>"
      ],
      "text/plain": [
       "             precision   recall f1-score support\n",
       "classes/agg                                     \n",
       "unacceptable   0.69128  1.00000  0.81746     721\n",
       "acceptable     0.00000  0.00000  0.00000     322\n",
       "accuracy                         0.69128    1043\n",
       "macro-avg      0.34564  0.50000  0.40873    1043\n",
       "weighted-avg   0.47786  0.69128  0.56509    1043"
      ]
     },
     "execution_count": 42,
     "metadata": {},
     "output_type": "execute_result"
    }
   ],
   "source": [
    "clf_report_to_df(clf_report(mymodel, 'val'))"
   ]
  },
  {
   "cell_type": "markdown",
   "metadata": {},
   "source": [
    "Unfortunatelly with all combinations I tried concerning\n",
    "- the data input `truncation`, `padding`,\n",
    "- the finetuning paramaters *learning rate*, *epochs*, *batch_size*, *callbacks* | *patience*,\n",
    "\n",
    "the model gives the same predictions, either the posistive or the negative and I couldn't resolve this issue\n",
    "\n",
    "Conversations about this situation\n",
    "- [SO](https://stackoverflow.com/questions/64675655/bert-always-predicts-same-class-fine-tuning)\n",
    "- [Github](https://github.com/ThilinaRajapakse/simpletransformers/issues/234)"
   ]
  },
  {
   "cell_type": "markdown",
   "metadata": {
    "id": "pU122xBWKBLB"
   },
   "source": [
    "# References"
   ]
  },
  {
   "cell_type": "markdown",
   "metadata": {
    "id": "sCvbO7EkKLjw"
   },
   "source": [
    "- [`transformers` instructions](https://huggingface.co/docs/transformers/installation)\n",
    "- [huggingface/datasets installation - github](https://github.com/huggingface/datasets/blob/2.13.0/README.md)\n",
    "- [Huggingface Tasks](https://huggingface.co/tasks)\n",
    "- [`bert-base-cased`](https://huggingface.co/bert-base-cased)\n",
    "- [Huggingface: Process Text Data](https://huggingface.co/docs/datasets/nlp_process)\n",
    "- [Huggingface Glossary](https://huggingface.co/docs/transformers/glossary)\n",
    "- [`TFAutoModelForSequenceClassification`](https://huggingface.co/transformers/v3.0.2/model_doc/auto.html#tfautomodelforsequenceclassification)\n",
    "- [Fine tune a pretrained model](https://huggingface.co/docs/transformers/training#finetune-a-pretrained-model)\n",
    "- [Transformer Notebooks](https://huggingface.co/docs/transformers/notebooks)\n",
    "- [Text Classification with `Tensorflow`](https://github.com/huggingface/notebooks/blob/main/examples/text_classification-tf.ipynb)"
   ]
  }
 ],
 "metadata": {
  "accelerator": "GPU",
  "colab": {
   "collapsed_sections": [
    "1L8UheqmKTeD",
    "ZakG5o6oKg_k",
    "pa5aaGac3yC-",
    "S5s3bhTlbl2S",
    "GI8vPsLxbmBy",
    "uQpd7_SubmI4",
    "sTP2mJbNbmPB"
   ],
   "gpuType": "T4",
   "provenance": []
  },
  "kernelspec": {
   "display_name": "dit244-3",
   "language": "python",
   "name": "dit244-3"
  },
  "language_info": {
   "codemirror_mode": {
    "name": "ipython",
    "version": 3
   },
   "file_extension": ".py",
   "mimetype": "text/x-python",
   "name": "python",
   "nbconvert_exporter": "python",
   "pygments_lexer": "ipython3",
   "version": "3.10.9"
  },
  "widgets": {
   "application/vnd.jupyter.widget-state+json": {
    "033bbe2f4f0240bcae74793417a2e6e6": {
     "model_module": "@jupyter-widgets/controls",
     "model_module_version": "1.5.0",
     "model_name": "DescriptionStyleModel",
     "state": {
      "_model_module": "@jupyter-widgets/controls",
      "_model_module_version": "1.5.0",
      "_model_name": "DescriptionStyleModel",
      "_view_count": null,
      "_view_module": "@jupyter-widgets/base",
      "_view_module_version": "1.2.0",
      "_view_name": "StyleView",
      "description_width": ""
     }
    },
    "097909d81f134fc3a730d88a74d178e6": {
     "model_module": "@jupyter-widgets/controls",
     "model_module_version": "1.5.0",
     "model_name": "FloatProgressModel",
     "state": {
      "_dom_classes": [],
      "_model_module": "@jupyter-widgets/controls",
      "_model_module_version": "1.5.0",
      "_model_name": "FloatProgressModel",
      "_view_count": null,
      "_view_module": "@jupyter-widgets/controls",
      "_view_module_version": "1.5.0",
      "_view_name": "ProgressView",
      "bar_style": "success",
      "description": "",
      "description_tooltip": null,
      "layout": "IPY_MODEL_b083d9851182487f8e79914b68b8a6ec",
      "max": 1629437147,
      "min": 0,
      "orientation": "horizontal",
      "style": "IPY_MODEL_b49fbca47d244c86b69eeac16794a607",
      "value": 1629437147
     }
    },
    "0a6c645193f347f58ceeada3ac8334e2": {
     "model_module": "@jupyter-widgets/base",
     "model_module_version": "1.2.0",
     "model_name": "LayoutModel",
     "state": {
      "_model_module": "@jupyter-widgets/base",
      "_model_module_version": "1.2.0",
      "_model_name": "LayoutModel",
      "_view_count": null,
      "_view_module": "@jupyter-widgets/base",
      "_view_module_version": "1.2.0",
      "_view_name": "LayoutView",
      "align_content": null,
      "align_items": null,
      "align_self": null,
      "border": null,
      "bottom": null,
      "display": null,
      "flex": null,
      "flex_flow": null,
      "grid_area": null,
      "grid_auto_columns": null,
      "grid_auto_flow": null,
      "grid_auto_rows": null,
      "grid_column": null,
      "grid_gap": null,
      "grid_row": null,
      "grid_template_areas": null,
      "grid_template_columns": null,
      "grid_template_rows": null,
      "height": null,
      "justify_content": null,
      "justify_items": null,
      "left": null,
      "margin": null,
      "max_height": null,
      "max_width": null,
      "min_height": null,
      "min_width": null,
      "object_fit": null,
      "object_position": null,
      "order": null,
      "overflow": null,
      "overflow_x": null,
      "overflow_y": null,
      "padding": null,
      "right": null,
      "top": null,
      "visibility": null,
      "width": null
     }
    },
    "0fe60eddde794df88c4b862ae5c1d64f": {
     "model_module": "@jupyter-widgets/controls",
     "model_module_version": "1.5.0",
     "model_name": "DescriptionStyleModel",
     "state": {
      "_model_module": "@jupyter-widgets/controls",
      "_model_module_version": "1.5.0",
      "_model_name": "DescriptionStyleModel",
      "_view_count": null,
      "_view_module": "@jupyter-widgets/base",
      "_view_module_version": "1.2.0",
      "_view_name": "StyleView",
      "description_width": ""
     }
    },
    "1327857656664b5a9c63ff1f89b2c5e7": {
     "model_module": "@jupyter-widgets/base",
     "model_module_version": "1.2.0",
     "model_name": "LayoutModel",
     "state": {
      "_model_module": "@jupyter-widgets/base",
      "_model_module_version": "1.2.0",
      "_model_name": "LayoutModel",
      "_view_count": null,
      "_view_module": "@jupyter-widgets/base",
      "_view_module_version": "1.2.0",
      "_view_name": "LayoutView",
      "align_content": null,
      "align_items": null,
      "align_self": null,
      "border": null,
      "bottom": null,
      "display": null,
      "flex": null,
      "flex_flow": null,
      "grid_area": null,
      "grid_auto_columns": null,
      "grid_auto_flow": null,
      "grid_auto_rows": null,
      "grid_column": null,
      "grid_gap": null,
      "grid_row": null,
      "grid_template_areas": null,
      "grid_template_columns": null,
      "grid_template_rows": null,
      "height": null,
      "justify_content": null,
      "justify_items": null,
      "left": null,
      "margin": null,
      "max_height": null,
      "max_width": null,
      "min_height": null,
      "min_width": null,
      "object_fit": null,
      "object_position": null,
      "order": null,
      "overflow": null,
      "overflow_x": null,
      "overflow_y": null,
      "padding": null,
      "right": null,
      "top": null,
      "visibility": null,
      "width": null
     }
    },
    "161332eb79864fd5877d34eb57406651": {
     "model_module": "@jupyter-widgets/base",
     "model_module_version": "1.2.0",
     "model_name": "LayoutModel",
     "state": {
      "_model_module": "@jupyter-widgets/base",
      "_model_module_version": "1.2.0",
      "_model_name": "LayoutModel",
      "_view_count": null,
      "_view_module": "@jupyter-widgets/base",
      "_view_module_version": "1.2.0",
      "_view_name": "LayoutView",
      "align_content": null,
      "align_items": null,
      "align_self": null,
      "border": null,
      "bottom": null,
      "display": null,
      "flex": null,
      "flex_flow": null,
      "grid_area": null,
      "grid_auto_columns": null,
      "grid_auto_flow": null,
      "grid_auto_rows": null,
      "grid_column": null,
      "grid_gap": null,
      "grid_row": null,
      "grid_template_areas": null,
      "grid_template_columns": null,
      "grid_template_rows": null,
      "height": null,
      "justify_content": null,
      "justify_items": null,
      "left": null,
      "margin": null,
      "max_height": null,
      "max_width": null,
      "min_height": null,
      "min_width": null,
      "object_fit": null,
      "object_position": null,
      "order": null,
      "overflow": null,
      "overflow_x": null,
      "overflow_y": null,
      "padding": null,
      "right": null,
      "top": null,
      "visibility": null,
      "width": null
     }
    },
    "1d0b63c6a0ae49ab90c554a403bf2494": {
     "model_module": "@jupyter-widgets/controls",
     "model_module_version": "1.5.0",
     "model_name": "FloatProgressModel",
     "state": {
      "_dom_classes": [],
      "_model_module": "@jupyter-widgets/controls",
      "_model_module_version": "1.5.0",
      "_model_name": "FloatProgressModel",
      "_view_count": null,
      "_view_module": "@jupyter-widgets/controls",
      "_view_module_version": "1.5.0",
      "_view_name": "ProgressView",
      "bar_style": "success",
      "description": "",
      "description_tooltip": null,
      "layout": "IPY_MODEL_bee0cc5bfa214cc2853a0db0a25e0e0c",
      "max": 3,
      "min": 0,
      "orientation": "horizontal",
      "style": "IPY_MODEL_f7df8068d6e74abbb9b5b7bab1b252c5",
      "value": 3
     }
    },
    "1dae58d415bd4043bd28362154ac69fb": {
     "model_module": "@jupyter-widgets/controls",
     "model_module_version": "1.5.0",
     "model_name": "HBoxModel",
     "state": {
      "_dom_classes": [],
      "_model_module": "@jupyter-widgets/controls",
      "_model_module_version": "1.5.0",
      "_model_name": "HBoxModel",
      "_view_count": null,
      "_view_module": "@jupyter-widgets/controls",
      "_view_module_version": "1.5.0",
      "_view_name": "HBoxView",
      "box_style": "",
      "children": [
       "IPY_MODEL_3b840187e16d40a8bc7930293688a13e",
       "IPY_MODEL_1d0b63c6a0ae49ab90c554a403bf2494",
       "IPY_MODEL_3bbfea718cc14ff7ac7804b432e4b73d"
      ],
      "layout": "IPY_MODEL_9007e2bb41154d2b9002ab5def7840d0"
     }
    },
    "22d1256bfd52414b9255f92a23d2cb6b": {
     "model_module": "@jupyter-widgets/base",
     "model_module_version": "1.2.0",
     "model_name": "LayoutModel",
     "state": {
      "_model_module": "@jupyter-widgets/base",
      "_model_module_version": "1.2.0",
      "_model_name": "LayoutModel",
      "_view_count": null,
      "_view_module": "@jupyter-widgets/base",
      "_view_module_version": "1.2.0",
      "_view_name": "LayoutView",
      "align_content": null,
      "align_items": null,
      "align_self": null,
      "border": null,
      "bottom": null,
      "display": null,
      "flex": null,
      "flex_flow": null,
      "grid_area": null,
      "grid_auto_columns": null,
      "grid_auto_flow": null,
      "grid_auto_rows": null,
      "grid_column": null,
      "grid_gap": null,
      "grid_row": null,
      "grid_template_areas": null,
      "grid_template_columns": null,
      "grid_template_rows": null,
      "height": null,
      "justify_content": null,
      "justify_items": null,
      "left": null,
      "margin": null,
      "max_height": null,
      "max_width": null,
      "min_height": null,
      "min_width": null,
      "object_fit": null,
      "object_position": null,
      "order": null,
      "overflow": null,
      "overflow_x": null,
      "overflow_y": null,
      "padding": null,
      "right": null,
      "top": null,
      "visibility": null,
      "width": null
     }
    },
    "25701aea28c34078800c010c94587c43": {
     "model_module": "@jupyter-widgets/controls",
     "model_module_version": "1.5.0",
     "model_name": "FloatProgressModel",
     "state": {
      "_dom_classes": [],
      "_model_module": "@jupyter-widgets/controls",
      "_model_module_version": "1.5.0",
      "_model_name": "FloatProgressModel",
      "_view_count": null,
      "_view_module": "@jupyter-widgets/controls",
      "_view_module_version": "1.5.0",
      "_view_name": "ProgressView",
      "bar_style": "success",
      "description": "",
      "description_tooltip": null,
      "layout": "IPY_MODEL_875f321454af49ea8e22c46b718efb7d",
      "max": 456318,
      "min": 0,
      "orientation": "horizontal",
      "style": "IPY_MODEL_8acb544f5bfd4bebb2ebda4d54db2fae",
      "value": 456318
     }
    },
    "26a43481ed6b47be90d0d14e09f9636b": {
     "model_module": "@jupyter-widgets/controls",
     "model_module_version": "1.5.0",
     "model_name": "HTMLModel",
     "state": {
      "_dom_classes": [],
      "_model_module": "@jupyter-widgets/controls",
      "_model_module_version": "1.5.0",
      "_model_name": "HTMLModel",
      "_view_count": null,
      "_view_module": "@jupyter-widgets/controls",
      "_view_module_version": "1.5.0",
      "_view_name": "HTMLView",
      "description": "",
      "description_tooltip": null,
      "layout": "IPY_MODEL_91310013b1d84bd68b16ea3a9734fa2a",
      "placeholder": "​",
      "style": "IPY_MODEL_437000556a5b4b18aa7b6529ba339c21",
      "value": " 1.63G/1.63G [00:31&lt;00:00, 60.8MB/s]"
     }
    },
    "2ee37338ec9b48e99730ed621242299c": {
     "model_module": "@jupyter-widgets/controls",
     "model_module_version": "1.5.0",
     "model_name": "HTMLModel",
     "state": {
      "_dom_classes": [],
      "_model_module": "@jupyter-widgets/controls",
      "_model_module_version": "1.5.0",
      "_model_name": "HTMLModel",
      "_view_count": null,
      "_view_module": "@jupyter-widgets/controls",
      "_view_module_version": "1.5.0",
      "_view_name": "HTMLView",
      "description": "",
      "description_tooltip": null,
      "layout": "IPY_MODEL_e8aa850926914cc5a776b5298668bbf3",
      "placeholder": "​",
      "style": "IPY_MODEL_656c176180514140bc89a2ed98bf8ca4",
      "value": "Downloading (…)olve/main/vocab.json: 100%"
     }
    },
    "35f3ff3850094a26adbd9c129a7ef19e": {
     "model_module": "@jupyter-widgets/controls",
     "model_module_version": "1.5.0",
     "model_name": "HTMLModel",
     "state": {
      "_dom_classes": [],
      "_model_module": "@jupyter-widgets/controls",
      "_model_module_version": "1.5.0",
      "_model_name": "HTMLModel",
      "_view_count": null,
      "_view_module": "@jupyter-widgets/controls",
      "_view_module_version": "1.5.0",
      "_view_name": "HTMLView",
      "description": "",
      "description_tooltip": null,
      "layout": "IPY_MODEL_a572ae0037614c84ac973b8a4b61cd5f",
      "placeholder": "​",
      "style": "IPY_MODEL_39d9425be8e2408c934d13060e63d20b",
      "value": " 1.15k/1.15k [00:00&lt;00:00, 55.6kB/s]"
     }
    },
    "39d9425be8e2408c934d13060e63d20b": {
     "model_module": "@jupyter-widgets/controls",
     "model_module_version": "1.5.0",
     "model_name": "DescriptionStyleModel",
     "state": {
      "_model_module": "@jupyter-widgets/controls",
      "_model_module_version": "1.5.0",
      "_model_name": "DescriptionStyleModel",
      "_view_count": null,
      "_view_module": "@jupyter-widgets/base",
      "_view_module_version": "1.2.0",
      "_view_name": "StyleView",
      "description_width": ""
     }
    },
    "3a490695afb34265b48ea77d93aa124d": {
     "model_module": "@jupyter-widgets/controls",
     "model_module_version": "1.5.0",
     "model_name": "HTMLModel",
     "state": {
      "_dom_classes": [],
      "_model_module": "@jupyter-widgets/controls",
      "_model_module_version": "1.5.0",
      "_model_name": "HTMLModel",
      "_view_count": null,
      "_view_module": "@jupyter-widgets/controls",
      "_view_module_version": "1.5.0",
      "_view_name": "HTMLView",
      "description": "",
      "description_tooltip": null,
      "layout": "IPY_MODEL_dc8863910dcf4a49a6bd33559f60ceb4",
      "placeholder": "​",
      "style": "IPY_MODEL_7619e7f07d5b43c68f9010ac0625945a",
      "value": "Downloading (…)olve/main/merges.txt: 100%"
     }
    },
    "3b840187e16d40a8bc7930293688a13e": {
     "model_module": "@jupyter-widgets/controls",
     "model_module_version": "1.5.0",
     "model_name": "HTMLModel",
     "state": {
      "_dom_classes": [],
      "_model_module": "@jupyter-widgets/controls",
      "_model_module_version": "1.5.0",
      "_model_name": "HTMLModel",
      "_view_count": null,
      "_view_module": "@jupyter-widgets/controls",
      "_view_module_version": "1.5.0",
      "_view_name": "HTMLView",
      "description": "",
      "description_tooltip": null,
      "layout": "IPY_MODEL_22d1256bfd52414b9255f92a23d2cb6b",
      "placeholder": "​",
      "style": "IPY_MODEL_033bbe2f4f0240bcae74793417a2e6e6",
      "value": "100%"
     }
    },
    "3bbfea718cc14ff7ac7804b432e4b73d": {
     "model_module": "@jupyter-widgets/controls",
     "model_module_version": "1.5.0",
     "model_name": "HTMLModel",
     "state": {
      "_dom_classes": [],
      "_model_module": "@jupyter-widgets/controls",
      "_model_module_version": "1.5.0",
      "_model_name": "HTMLModel",
      "_view_count": null,
      "_view_module": "@jupyter-widgets/controls",
      "_view_module_version": "1.5.0",
      "_view_name": "HTMLView",
      "description": "",
      "description_tooltip": null,
      "layout": "IPY_MODEL_6aeee305e84341e5861c2ede5006e57b",
      "placeholder": "​",
      "style": "IPY_MODEL_fccc4e876cd64743bfbfa2b10a86fafb",
      "value": " 3/3 [00:00&lt;00:00, 52.37it/s]"
     }
    },
    "3c25a17900414276986f4c6accbac394": {
     "model_module": "@jupyter-widgets/controls",
     "model_module_version": "1.5.0",
     "model_name": "DescriptionStyleModel",
     "state": {
      "_model_module": "@jupyter-widgets/controls",
      "_model_module_version": "1.5.0",
      "_model_name": "DescriptionStyleModel",
      "_view_count": null,
      "_view_module": "@jupyter-widgets/base",
      "_view_module_version": "1.2.0",
      "_view_name": "StyleView",
      "description_width": ""
     }
    },
    "4226520e28a546efabdb94db998689fc": {
     "model_module": "@jupyter-widgets/base",
     "model_module_version": "1.2.0",
     "model_name": "LayoutModel",
     "state": {
      "_model_module": "@jupyter-widgets/base",
      "_model_module_version": "1.2.0",
      "_model_name": "LayoutModel",
      "_view_count": null,
      "_view_module": "@jupyter-widgets/base",
      "_view_module_version": "1.2.0",
      "_view_name": "LayoutView",
      "align_content": null,
      "align_items": null,
      "align_self": null,
      "border": null,
      "bottom": null,
      "display": null,
      "flex": null,
      "flex_flow": null,
      "grid_area": null,
      "grid_auto_columns": null,
      "grid_auto_flow": null,
      "grid_auto_rows": null,
      "grid_column": null,
      "grid_gap": null,
      "grid_row": null,
      "grid_template_areas": null,
      "grid_template_columns": null,
      "grid_template_rows": null,
      "height": null,
      "justify_content": null,
      "justify_items": null,
      "left": null,
      "margin": null,
      "max_height": null,
      "max_width": null,
      "min_height": null,
      "min_width": null,
      "object_fit": null,
      "object_position": null,
      "order": null,
      "overflow": null,
      "overflow_x": null,
      "overflow_y": null,
      "padding": null,
      "right": null,
      "top": null,
      "visibility": null,
      "width": null
     }
    },
    "437000556a5b4b18aa7b6529ba339c21": {
     "model_module": "@jupyter-widgets/controls",
     "model_module_version": "1.5.0",
     "model_name": "DescriptionStyleModel",
     "state": {
      "_model_module": "@jupyter-widgets/controls",
      "_model_module_version": "1.5.0",
      "_model_name": "DescriptionStyleModel",
      "_view_count": null,
      "_view_module": "@jupyter-widgets/base",
      "_view_module_version": "1.2.0",
      "_view_name": "StyleView",
      "description_width": ""
     }
    },
    "43afe162620d4ca98846f1df12a78834": {
     "model_module": "@jupyter-widgets/controls",
     "model_module_version": "1.5.0",
     "model_name": "HBoxModel",
     "state": {
      "_dom_classes": [],
      "_model_module": "@jupyter-widgets/controls",
      "_model_module_version": "1.5.0",
      "_model_name": "HBoxModel",
      "_view_count": null,
      "_view_module": "@jupyter-widgets/controls",
      "_view_module_version": "1.5.0",
      "_view_name": "HBoxView",
      "box_style": "",
      "children": [
       "IPY_MODEL_3a490695afb34265b48ea77d93aa124d",
       "IPY_MODEL_25701aea28c34078800c010c94587c43",
       "IPY_MODEL_6d861aca6592445899de7286ac3e1995"
      ],
      "layout": "IPY_MODEL_99619bf1a95a4ce9bd20f2a4ad3c7bec"
     }
    },
    "4d60600b2dc44fe9b880c4ca9db7cfdd": {
     "model_module": "@jupyter-widgets/controls",
     "model_module_version": "1.5.0",
     "model_name": "ProgressStyleModel",
     "state": {
      "_model_module": "@jupyter-widgets/controls",
      "_model_module_version": "1.5.0",
      "_model_name": "ProgressStyleModel",
      "_view_count": null,
      "_view_module": "@jupyter-widgets/base",
      "_view_module_version": "1.2.0",
      "_view_name": "StyleView",
      "bar_color": null,
      "description_width": ""
     }
    },
    "4f72ed897ba9401ea159c675a12601e6": {
     "model_module": "@jupyter-widgets/base",
     "model_module_version": "1.2.0",
     "model_name": "LayoutModel",
     "state": {
      "_model_module": "@jupyter-widgets/base",
      "_model_module_version": "1.2.0",
      "_model_name": "LayoutModel",
      "_view_count": null,
      "_view_module": "@jupyter-widgets/base",
      "_view_module_version": "1.2.0",
      "_view_name": "LayoutView",
      "align_content": null,
      "align_items": null,
      "align_self": null,
      "border": null,
      "bottom": null,
      "display": null,
      "flex": null,
      "flex_flow": null,
      "grid_area": null,
      "grid_auto_columns": null,
      "grid_auto_flow": null,
      "grid_auto_rows": null,
      "grid_column": null,
      "grid_gap": null,
      "grid_row": null,
      "grid_template_areas": null,
      "grid_template_columns": null,
      "grid_template_rows": null,
      "height": null,
      "justify_content": null,
      "justify_items": null,
      "left": null,
      "margin": null,
      "max_height": null,
      "max_width": null,
      "min_height": null,
      "min_width": null,
      "object_fit": null,
      "object_position": null,
      "order": null,
      "overflow": null,
      "overflow_x": null,
      "overflow_y": null,
      "padding": null,
      "right": null,
      "top": null,
      "visibility": null,
      "width": null
     }
    },
    "505a37bc6a664eceab18c824d287b5e6": {
     "model_module": "@jupyter-widgets/base",
     "model_module_version": "1.2.0",
     "model_name": "LayoutModel",
     "state": {
      "_model_module": "@jupyter-widgets/base",
      "_model_module_version": "1.2.0",
      "_model_name": "LayoutModel",
      "_view_count": null,
      "_view_module": "@jupyter-widgets/base",
      "_view_module_version": "1.2.0",
      "_view_name": "LayoutView",
      "align_content": null,
      "align_items": null,
      "align_self": null,
      "border": null,
      "bottom": null,
      "display": null,
      "flex": null,
      "flex_flow": null,
      "grid_area": null,
      "grid_auto_columns": null,
      "grid_auto_flow": null,
      "grid_auto_rows": null,
      "grid_column": null,
      "grid_gap": null,
      "grid_row": null,
      "grid_template_areas": null,
      "grid_template_columns": null,
      "grid_template_rows": null,
      "height": null,
      "justify_content": null,
      "justify_items": null,
      "left": null,
      "margin": null,
      "max_height": null,
      "max_width": null,
      "min_height": null,
      "min_width": null,
      "object_fit": null,
      "object_position": null,
      "order": null,
      "overflow": null,
      "overflow_x": null,
      "overflow_y": null,
      "padding": null,
      "right": null,
      "top": null,
      "visibility": null,
      "width": null
     }
    },
    "552f4311e7114e22bd79cfd3205ddebf": {
     "model_module": "@jupyter-widgets/controls",
     "model_module_version": "1.5.0",
     "model_name": "HBoxModel",
     "state": {
      "_dom_classes": [],
      "_model_module": "@jupyter-widgets/controls",
      "_model_module_version": "1.5.0",
      "_model_name": "HBoxModel",
      "_view_count": null,
      "_view_module": "@jupyter-widgets/controls",
      "_view_module_version": "1.5.0",
      "_view_name": "HBoxView",
      "box_style": "",
      "children": [
       "IPY_MODEL_2ee37338ec9b48e99730ed621242299c",
       "IPY_MODEL_957d1ea1d81a41398ae47dbc7c663024",
       "IPY_MODEL_f438e99cd74948a6a56024ca03dc01f5"
      ],
      "layout": "IPY_MODEL_f72f173d7c9743b4b51b20d0c71a9d20"
     }
    },
    "56d91010aaef46aab70165cbc1faa87e": {
     "model_module": "@jupyter-widgets/controls",
     "model_module_version": "1.5.0",
     "model_name": "ProgressStyleModel",
     "state": {
      "_model_module": "@jupyter-widgets/controls",
      "_model_module_version": "1.5.0",
      "_model_name": "ProgressStyleModel",
      "_view_count": null,
      "_view_module": "@jupyter-widgets/base",
      "_view_module_version": "1.2.0",
      "_view_name": "StyleView",
      "bar_color": null,
      "description_width": ""
     }
    },
    "5977ad77c9f74c6dba76b3155e7d16db": {
     "model_module": "@jupyter-widgets/controls",
     "model_module_version": "1.5.0",
     "model_name": "FloatProgressModel",
     "state": {
      "_dom_classes": [],
      "_model_module": "@jupyter-widgets/controls",
      "_model_module_version": "1.5.0",
      "_model_name": "FloatProgressModel",
      "_view_count": null,
      "_view_module": "@jupyter-widgets/controls",
      "_view_module_version": "1.5.0",
      "_view_name": "ProgressView",
      "bar_style": "success",
      "description": "",
      "description_tooltip": null,
      "layout": "IPY_MODEL_505a37bc6a664eceab18c824d287b5e6",
      "max": 1154,
      "min": 0,
      "orientation": "horizontal",
      "style": "IPY_MODEL_4d60600b2dc44fe9b880c4ca9db7cfdd",
      "value": 1154
     }
    },
    "5b3f4cb408b343feb1131ab96838e4b7": {
     "model_module": "@jupyter-widgets/base",
     "model_module_version": "1.2.0",
     "model_name": "LayoutModel",
     "state": {
      "_model_module": "@jupyter-widgets/base",
      "_model_module_version": "1.2.0",
      "_model_name": "LayoutModel",
      "_view_count": null,
      "_view_module": "@jupyter-widgets/base",
      "_view_module_version": "1.2.0",
      "_view_name": "LayoutView",
      "align_content": null,
      "align_items": null,
      "align_self": null,
      "border": null,
      "bottom": null,
      "display": null,
      "flex": null,
      "flex_flow": null,
      "grid_area": null,
      "grid_auto_columns": null,
      "grid_auto_flow": null,
      "grid_auto_rows": null,
      "grid_column": null,
      "grid_gap": null,
      "grid_row": null,
      "grid_template_areas": null,
      "grid_template_columns": null,
      "grid_template_rows": null,
      "height": null,
      "justify_content": null,
      "justify_items": null,
      "left": null,
      "margin": null,
      "max_height": null,
      "max_width": null,
      "min_height": null,
      "min_width": null,
      "object_fit": null,
      "object_position": null,
      "order": null,
      "overflow": null,
      "overflow_x": null,
      "overflow_y": null,
      "padding": null,
      "right": null,
      "top": null,
      "visibility": null,
      "width": null
     }
    },
    "62ad542741ee45a89bab5c5bf1034113": {
     "model_module": "@jupyter-widgets/base",
     "model_module_version": "1.2.0",
     "model_name": "LayoutModel",
     "state": {
      "_model_module": "@jupyter-widgets/base",
      "_model_module_version": "1.2.0",
      "_model_name": "LayoutModel",
      "_view_count": null,
      "_view_module": "@jupyter-widgets/base",
      "_view_module_version": "1.2.0",
      "_view_name": "LayoutView",
      "align_content": null,
      "align_items": null,
      "align_self": null,
      "border": null,
      "bottom": null,
      "display": null,
      "flex": null,
      "flex_flow": null,
      "grid_area": null,
      "grid_auto_columns": null,
      "grid_auto_flow": null,
      "grid_auto_rows": null,
      "grid_column": null,
      "grid_gap": null,
      "grid_row": null,
      "grid_template_areas": null,
      "grid_template_columns": null,
      "grid_template_rows": null,
      "height": null,
      "justify_content": null,
      "justify_items": null,
      "left": null,
      "margin": null,
      "max_height": null,
      "max_width": null,
      "min_height": null,
      "min_width": null,
      "object_fit": null,
      "object_position": null,
      "order": null,
      "overflow": null,
      "overflow_x": null,
      "overflow_y": null,
      "padding": null,
      "right": null,
      "top": null,
      "visibility": null,
      "width": null
     }
    },
    "6425e480a2a140f7b50bb959db8de84e": {
     "model_module": "@jupyter-widgets/controls",
     "model_module_version": "1.5.0",
     "model_name": "ProgressStyleModel",
     "state": {
      "_model_module": "@jupyter-widgets/controls",
      "_model_module_version": "1.5.0",
      "_model_name": "ProgressStyleModel",
      "_view_count": null,
      "_view_module": "@jupyter-widgets/base",
      "_view_module_version": "1.2.0",
      "_view_name": "StyleView",
      "bar_color": null,
      "description_width": ""
     }
    },
    "656c176180514140bc89a2ed98bf8ca4": {
     "model_module": "@jupyter-widgets/controls",
     "model_module_version": "1.5.0",
     "model_name": "DescriptionStyleModel",
     "state": {
      "_model_module": "@jupyter-widgets/controls",
      "_model_module_version": "1.5.0",
      "_model_name": "DescriptionStyleModel",
      "_view_count": null,
      "_view_module": "@jupyter-widgets/base",
      "_view_module_version": "1.2.0",
      "_view_name": "StyleView",
      "description_width": ""
     }
    },
    "65b0e2a32c224edea52fe96d1d1503ff": {
     "model_module": "@jupyter-widgets/controls",
     "model_module_version": "1.5.0",
     "model_name": "HBoxModel",
     "state": {
      "_dom_classes": [],
      "_model_module": "@jupyter-widgets/controls",
      "_model_module_version": "1.5.0",
      "_model_name": "HBoxModel",
      "_view_count": null,
      "_view_module": "@jupyter-widgets/controls",
      "_view_module_version": "1.5.0",
      "_view_name": "HBoxView",
      "box_style": "",
      "children": [
       "IPY_MODEL_da2cbae2575747cf88e12a3456bc8fcf",
       "IPY_MODEL_924378e7812645f19309d54cf2cb197f",
       "IPY_MODEL_d99710b3cdc84b1b891f365ba48c550f"
      ],
      "layout": "IPY_MODEL_ba78ba11633b4474ba337f8e1e0efb1c"
     }
    },
    "6aeee305e84341e5861c2ede5006e57b": {
     "model_module": "@jupyter-widgets/base",
     "model_module_version": "1.2.0",
     "model_name": "LayoutModel",
     "state": {
      "_model_module": "@jupyter-widgets/base",
      "_model_module_version": "1.2.0",
      "_model_name": "LayoutModel",
      "_view_count": null,
      "_view_module": "@jupyter-widgets/base",
      "_view_module_version": "1.2.0",
      "_view_name": "LayoutView",
      "align_content": null,
      "align_items": null,
      "align_self": null,
      "border": null,
      "bottom": null,
      "display": null,
      "flex": null,
      "flex_flow": null,
      "grid_area": null,
      "grid_auto_columns": null,
      "grid_auto_flow": null,
      "grid_auto_rows": null,
      "grid_column": null,
      "grid_gap": null,
      "grid_row": null,
      "grid_template_areas": null,
      "grid_template_columns": null,
      "grid_template_rows": null,
      "height": null,
      "justify_content": null,
      "justify_items": null,
      "left": null,
      "margin": null,
      "max_height": null,
      "max_width": null,
      "min_height": null,
      "min_width": null,
      "object_fit": null,
      "object_position": null,
      "order": null,
      "overflow": null,
      "overflow_x": null,
      "overflow_y": null,
      "padding": null,
      "right": null,
      "top": null,
      "visibility": null,
      "width": null
     }
    },
    "6c9cc52f8dc04d548d9a57ab9f5c5ed1": {
     "model_module": "@jupyter-widgets/controls",
     "model_module_version": "1.5.0",
     "model_name": "DescriptionStyleModel",
     "state": {
      "_model_module": "@jupyter-widgets/controls",
      "_model_module_version": "1.5.0",
      "_model_name": "DescriptionStyleModel",
      "_view_count": null,
      "_view_module": "@jupyter-widgets/base",
      "_view_module_version": "1.2.0",
      "_view_name": "StyleView",
      "description_width": ""
     }
    },
    "6d861aca6592445899de7286ac3e1995": {
     "model_module": "@jupyter-widgets/controls",
     "model_module_version": "1.5.0",
     "model_name": "HTMLModel",
     "state": {
      "_dom_classes": [],
      "_model_module": "@jupyter-widgets/controls",
      "_model_module_version": "1.5.0",
      "_model_name": "HTMLModel",
      "_view_count": null,
      "_view_module": "@jupyter-widgets/controls",
      "_view_module_version": "1.5.0",
      "_view_name": "HTMLView",
      "description": "",
      "description_tooltip": null,
      "layout": "IPY_MODEL_7d684031934f4755a5e9764e49be3113",
      "placeholder": "​",
      "style": "IPY_MODEL_3c25a17900414276986f4c6accbac394",
      "value": " 456k/456k [00:00&lt;00:00, 15.2MB/s]"
     }
    },
    "6e256bec6b9c4e5280671801d4a1b75e": {
     "model_module": "@jupyter-widgets/controls",
     "model_module_version": "1.5.0",
     "model_name": "DescriptionStyleModel",
     "state": {
      "_model_module": "@jupyter-widgets/controls",
      "_model_module_version": "1.5.0",
      "_model_name": "DescriptionStyleModel",
      "_view_count": null,
      "_view_module": "@jupyter-widgets/base",
      "_view_module_version": "1.2.0",
      "_view_name": "StyleView",
      "description_width": ""
     }
    },
    "6e7b0311015b45e595218023672a879f": {
     "model_module": "@jupyter-widgets/base",
     "model_module_version": "1.2.0",
     "model_name": "LayoutModel",
     "state": {
      "_model_module": "@jupyter-widgets/base",
      "_model_module_version": "1.2.0",
      "_model_name": "LayoutModel",
      "_view_count": null,
      "_view_module": "@jupyter-widgets/base",
      "_view_module_version": "1.2.0",
      "_view_name": "LayoutView",
      "align_content": null,
      "align_items": null,
      "align_self": null,
      "border": null,
      "bottom": null,
      "display": null,
      "flex": null,
      "flex_flow": null,
      "grid_area": null,
      "grid_auto_columns": null,
      "grid_auto_flow": null,
      "grid_auto_rows": null,
      "grid_column": null,
      "grid_gap": null,
      "grid_row": null,
      "grid_template_areas": null,
      "grid_template_columns": null,
      "grid_template_rows": null,
      "height": null,
      "justify_content": null,
      "justify_items": null,
      "left": null,
      "margin": null,
      "max_height": null,
      "max_width": null,
      "min_height": null,
      "min_width": null,
      "object_fit": null,
      "object_position": null,
      "order": null,
      "overflow": null,
      "overflow_x": null,
      "overflow_y": null,
      "padding": null,
      "right": null,
      "top": null,
      "visibility": null,
      "width": null
     }
    },
    "75a86f49152d4c02b6accadf6a2d7616": {
     "model_module": "@jupyter-widgets/controls",
     "model_module_version": "1.5.0",
     "model_name": "DescriptionStyleModel",
     "state": {
      "_model_module": "@jupyter-widgets/controls",
      "_model_module_version": "1.5.0",
      "_model_name": "DescriptionStyleModel",
      "_view_count": null,
      "_view_module": "@jupyter-widgets/base",
      "_view_module_version": "1.2.0",
      "_view_name": "StyleView",
      "description_width": ""
     }
    },
    "7619e7f07d5b43c68f9010ac0625945a": {
     "model_module": "@jupyter-widgets/controls",
     "model_module_version": "1.5.0",
     "model_name": "DescriptionStyleModel",
     "state": {
      "_model_module": "@jupyter-widgets/controls",
      "_model_module_version": "1.5.0",
      "_model_name": "DescriptionStyleModel",
      "_view_count": null,
      "_view_module": "@jupyter-widgets/base",
      "_view_module_version": "1.2.0",
      "_view_name": "StyleView",
      "description_width": ""
     }
    },
    "77c33de58909405f86a0b90c1c1223cf": {
     "model_module": "@jupyter-widgets/base",
     "model_module_version": "1.2.0",
     "model_name": "LayoutModel",
     "state": {
      "_model_module": "@jupyter-widgets/base",
      "_model_module_version": "1.2.0",
      "_model_name": "LayoutModel",
      "_view_count": null,
      "_view_module": "@jupyter-widgets/base",
      "_view_module_version": "1.2.0",
      "_view_name": "LayoutView",
      "align_content": null,
      "align_items": null,
      "align_self": null,
      "border": null,
      "bottom": null,
      "display": null,
      "flex": null,
      "flex_flow": null,
      "grid_area": null,
      "grid_auto_columns": null,
      "grid_auto_flow": null,
      "grid_auto_rows": null,
      "grid_column": null,
      "grid_gap": null,
      "grid_row": null,
      "grid_template_areas": null,
      "grid_template_columns": null,
      "grid_template_rows": null,
      "height": null,
      "justify_content": null,
      "justify_items": null,
      "left": null,
      "margin": null,
      "max_height": null,
      "max_width": null,
      "min_height": null,
      "min_width": null,
      "object_fit": null,
      "object_position": null,
      "order": null,
      "overflow": null,
      "overflow_x": null,
      "overflow_y": null,
      "padding": null,
      "right": null,
      "top": null,
      "visibility": null,
      "width": null
     }
    },
    "7b5affb499a54bf0b5a4bc6527c20277": {
     "model_module": "@jupyter-widgets/controls",
     "model_module_version": "1.5.0",
     "model_name": "HTMLModel",
     "state": {
      "_dom_classes": [],
      "_model_module": "@jupyter-widgets/controls",
      "_model_module_version": "1.5.0",
      "_model_name": "HTMLModel",
      "_view_count": null,
      "_view_module": "@jupyter-widgets/controls",
      "_view_module_version": "1.5.0",
      "_view_name": "HTMLView",
      "description": "",
      "description_tooltip": null,
      "layout": "IPY_MODEL_fd032e12e6dc4d88ba7a8f050e41e001",
      "placeholder": "​",
      "style": "IPY_MODEL_ef76c2c81a4549e9991907459445398b",
      "value": " 8000/8551 [00:00&lt;00:00, 9285.74 examples/s]"
     }
    },
    "7d684031934f4755a5e9764e49be3113": {
     "model_module": "@jupyter-widgets/base",
     "model_module_version": "1.2.0",
     "model_name": "LayoutModel",
     "state": {
      "_model_module": "@jupyter-widgets/base",
      "_model_module_version": "1.2.0",
      "_model_name": "LayoutModel",
      "_view_count": null,
      "_view_module": "@jupyter-widgets/base",
      "_view_module_version": "1.2.0",
      "_view_name": "LayoutView",
      "align_content": null,
      "align_items": null,
      "align_self": null,
      "border": null,
      "bottom": null,
      "display": null,
      "flex": null,
      "flex_flow": null,
      "grid_area": null,
      "grid_auto_columns": null,
      "grid_auto_flow": null,
      "grid_auto_rows": null,
      "grid_column": null,
      "grid_gap": null,
      "grid_row": null,
      "grid_template_areas": null,
      "grid_template_columns": null,
      "grid_template_rows": null,
      "height": null,
      "justify_content": null,
      "justify_items": null,
      "left": null,
      "margin": null,
      "max_height": null,
      "max_width": null,
      "min_height": null,
      "min_width": null,
      "object_fit": null,
      "object_position": null,
      "order": null,
      "overflow": null,
      "overflow_x": null,
      "overflow_y": null,
      "padding": null,
      "right": null,
      "top": null,
      "visibility": null,
      "width": null
     }
    },
    "7fa8b55bffa046bbb83ce20f82c6d968": {
     "model_module": "@jupyter-widgets/controls",
     "model_module_version": "1.5.0",
     "model_name": "HBoxModel",
     "state": {
      "_dom_classes": [],
      "_model_module": "@jupyter-widgets/controls",
      "_model_module_version": "1.5.0",
      "_model_name": "HBoxModel",
      "_view_count": null,
      "_view_module": "@jupyter-widgets/controls",
      "_view_module_version": "1.5.0",
      "_view_name": "HBoxView",
      "box_style": "",
      "children": [
       "IPY_MODEL_b64d2178bc674f96be3064fe37d179d5",
       "IPY_MODEL_f7326eb4fe9e4bd3a4a370f5f0e79021",
       "IPY_MODEL_a480b3e0d79d4392b477d8589fa6df15"
      ],
      "layout": "IPY_MODEL_6e7b0311015b45e595218023672a879f"
     }
    },
    "875f321454af49ea8e22c46b718efb7d": {
     "model_module": "@jupyter-widgets/base",
     "model_module_version": "1.2.0",
     "model_name": "LayoutModel",
     "state": {
      "_model_module": "@jupyter-widgets/base",
      "_model_module_version": "1.2.0",
      "_model_name": "LayoutModel",
      "_view_count": null,
      "_view_module": "@jupyter-widgets/base",
      "_view_module_version": "1.2.0",
      "_view_name": "LayoutView",
      "align_content": null,
      "align_items": null,
      "align_self": null,
      "border": null,
      "bottom": null,
      "display": null,
      "flex": null,
      "flex_flow": null,
      "grid_area": null,
      "grid_auto_columns": null,
      "grid_auto_flow": null,
      "grid_auto_rows": null,
      "grid_column": null,
      "grid_gap": null,
      "grid_row": null,
      "grid_template_areas": null,
      "grid_template_columns": null,
      "grid_template_rows": null,
      "height": null,
      "justify_content": null,
      "justify_items": null,
      "left": null,
      "margin": null,
      "max_height": null,
      "max_width": null,
      "min_height": null,
      "min_width": null,
      "object_fit": null,
      "object_position": null,
      "order": null,
      "overflow": null,
      "overflow_x": null,
      "overflow_y": null,
      "padding": null,
      "right": null,
      "top": null,
      "visibility": null,
      "width": null
     }
    },
    "8acb544f5bfd4bebb2ebda4d54db2fae": {
     "model_module": "@jupyter-widgets/controls",
     "model_module_version": "1.5.0",
     "model_name": "ProgressStyleModel",
     "state": {
      "_model_module": "@jupyter-widgets/controls",
      "_model_module_version": "1.5.0",
      "_model_name": "ProgressStyleModel",
      "_view_count": null,
      "_view_module": "@jupyter-widgets/base",
      "_view_module_version": "1.2.0",
      "_view_name": "StyleView",
      "bar_color": null,
      "description_width": ""
     }
    },
    "9007e2bb41154d2b9002ab5def7840d0": {
     "model_module": "@jupyter-widgets/base",
     "model_module_version": "1.2.0",
     "model_name": "LayoutModel",
     "state": {
      "_model_module": "@jupyter-widgets/base",
      "_model_module_version": "1.2.0",
      "_model_name": "LayoutModel",
      "_view_count": null,
      "_view_module": "@jupyter-widgets/base",
      "_view_module_version": "1.2.0",
      "_view_name": "LayoutView",
      "align_content": null,
      "align_items": null,
      "align_self": null,
      "border": null,
      "bottom": null,
      "display": null,
      "flex": null,
      "flex_flow": null,
      "grid_area": null,
      "grid_auto_columns": null,
      "grid_auto_flow": null,
      "grid_auto_rows": null,
      "grid_column": null,
      "grid_gap": null,
      "grid_row": null,
      "grid_template_areas": null,
      "grid_template_columns": null,
      "grid_template_rows": null,
      "height": null,
      "justify_content": null,
      "justify_items": null,
      "left": null,
      "margin": null,
      "max_height": null,
      "max_width": null,
      "min_height": null,
      "min_width": null,
      "object_fit": null,
      "object_position": null,
      "order": null,
      "overflow": null,
      "overflow_x": null,
      "overflow_y": null,
      "padding": null,
      "right": null,
      "top": null,
      "visibility": null,
      "width": null
     }
    },
    "91310013b1d84bd68b16ea3a9734fa2a": {
     "model_module": "@jupyter-widgets/base",
     "model_module_version": "1.2.0",
     "model_name": "LayoutModel",
     "state": {
      "_model_module": "@jupyter-widgets/base",
      "_model_module_version": "1.2.0",
      "_model_name": "LayoutModel",
      "_view_count": null,
      "_view_module": "@jupyter-widgets/base",
      "_view_module_version": "1.2.0",
      "_view_name": "LayoutView",
      "align_content": null,
      "align_items": null,
      "align_self": null,
      "border": null,
      "bottom": null,
      "display": null,
      "flex": null,
      "flex_flow": null,
      "grid_area": null,
      "grid_auto_columns": null,
      "grid_auto_flow": null,
      "grid_auto_rows": null,
      "grid_column": null,
      "grid_gap": null,
      "grid_row": null,
      "grid_template_areas": null,
      "grid_template_columns": null,
      "grid_template_rows": null,
      "height": null,
      "justify_content": null,
      "justify_items": null,
      "left": null,
      "margin": null,
      "max_height": null,
      "max_width": null,
      "min_height": null,
      "min_width": null,
      "object_fit": null,
      "object_position": null,
      "order": null,
      "overflow": null,
      "overflow_x": null,
      "overflow_y": null,
      "padding": null,
      "right": null,
      "top": null,
      "visibility": null,
      "width": null
     }
    },
    "91f28c20bd9845cfb492c3360c1192e5": {
     "model_module": "@jupyter-widgets/controls",
     "model_module_version": "1.5.0",
     "model_name": "HTMLModel",
     "state": {
      "_dom_classes": [],
      "_model_module": "@jupyter-widgets/controls",
      "_model_module_version": "1.5.0",
      "_model_name": "HTMLModel",
      "_view_count": null,
      "_view_module": "@jupyter-widgets/controls",
      "_view_module_version": "1.5.0",
      "_view_name": "HTMLView",
      "description": "",
      "description_tooltip": null,
      "layout": "IPY_MODEL_62ad542741ee45a89bab5c5bf1034113",
      "placeholder": "​",
      "style": "IPY_MODEL_75a86f49152d4c02b6accadf6a2d7616",
      "value": "Downloading model.safetensors: 100%"
     }
    },
    "924378e7812645f19309d54cf2cb197f": {
     "model_module": "@jupyter-widgets/controls",
     "model_module_version": "1.5.0",
     "model_name": "FloatProgressModel",
     "state": {
      "_dom_classes": [],
      "_model_module": "@jupyter-widgets/controls",
      "_model_module_version": "1.5.0",
      "_model_name": "FloatProgressModel",
      "_view_count": null,
      "_view_module": "@jupyter-widgets/controls",
      "_view_module_version": "1.5.0",
      "_view_name": "ProgressView",
      "bar_style": "success",
      "description": "",
      "description_tooltip": null,
      "layout": "IPY_MODEL_ac5ae143d0d84ffcab1ef65445841a87",
      "max": 26,
      "min": 0,
      "orientation": "horizontal",
      "style": "IPY_MODEL_6425e480a2a140f7b50bb959db8de84e",
      "value": 26
     }
    },
    "9411fb35c9434249babdf02c5a233eb7": {
     "model_module": "@jupyter-widgets/base",
     "model_module_version": "1.2.0",
     "model_name": "LayoutModel",
     "state": {
      "_model_module": "@jupyter-widgets/base",
      "_model_module_version": "1.2.0",
      "_model_name": "LayoutModel",
      "_view_count": null,
      "_view_module": "@jupyter-widgets/base",
      "_view_module_version": "1.2.0",
      "_view_name": "LayoutView",
      "align_content": null,
      "align_items": null,
      "align_self": null,
      "border": null,
      "bottom": null,
      "display": null,
      "flex": null,
      "flex_flow": null,
      "grid_area": null,
      "grid_auto_columns": null,
      "grid_auto_flow": null,
      "grid_auto_rows": null,
      "grid_column": null,
      "grid_gap": null,
      "grid_row": null,
      "grid_template_areas": null,
      "grid_template_columns": null,
      "grid_template_rows": null,
      "height": null,
      "justify_content": null,
      "justify_items": null,
      "left": null,
      "margin": null,
      "max_height": null,
      "max_width": null,
      "min_height": null,
      "min_width": null,
      "object_fit": null,
      "object_position": null,
      "order": null,
      "overflow": null,
      "overflow_x": null,
      "overflow_y": null,
      "padding": null,
      "right": null,
      "top": null,
      "visibility": "hidden",
      "width": null
     }
    },
    "94734f149522417389d318632756734b": {
     "model_module": "@jupyter-widgets/controls",
     "model_module_version": "1.5.0",
     "model_name": "DescriptionStyleModel",
     "state": {
      "_model_module": "@jupyter-widgets/controls",
      "_model_module_version": "1.5.0",
      "_model_name": "DescriptionStyleModel",
      "_view_count": null,
      "_view_module": "@jupyter-widgets/base",
      "_view_module_version": "1.2.0",
      "_view_name": "StyleView",
      "description_width": ""
     }
    },
    "957d1ea1d81a41398ae47dbc7c663024": {
     "model_module": "@jupyter-widgets/controls",
     "model_module_version": "1.5.0",
     "model_name": "FloatProgressModel",
     "state": {
      "_dom_classes": [],
      "_model_module": "@jupyter-widgets/controls",
      "_model_module_version": "1.5.0",
      "_model_name": "FloatProgressModel",
      "_view_count": null,
      "_view_module": "@jupyter-widgets/controls",
      "_view_module_version": "1.5.0",
      "_view_name": "ProgressView",
      "bar_style": "success",
      "description": "",
      "description_tooltip": null,
      "layout": "IPY_MODEL_4f72ed897ba9401ea159c675a12601e6",
      "max": 898822,
      "min": 0,
      "orientation": "horizontal",
      "style": "IPY_MODEL_c63f94bda1074aa58bda46f7410712be",
      "value": 898822
     }
    },
    "99619bf1a95a4ce9bd20f2a4ad3c7bec": {
     "model_module": "@jupyter-widgets/base",
     "model_module_version": "1.2.0",
     "model_name": "LayoutModel",
     "state": {
      "_model_module": "@jupyter-widgets/base",
      "_model_module_version": "1.2.0",
      "_model_name": "LayoutModel",
      "_view_count": null,
      "_view_module": "@jupyter-widgets/base",
      "_view_module_version": "1.2.0",
      "_view_name": "LayoutView",
      "align_content": null,
      "align_items": null,
      "align_self": null,
      "border": null,
      "bottom": null,
      "display": null,
      "flex": null,
      "flex_flow": null,
      "grid_area": null,
      "grid_auto_columns": null,
      "grid_auto_flow": null,
      "grid_auto_rows": null,
      "grid_column": null,
      "grid_gap": null,
      "grid_row": null,
      "grid_template_areas": null,
      "grid_template_columns": null,
      "grid_template_rows": null,
      "height": null,
      "justify_content": null,
      "justify_items": null,
      "left": null,
      "margin": null,
      "max_height": null,
      "max_width": null,
      "min_height": null,
      "min_width": null,
      "object_fit": null,
      "object_position": null,
      "order": null,
      "overflow": null,
      "overflow_x": null,
      "overflow_y": null,
      "padding": null,
      "right": null,
      "top": null,
      "visibility": null,
      "width": null
     }
    },
    "99a24b5eaf434f38888852c075362e09": {
     "model_module": "@jupyter-widgets/controls",
     "model_module_version": "1.5.0",
     "model_name": "HBoxModel",
     "state": {
      "_dom_classes": [],
      "_model_module": "@jupyter-widgets/controls",
      "_model_module_version": "1.5.0",
      "_model_name": "HBoxModel",
      "_view_count": null,
      "_view_module": "@jupyter-widgets/controls",
      "_view_module_version": "1.5.0",
      "_view_name": "HBoxView",
      "box_style": "",
      "children": [
       "IPY_MODEL_bd86c23f95634b5aa60a7210aa05a413",
       "IPY_MODEL_f9313797d834492fbdba8007690d9b45",
       "IPY_MODEL_7b5affb499a54bf0b5a4bc6527c20277"
      ],
      "layout": "IPY_MODEL_9411fb35c9434249babdf02c5a233eb7"
     }
    },
    "a17fca6623c34a528b5fd43b335112b9": {
     "model_module": "@jupyter-widgets/controls",
     "model_module_version": "1.5.0",
     "model_name": "DescriptionStyleModel",
     "state": {
      "_model_module": "@jupyter-widgets/controls",
      "_model_module_version": "1.5.0",
      "_model_name": "DescriptionStyleModel",
      "_view_count": null,
      "_view_module": "@jupyter-widgets/base",
      "_view_module_version": "1.2.0",
      "_view_name": "StyleView",
      "description_width": ""
     }
    },
    "a480b3e0d79d4392b477d8589fa6df15": {
     "model_module": "@jupyter-widgets/controls",
     "model_module_version": "1.5.0",
     "model_name": "HTMLModel",
     "state": {
      "_dom_classes": [],
      "_model_module": "@jupyter-widgets/controls",
      "_model_module_version": "1.5.0",
      "_model_name": "HTMLModel",
      "_view_count": null,
      "_view_module": "@jupyter-widgets/controls",
      "_view_module_version": "1.5.0",
      "_view_name": "HTMLView",
      "description": "",
      "description_tooltip": null,
      "layout": "IPY_MODEL_bbb97d0d23d449a3a51c1bdcdf88b228",
      "placeholder": "​",
      "style": "IPY_MODEL_e2313f45562f47a6896dc7e242383075",
      "value": " 1.36M/1.36M [00:00&lt;00:00, 31.9MB/s]"
     }
    },
    "a572ae0037614c84ac973b8a4b61cd5f": {
     "model_module": "@jupyter-widgets/base",
     "model_module_version": "1.2.0",
     "model_name": "LayoutModel",
     "state": {
      "_model_module": "@jupyter-widgets/base",
      "_model_module_version": "1.2.0",
      "_model_name": "LayoutModel",
      "_view_count": null,
      "_view_module": "@jupyter-widgets/base",
      "_view_module_version": "1.2.0",
      "_view_name": "LayoutView",
      "align_content": null,
      "align_items": null,
      "align_self": null,
      "border": null,
      "bottom": null,
      "display": null,
      "flex": null,
      "flex_flow": null,
      "grid_area": null,
      "grid_auto_columns": null,
      "grid_auto_flow": null,
      "grid_auto_rows": null,
      "grid_column": null,
      "grid_gap": null,
      "grid_row": null,
      "grid_template_areas": null,
      "grid_template_columns": null,
      "grid_template_rows": null,
      "height": null,
      "justify_content": null,
      "justify_items": null,
      "left": null,
      "margin": null,
      "max_height": null,
      "max_width": null,
      "min_height": null,
      "min_width": null,
      "object_fit": null,
      "object_position": null,
      "order": null,
      "overflow": null,
      "overflow_x": null,
      "overflow_y": null,
      "padding": null,
      "right": null,
      "top": null,
      "visibility": null,
      "width": null
     }
    },
    "ac5ae143d0d84ffcab1ef65445841a87": {
     "model_module": "@jupyter-widgets/base",
     "model_module_version": "1.2.0",
     "model_name": "LayoutModel",
     "state": {
      "_model_module": "@jupyter-widgets/base",
      "_model_module_version": "1.2.0",
      "_model_name": "LayoutModel",
      "_view_count": null,
      "_view_module": "@jupyter-widgets/base",
      "_view_module_version": "1.2.0",
      "_view_name": "LayoutView",
      "align_content": null,
      "align_items": null,
      "align_self": null,
      "border": null,
      "bottom": null,
      "display": null,
      "flex": null,
      "flex_flow": null,
      "grid_area": null,
      "grid_auto_columns": null,
      "grid_auto_flow": null,
      "grid_auto_rows": null,
      "grid_column": null,
      "grid_gap": null,
      "grid_row": null,
      "grid_template_areas": null,
      "grid_template_columns": null,
      "grid_template_rows": null,
      "height": null,
      "justify_content": null,
      "justify_items": null,
      "left": null,
      "margin": null,
      "max_height": null,
      "max_width": null,
      "min_height": null,
      "min_width": null,
      "object_fit": null,
      "object_position": null,
      "order": null,
      "overflow": null,
      "overflow_x": null,
      "overflow_y": null,
      "padding": null,
      "right": null,
      "top": null,
      "visibility": null,
      "width": null
     }
    },
    "b083d9851182487f8e79914b68b8a6ec": {
     "model_module": "@jupyter-widgets/base",
     "model_module_version": "1.2.0",
     "model_name": "LayoutModel",
     "state": {
      "_model_module": "@jupyter-widgets/base",
      "_model_module_version": "1.2.0",
      "_model_name": "LayoutModel",
      "_view_count": null,
      "_view_module": "@jupyter-widgets/base",
      "_view_module_version": "1.2.0",
      "_view_name": "LayoutView",
      "align_content": null,
      "align_items": null,
      "align_self": null,
      "border": null,
      "bottom": null,
      "display": null,
      "flex": null,
      "flex_flow": null,
      "grid_area": null,
      "grid_auto_columns": null,
      "grid_auto_flow": null,
      "grid_auto_rows": null,
      "grid_column": null,
      "grid_gap": null,
      "grid_row": null,
      "grid_template_areas": null,
      "grid_template_columns": null,
      "grid_template_rows": null,
      "height": null,
      "justify_content": null,
      "justify_items": null,
      "left": null,
      "margin": null,
      "max_height": null,
      "max_width": null,
      "min_height": null,
      "min_width": null,
      "object_fit": null,
      "object_position": null,
      "order": null,
      "overflow": null,
      "overflow_x": null,
      "overflow_y": null,
      "padding": null,
      "right": null,
      "top": null,
      "visibility": null,
      "width": null
     }
    },
    "b49fbca47d244c86b69eeac16794a607": {
     "model_module": "@jupyter-widgets/controls",
     "model_module_version": "1.5.0",
     "model_name": "ProgressStyleModel",
     "state": {
      "_model_module": "@jupyter-widgets/controls",
      "_model_module_version": "1.5.0",
      "_model_name": "ProgressStyleModel",
      "_view_count": null,
      "_view_module": "@jupyter-widgets/base",
      "_view_module_version": "1.2.0",
      "_view_name": "StyleView",
      "bar_color": null,
      "description_width": ""
     }
    },
    "b64d2178bc674f96be3064fe37d179d5": {
     "model_module": "@jupyter-widgets/controls",
     "model_module_version": "1.5.0",
     "model_name": "HTMLModel",
     "state": {
      "_dom_classes": [],
      "_model_module": "@jupyter-widgets/controls",
      "_model_module_version": "1.5.0",
      "_model_name": "HTMLModel",
      "_view_count": null,
      "_view_module": "@jupyter-widgets/controls",
      "_view_module_version": "1.5.0",
      "_view_name": "HTMLView",
      "description": "",
      "description_tooltip": null,
      "layout": "IPY_MODEL_feac1350111c4a0893b1260c0d685ac5",
      "placeholder": "​",
      "style": "IPY_MODEL_6c9cc52f8dc04d548d9a57ab9f5c5ed1",
      "value": "Downloading (…)/main/tokenizer.json: 100%"
     }
    },
    "b9500fa1b9504862a657f40a5c055c23": {
     "model_module": "@jupyter-widgets/base",
     "model_module_version": "1.2.0",
     "model_name": "LayoutModel",
     "state": {
      "_model_module": "@jupyter-widgets/base",
      "_model_module_version": "1.2.0",
      "_model_name": "LayoutModel",
      "_view_count": null,
      "_view_module": "@jupyter-widgets/base",
      "_view_module_version": "1.2.0",
      "_view_name": "LayoutView",
      "align_content": null,
      "align_items": null,
      "align_self": null,
      "border": null,
      "bottom": null,
      "display": null,
      "flex": null,
      "flex_flow": null,
      "grid_area": null,
      "grid_auto_columns": null,
      "grid_auto_flow": null,
      "grid_auto_rows": null,
      "grid_column": null,
      "grid_gap": null,
      "grid_row": null,
      "grid_template_areas": null,
      "grid_template_columns": null,
      "grid_template_rows": null,
      "height": null,
      "justify_content": null,
      "justify_items": null,
      "left": null,
      "margin": null,
      "max_height": null,
      "max_width": null,
      "min_height": null,
      "min_width": null,
      "object_fit": null,
      "object_position": null,
      "order": null,
      "overflow": null,
      "overflow_x": null,
      "overflow_y": null,
      "padding": null,
      "right": null,
      "top": null,
      "visibility": null,
      "width": null
     }
    },
    "ba78ba11633b4474ba337f8e1e0efb1c": {
     "model_module": "@jupyter-widgets/base",
     "model_module_version": "1.2.0",
     "model_name": "LayoutModel",
     "state": {
      "_model_module": "@jupyter-widgets/base",
      "_model_module_version": "1.2.0",
      "_model_name": "LayoutModel",
      "_view_count": null,
      "_view_module": "@jupyter-widgets/base",
      "_view_module_version": "1.2.0",
      "_view_name": "LayoutView",
      "align_content": null,
      "align_items": null,
      "align_self": null,
      "border": null,
      "bottom": null,
      "display": null,
      "flex": null,
      "flex_flow": null,
      "grid_area": null,
      "grid_auto_columns": null,
      "grid_auto_flow": null,
      "grid_auto_rows": null,
      "grid_column": null,
      "grid_gap": null,
      "grid_row": null,
      "grid_template_areas": null,
      "grid_template_columns": null,
      "grid_template_rows": null,
      "height": null,
      "justify_content": null,
      "justify_items": null,
      "left": null,
      "margin": null,
      "max_height": null,
      "max_width": null,
      "min_height": null,
      "min_width": null,
      "object_fit": null,
      "object_position": null,
      "order": null,
      "overflow": null,
      "overflow_x": null,
      "overflow_y": null,
      "padding": null,
      "right": null,
      "top": null,
      "visibility": null,
      "width": null
     }
    },
    "bbb97d0d23d449a3a51c1bdcdf88b228": {
     "model_module": "@jupyter-widgets/base",
     "model_module_version": "1.2.0",
     "model_name": "LayoutModel",
     "state": {
      "_model_module": "@jupyter-widgets/base",
      "_model_module_version": "1.2.0",
      "_model_name": "LayoutModel",
      "_view_count": null,
      "_view_module": "@jupyter-widgets/base",
      "_view_module_version": "1.2.0",
      "_view_name": "LayoutView",
      "align_content": null,
      "align_items": null,
      "align_self": null,
      "border": null,
      "bottom": null,
      "display": null,
      "flex": null,
      "flex_flow": null,
      "grid_area": null,
      "grid_auto_columns": null,
      "grid_auto_flow": null,
      "grid_auto_rows": null,
      "grid_column": null,
      "grid_gap": null,
      "grid_row": null,
      "grid_template_areas": null,
      "grid_template_columns": null,
      "grid_template_rows": null,
      "height": null,
      "justify_content": null,
      "justify_items": null,
      "left": null,
      "margin": null,
      "max_height": null,
      "max_width": null,
      "min_height": null,
      "min_width": null,
      "object_fit": null,
      "object_position": null,
      "order": null,
      "overflow": null,
      "overflow_x": null,
      "overflow_y": null,
      "padding": null,
      "right": null,
      "top": null,
      "visibility": null,
      "width": null
     }
    },
    "bd86c23f95634b5aa60a7210aa05a413": {
     "model_module": "@jupyter-widgets/controls",
     "model_module_version": "1.5.0",
     "model_name": "HTMLModel",
     "state": {
      "_dom_classes": [],
      "_model_module": "@jupyter-widgets/controls",
      "_model_module_version": "1.5.0",
      "_model_name": "HTMLModel",
      "_view_count": null,
      "_view_module": "@jupyter-widgets/controls",
      "_view_module_version": "1.5.0",
      "_view_name": "HTMLView",
      "description": "",
      "description_tooltip": null,
      "layout": "IPY_MODEL_77c33de58909405f86a0b90c1c1223cf",
      "placeholder": "​",
      "style": "IPY_MODEL_6e256bec6b9c4e5280671801d4a1b75e",
      "value": "Map:  94%"
     }
    },
    "bee0cc5bfa214cc2853a0db0a25e0e0c": {
     "model_module": "@jupyter-widgets/base",
     "model_module_version": "1.2.0",
     "model_name": "LayoutModel",
     "state": {
      "_model_module": "@jupyter-widgets/base",
      "_model_module_version": "1.2.0",
      "_model_name": "LayoutModel",
      "_view_count": null,
      "_view_module": "@jupyter-widgets/base",
      "_view_module_version": "1.2.0",
      "_view_name": "LayoutView",
      "align_content": null,
      "align_items": null,
      "align_self": null,
      "border": null,
      "bottom": null,
      "display": null,
      "flex": null,
      "flex_flow": null,
      "grid_area": null,
      "grid_auto_columns": null,
      "grid_auto_flow": null,
      "grid_auto_rows": null,
      "grid_column": null,
      "grid_gap": null,
      "grid_row": null,
      "grid_template_areas": null,
      "grid_template_columns": null,
      "grid_template_rows": null,
      "height": null,
      "justify_content": null,
      "justify_items": null,
      "left": null,
      "margin": null,
      "max_height": null,
      "max_width": null,
      "min_height": null,
      "min_width": null,
      "object_fit": null,
      "object_position": null,
      "order": null,
      "overflow": null,
      "overflow_x": null,
      "overflow_y": null,
      "padding": null,
      "right": null,
      "top": null,
      "visibility": null,
      "width": null
     }
    },
    "c5346d1345a94aeca3257d72895a496b": {
     "model_module": "@jupyter-widgets/controls",
     "model_module_version": "1.5.0",
     "model_name": "HTMLModel",
     "state": {
      "_dom_classes": [],
      "_model_module": "@jupyter-widgets/controls",
      "_model_module_version": "1.5.0",
      "_model_name": "HTMLModel",
      "_view_count": null,
      "_view_module": "@jupyter-widgets/controls",
      "_view_module_version": "1.5.0",
      "_view_name": "HTMLView",
      "description": "",
      "description_tooltip": null,
      "layout": "IPY_MODEL_161332eb79864fd5877d34eb57406651",
      "placeholder": "​",
      "style": "IPY_MODEL_94734f149522417389d318632756734b",
      "value": "Downloading (…)lve/main/config.json: 100%"
     }
    },
    "c63f94bda1074aa58bda46f7410712be": {
     "model_module": "@jupyter-widgets/controls",
     "model_module_version": "1.5.0",
     "model_name": "ProgressStyleModel",
     "state": {
      "_model_module": "@jupyter-widgets/controls",
      "_model_module_version": "1.5.0",
      "_model_name": "ProgressStyleModel",
      "_view_count": null,
      "_view_module": "@jupyter-widgets/base",
      "_view_module_version": "1.2.0",
      "_view_name": "StyleView",
      "bar_color": null,
      "description_width": ""
     }
    },
    "d2c471e150974bc6aaf55a44bb2d4fa6": {
     "model_module": "@jupyter-widgets/base",
     "model_module_version": "1.2.0",
     "model_name": "LayoutModel",
     "state": {
      "_model_module": "@jupyter-widgets/base",
      "_model_module_version": "1.2.0",
      "_model_name": "LayoutModel",
      "_view_count": null,
      "_view_module": "@jupyter-widgets/base",
      "_view_module_version": "1.2.0",
      "_view_name": "LayoutView",
      "align_content": null,
      "align_items": null,
      "align_self": null,
      "border": null,
      "bottom": null,
      "display": null,
      "flex": null,
      "flex_flow": null,
      "grid_area": null,
      "grid_auto_columns": null,
      "grid_auto_flow": null,
      "grid_auto_rows": null,
      "grid_column": null,
      "grid_gap": null,
      "grid_row": null,
      "grid_template_areas": null,
      "grid_template_columns": null,
      "grid_template_rows": null,
      "height": null,
      "justify_content": null,
      "justify_items": null,
      "left": null,
      "margin": null,
      "max_height": null,
      "max_width": null,
      "min_height": null,
      "min_width": null,
      "object_fit": null,
      "object_position": null,
      "order": null,
      "overflow": null,
      "overflow_x": null,
      "overflow_y": null,
      "padding": null,
      "right": null,
      "top": null,
      "visibility": null,
      "width": null
     }
    },
    "d860c1261852416492075ae82eb17818": {
     "model_module": "@jupyter-widgets/controls",
     "model_module_version": "1.5.0",
     "model_name": "HBoxModel",
     "state": {
      "_dom_classes": [],
      "_model_module": "@jupyter-widgets/controls",
      "_model_module_version": "1.5.0",
      "_model_name": "HBoxModel",
      "_view_count": null,
      "_view_module": "@jupyter-widgets/controls",
      "_view_module_version": "1.5.0",
      "_view_name": "HBoxView",
      "box_style": "",
      "children": [
       "IPY_MODEL_c5346d1345a94aeca3257d72895a496b",
       "IPY_MODEL_5977ad77c9f74c6dba76b3155e7d16db",
       "IPY_MODEL_35f3ff3850094a26adbd9c129a7ef19e"
      ],
      "layout": "IPY_MODEL_5b3f4cb408b343feb1131ab96838e4b7"
     }
    },
    "d99710b3cdc84b1b891f365ba48c550f": {
     "model_module": "@jupyter-widgets/controls",
     "model_module_version": "1.5.0",
     "model_name": "HTMLModel",
     "state": {
      "_dom_classes": [],
      "_model_module": "@jupyter-widgets/controls",
      "_model_module_version": "1.5.0",
      "_model_name": "HTMLModel",
      "_view_count": null,
      "_view_module": "@jupyter-widgets/controls",
      "_view_module_version": "1.5.0",
      "_view_name": "HTMLView",
      "description": "",
      "description_tooltip": null,
      "layout": "IPY_MODEL_d2c471e150974bc6aaf55a44bb2d4fa6",
      "placeholder": "​",
      "style": "IPY_MODEL_fb81c6f354df416581335036d8d508e3",
      "value": " 26.0/26.0 [00:00&lt;00:00, 1.41kB/s]"
     }
    },
    "da2cbae2575747cf88e12a3456bc8fcf": {
     "model_module": "@jupyter-widgets/controls",
     "model_module_version": "1.5.0",
     "model_name": "HTMLModel",
     "state": {
      "_dom_classes": [],
      "_model_module": "@jupyter-widgets/controls",
      "_model_module_version": "1.5.0",
      "_model_name": "HTMLModel",
      "_view_count": null,
      "_view_module": "@jupyter-widgets/controls",
      "_view_module_version": "1.5.0",
      "_view_name": "HTMLView",
      "description": "",
      "description_tooltip": null,
      "layout": "IPY_MODEL_ee8df07f961e43c1a36624988714d533",
      "placeholder": "​",
      "style": "IPY_MODEL_0fe60eddde794df88c4b862ae5c1d64f",
      "value": "Downloading (…)okenizer_config.json: 100%"
     }
    },
    "dc8863910dcf4a49a6bd33559f60ceb4": {
     "model_module": "@jupyter-widgets/base",
     "model_module_version": "1.2.0",
     "model_name": "LayoutModel",
     "state": {
      "_model_module": "@jupyter-widgets/base",
      "_model_module_version": "1.2.0",
      "_model_name": "LayoutModel",
      "_view_count": null,
      "_view_module": "@jupyter-widgets/base",
      "_view_module_version": "1.2.0",
      "_view_name": "LayoutView",
      "align_content": null,
      "align_items": null,
      "align_self": null,
      "border": null,
      "bottom": null,
      "display": null,
      "flex": null,
      "flex_flow": null,
      "grid_area": null,
      "grid_auto_columns": null,
      "grid_auto_flow": null,
      "grid_auto_rows": null,
      "grid_column": null,
      "grid_gap": null,
      "grid_row": null,
      "grid_template_areas": null,
      "grid_template_columns": null,
      "grid_template_rows": null,
      "height": null,
      "justify_content": null,
      "justify_items": null,
      "left": null,
      "margin": null,
      "max_height": null,
      "max_width": null,
      "min_height": null,
      "min_width": null,
      "object_fit": null,
      "object_position": null,
      "order": null,
      "overflow": null,
      "overflow_x": null,
      "overflow_y": null,
      "padding": null,
      "right": null,
      "top": null,
      "visibility": null,
      "width": null
     }
    },
    "e2313f45562f47a6896dc7e242383075": {
     "model_module": "@jupyter-widgets/controls",
     "model_module_version": "1.5.0",
     "model_name": "DescriptionStyleModel",
     "state": {
      "_model_module": "@jupyter-widgets/controls",
      "_model_module_version": "1.5.0",
      "_model_name": "DescriptionStyleModel",
      "_view_count": null,
      "_view_module": "@jupyter-widgets/base",
      "_view_module_version": "1.2.0",
      "_view_name": "StyleView",
      "description_width": ""
     }
    },
    "e51e9d5a315f446e9594105fab008816": {
     "model_module": "@jupyter-widgets/controls",
     "model_module_version": "1.5.0",
     "model_name": "HBoxModel",
     "state": {
      "_dom_classes": [],
      "_model_module": "@jupyter-widgets/controls",
      "_model_module_version": "1.5.0",
      "_model_name": "HBoxModel",
      "_view_count": null,
      "_view_module": "@jupyter-widgets/controls",
      "_view_module_version": "1.5.0",
      "_view_name": "HBoxView",
      "box_style": "",
      "children": [
       "IPY_MODEL_91f28c20bd9845cfb492c3360c1192e5",
       "IPY_MODEL_097909d81f134fc3a730d88a74d178e6",
       "IPY_MODEL_26a43481ed6b47be90d0d14e09f9636b"
      ],
      "layout": "IPY_MODEL_1327857656664b5a9c63ff1f89b2c5e7"
     }
    },
    "e8aa850926914cc5a776b5298668bbf3": {
     "model_module": "@jupyter-widgets/base",
     "model_module_version": "1.2.0",
     "model_name": "LayoutModel",
     "state": {
      "_model_module": "@jupyter-widgets/base",
      "_model_module_version": "1.2.0",
      "_model_name": "LayoutModel",
      "_view_count": null,
      "_view_module": "@jupyter-widgets/base",
      "_view_module_version": "1.2.0",
      "_view_name": "LayoutView",
      "align_content": null,
      "align_items": null,
      "align_self": null,
      "border": null,
      "bottom": null,
      "display": null,
      "flex": null,
      "flex_flow": null,
      "grid_area": null,
      "grid_auto_columns": null,
      "grid_auto_flow": null,
      "grid_auto_rows": null,
      "grid_column": null,
      "grid_gap": null,
      "grid_row": null,
      "grid_template_areas": null,
      "grid_template_columns": null,
      "grid_template_rows": null,
      "height": null,
      "justify_content": null,
      "justify_items": null,
      "left": null,
      "margin": null,
      "max_height": null,
      "max_width": null,
      "min_height": null,
      "min_width": null,
      "object_fit": null,
      "object_position": null,
      "order": null,
      "overflow": null,
      "overflow_x": null,
      "overflow_y": null,
      "padding": null,
      "right": null,
      "top": null,
      "visibility": null,
      "width": null
     }
    },
    "ee8df07f961e43c1a36624988714d533": {
     "model_module": "@jupyter-widgets/base",
     "model_module_version": "1.2.0",
     "model_name": "LayoutModel",
     "state": {
      "_model_module": "@jupyter-widgets/base",
      "_model_module_version": "1.2.0",
      "_model_name": "LayoutModel",
      "_view_count": null,
      "_view_module": "@jupyter-widgets/base",
      "_view_module_version": "1.2.0",
      "_view_name": "LayoutView",
      "align_content": null,
      "align_items": null,
      "align_self": null,
      "border": null,
      "bottom": null,
      "display": null,
      "flex": null,
      "flex_flow": null,
      "grid_area": null,
      "grid_auto_columns": null,
      "grid_auto_flow": null,
      "grid_auto_rows": null,
      "grid_column": null,
      "grid_gap": null,
      "grid_row": null,
      "grid_template_areas": null,
      "grid_template_columns": null,
      "grid_template_rows": null,
      "height": null,
      "justify_content": null,
      "justify_items": null,
      "left": null,
      "margin": null,
      "max_height": null,
      "max_width": null,
      "min_height": null,
      "min_width": null,
      "object_fit": null,
      "object_position": null,
      "order": null,
      "overflow": null,
      "overflow_x": null,
      "overflow_y": null,
      "padding": null,
      "right": null,
      "top": null,
      "visibility": null,
      "width": null
     }
    },
    "ef76c2c81a4549e9991907459445398b": {
     "model_module": "@jupyter-widgets/controls",
     "model_module_version": "1.5.0",
     "model_name": "DescriptionStyleModel",
     "state": {
      "_model_module": "@jupyter-widgets/controls",
      "_model_module_version": "1.5.0",
      "_model_name": "DescriptionStyleModel",
      "_view_count": null,
      "_view_module": "@jupyter-widgets/base",
      "_view_module_version": "1.2.0",
      "_view_name": "StyleView",
      "description_width": ""
     }
    },
    "f32e0ff2f74c46d19f81d44e7246b17a": {
     "model_module": "@jupyter-widgets/controls",
     "model_module_version": "1.5.0",
     "model_name": "ProgressStyleModel",
     "state": {
      "_model_module": "@jupyter-widgets/controls",
      "_model_module_version": "1.5.0",
      "_model_name": "ProgressStyleModel",
      "_view_count": null,
      "_view_module": "@jupyter-widgets/base",
      "_view_module_version": "1.2.0",
      "_view_name": "StyleView",
      "bar_color": null,
      "description_width": ""
     }
    },
    "f438e99cd74948a6a56024ca03dc01f5": {
     "model_module": "@jupyter-widgets/controls",
     "model_module_version": "1.5.0",
     "model_name": "HTMLModel",
     "state": {
      "_dom_classes": [],
      "_model_module": "@jupyter-widgets/controls",
      "_model_module_version": "1.5.0",
      "_model_name": "HTMLModel",
      "_view_count": null,
      "_view_module": "@jupyter-widgets/controls",
      "_view_module_version": "1.5.0",
      "_view_name": "HTMLView",
      "description": "",
      "description_tooltip": null,
      "layout": "IPY_MODEL_0a6c645193f347f58ceeada3ac8334e2",
      "placeholder": "​",
      "style": "IPY_MODEL_a17fca6623c34a528b5fd43b335112b9",
      "value": " 899k/899k [00:00&lt;00:00, 8.80MB/s]"
     }
    },
    "f72f173d7c9743b4b51b20d0c71a9d20": {
     "model_module": "@jupyter-widgets/base",
     "model_module_version": "1.2.0",
     "model_name": "LayoutModel",
     "state": {
      "_model_module": "@jupyter-widgets/base",
      "_model_module_version": "1.2.0",
      "_model_name": "LayoutModel",
      "_view_count": null,
      "_view_module": "@jupyter-widgets/base",
      "_view_module_version": "1.2.0",
      "_view_name": "LayoutView",
      "align_content": null,
      "align_items": null,
      "align_self": null,
      "border": null,
      "bottom": null,
      "display": null,
      "flex": null,
      "flex_flow": null,
      "grid_area": null,
      "grid_auto_columns": null,
      "grid_auto_flow": null,
      "grid_auto_rows": null,
      "grid_column": null,
      "grid_gap": null,
      "grid_row": null,
      "grid_template_areas": null,
      "grid_template_columns": null,
      "grid_template_rows": null,
      "height": null,
      "justify_content": null,
      "justify_items": null,
      "left": null,
      "margin": null,
      "max_height": null,
      "max_width": null,
      "min_height": null,
      "min_width": null,
      "object_fit": null,
      "object_position": null,
      "order": null,
      "overflow": null,
      "overflow_x": null,
      "overflow_y": null,
      "padding": null,
      "right": null,
      "top": null,
      "visibility": null,
      "width": null
     }
    },
    "f7326eb4fe9e4bd3a4a370f5f0e79021": {
     "model_module": "@jupyter-widgets/controls",
     "model_module_version": "1.5.0",
     "model_name": "FloatProgressModel",
     "state": {
      "_dom_classes": [],
      "_model_module": "@jupyter-widgets/controls",
      "_model_module_version": "1.5.0",
      "_model_name": "FloatProgressModel",
      "_view_count": null,
      "_view_module": "@jupyter-widgets/controls",
      "_view_module_version": "1.5.0",
      "_view_name": "ProgressView",
      "bar_style": "success",
      "description": "",
      "description_tooltip": null,
      "layout": "IPY_MODEL_b9500fa1b9504862a657f40a5c055c23",
      "max": 1355863,
      "min": 0,
      "orientation": "horizontal",
      "style": "IPY_MODEL_f32e0ff2f74c46d19f81d44e7246b17a",
      "value": 1355863
     }
    },
    "f7df8068d6e74abbb9b5b7bab1b252c5": {
     "model_module": "@jupyter-widgets/controls",
     "model_module_version": "1.5.0",
     "model_name": "ProgressStyleModel",
     "state": {
      "_model_module": "@jupyter-widgets/controls",
      "_model_module_version": "1.5.0",
      "_model_name": "ProgressStyleModel",
      "_view_count": null,
      "_view_module": "@jupyter-widgets/base",
      "_view_module_version": "1.2.0",
      "_view_name": "StyleView",
      "bar_color": null,
      "description_width": ""
     }
    },
    "f9313797d834492fbdba8007690d9b45": {
     "model_module": "@jupyter-widgets/controls",
     "model_module_version": "1.5.0",
     "model_name": "FloatProgressModel",
     "state": {
      "_dom_classes": [],
      "_model_module": "@jupyter-widgets/controls",
      "_model_module_version": "1.5.0",
      "_model_name": "FloatProgressModel",
      "_view_count": null,
      "_view_module": "@jupyter-widgets/controls",
      "_view_module_version": "1.5.0",
      "_view_name": "ProgressView",
      "bar_style": "",
      "description": "",
      "description_tooltip": null,
      "layout": "IPY_MODEL_4226520e28a546efabdb94db998689fc",
      "max": 8551,
      "min": 0,
      "orientation": "horizontal",
      "style": "IPY_MODEL_56d91010aaef46aab70165cbc1faa87e",
      "value": 8551
     }
    },
    "fb81c6f354df416581335036d8d508e3": {
     "model_module": "@jupyter-widgets/controls",
     "model_module_version": "1.5.0",
     "model_name": "DescriptionStyleModel",
     "state": {
      "_model_module": "@jupyter-widgets/controls",
      "_model_module_version": "1.5.0",
      "_model_name": "DescriptionStyleModel",
      "_view_count": null,
      "_view_module": "@jupyter-widgets/base",
      "_view_module_version": "1.2.0",
      "_view_name": "StyleView",
      "description_width": ""
     }
    },
    "fccc4e876cd64743bfbfa2b10a86fafb": {
     "model_module": "@jupyter-widgets/controls",
     "model_module_version": "1.5.0",
     "model_name": "DescriptionStyleModel",
     "state": {
      "_model_module": "@jupyter-widgets/controls",
      "_model_module_version": "1.5.0",
      "_model_name": "DescriptionStyleModel",
      "_view_count": null,
      "_view_module": "@jupyter-widgets/base",
      "_view_module_version": "1.2.0",
      "_view_name": "StyleView",
      "description_width": ""
     }
    },
    "fd032e12e6dc4d88ba7a8f050e41e001": {
     "model_module": "@jupyter-widgets/base",
     "model_module_version": "1.2.0",
     "model_name": "LayoutModel",
     "state": {
      "_model_module": "@jupyter-widgets/base",
      "_model_module_version": "1.2.0",
      "_model_name": "LayoutModel",
      "_view_count": null,
      "_view_module": "@jupyter-widgets/base",
      "_view_module_version": "1.2.0",
      "_view_name": "LayoutView",
      "align_content": null,
      "align_items": null,
      "align_self": null,
      "border": null,
      "bottom": null,
      "display": null,
      "flex": null,
      "flex_flow": null,
      "grid_area": null,
      "grid_auto_columns": null,
      "grid_auto_flow": null,
      "grid_auto_rows": null,
      "grid_column": null,
      "grid_gap": null,
      "grid_row": null,
      "grid_template_areas": null,
      "grid_template_columns": null,
      "grid_template_rows": null,
      "height": null,
      "justify_content": null,
      "justify_items": null,
      "left": null,
      "margin": null,
      "max_height": null,
      "max_width": null,
      "min_height": null,
      "min_width": null,
      "object_fit": null,
      "object_position": null,
      "order": null,
      "overflow": null,
      "overflow_x": null,
      "overflow_y": null,
      "padding": null,
      "right": null,
      "top": null,
      "visibility": null,
      "width": null
     }
    },
    "feac1350111c4a0893b1260c0d685ac5": {
     "model_module": "@jupyter-widgets/base",
     "model_module_version": "1.2.0",
     "model_name": "LayoutModel",
     "state": {
      "_model_module": "@jupyter-widgets/base",
      "_model_module_version": "1.2.0",
      "_model_name": "LayoutModel",
      "_view_count": null,
      "_view_module": "@jupyter-widgets/base",
      "_view_module_version": "1.2.0",
      "_view_name": "LayoutView",
      "align_content": null,
      "align_items": null,
      "align_self": null,
      "border": null,
      "bottom": null,
      "display": null,
      "flex": null,
      "flex_flow": null,
      "grid_area": null,
      "grid_auto_columns": null,
      "grid_auto_flow": null,
      "grid_auto_rows": null,
      "grid_column": null,
      "grid_gap": null,
      "grid_row": null,
      "grid_template_areas": null,
      "grid_template_columns": null,
      "grid_template_rows": null,
      "height": null,
      "justify_content": null,
      "justify_items": null,
      "left": null,
      "margin": null,
      "max_height": null,
      "max_width": null,
      "min_height": null,
      "min_width": null,
      "object_fit": null,
      "object_position": null,
      "order": null,
      "overflow": null,
      "overflow_x": null,
      "overflow_y": null,
      "padding": null,
      "right": null,
      "top": null,
      "visibility": null,
      "width": null
     }
    }
   }
  }
 },
 "nbformat": 4,
 "nbformat_minor": 1
}
