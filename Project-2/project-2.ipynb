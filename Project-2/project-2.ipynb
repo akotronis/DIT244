{
  "cells": [
    {
      "cell_type": "markdown",
      "metadata": {
        "id": "XLx5v_Z18pCv"
      },
      "source": [
        "<center><h1>DIT244 Project 2<br>(itp22104@hua.gr / Anastasios Kotronis)</h1><center>"
      ]
    },
    {
      "cell_type": "markdown",
      "metadata": {
        "id": "4Bt43-ccMuKq"
      },
      "source": [
        "# 1. Environment setup"
      ]
    },
    {
      "cell_type": "markdown",
      "metadata": {
        "id": "tWz4W_gkFw7N"
      },
      "source": [
        "Install dependencies"
      ]
    },
    {
      "cell_type": "code",
      "execution_count": null,
      "metadata": {
        "id": "6BS41KIO9uGW"
      },
      "outputs": [],
      "source": [
        "!python -m pip install --upgrade pip\n",
        "!pip install -r requirements.txt"
      ]
    },
    {
      "cell_type": "markdown",
      "metadata": {
        "id": "tiK7Eff8F7ta"
      },
      "source": [
        "Fix dependency errors in Colab"
      ]
    },
    {
      "cell_type": "code",
      "execution_count": null,
      "metadata": {
        "id": "faiababDQ4bI"
      },
      "outputs": [],
      "source": [
        "# For \"kers jaxlib version 0.4.7 is newer than and incompatible with jax version 0.4.6. Please update your jax and/or jaxlib packages\" Error\n",
        "! pip install --upgrade \"jax[cuda]\" -f https://storage.googleapis.com/jax-releases/jax_releases.html\n",
        "# For \"partially initialized module 'jax' has no attribute 'version' (most likely due to a circular import)\" Error\n",
        "! pip install -U jax jaxlib\n",
        "\n",
        "print(5*'\\n'+'FINISHED')"
      ]
    },
    {
      "cell_type": "markdown",
      "metadata": {
        "id": "G4fmrzwIJmpS"
      },
      "source": [
        "# 2. Φόρτωση Δεδομένων"
      ]
    },
    {
      "cell_type": "markdown",
      "metadata": {
        "id": "rPNST7zrKB9z"
      },
      "source": [
        "## 2.0. Δημουργία `dataset` path"
      ]
    },
    {
      "cell_type": "markdown",
      "metadata": {
        "id": "u-3YKgdODsyK"
      },
      "source": [
        "Define the name of the base folder were our image data are located"
      ]
    },
    {
      "cell_type": "code",
      "execution_count": 1,
      "metadata": {
        "id": "rIS32KlMDfGq"
      },
      "outputs": [],
      "source": [
        "DATA_FLD_NAME = 'data'"
      ]
    },
    {
      "cell_type": "markdown",
      "metadata": {
        "id": "BEPGXhuhD2cs"
      },
      "source": [
        "Get the full path were of the data folder is.\n",
        "\n",
        "If `mount_gd=True` it will mount a Drive folder and get it from there"
      ]
    },
    {
      "cell_type": "code",
      "execution_count": 2,
      "metadata": {
        "id": "MTh5QzxT7frt"
      },
      "outputs": [],
      "source": [
        "import os\n",
        "\n",
        "def get_dataset_fld(mount_gd=True, dataset_fld_name=DATA_FLD_NAME):\n",
        "    cwd = os.getcwd()\n",
        "    if mount_gd:\n",
        "        from google.colab import drive\n",
        "        drive_mount = os.path.join(cwd, 'gdrive')\n",
        "        drive.mount(drive_mount, force_remount=True)\n",
        "        return os.path.join(drive_mount, 'MyDrive', 'Colab Notebooks', dataset_fld_name)\n",
        "    return os.path.join(cwd, dataset_fld_name)"
      ]
    },
    {
      "cell_type": "code",
      "execution_count": 3,
      "metadata": {
        "id": "-0GvcvR17ft9",
        "colab": {
          "base_uri": "https://localhost:8080/"
        },
        "outputId": "e7f2a3e4-38ab-450d-82f0-d1b723d39250"
      },
      "outputs": [
        {
          "output_type": "stream",
          "name": "stdout",
          "text": [
            "Mounted at /content/gdrive\n",
            "/content/gdrive/MyDrive/Colab Notebooks/data\n"
          ]
        }
      ],
      "source": [
        "DATA_FLD = get_dataset_fld(True)\n",
        "print(DATA_FLD)"
      ]
    },
    {
      "cell_type": "markdown",
      "metadata": {
        "id": "eQGD4rnkJ2tC"
      },
      "source": [
        "## 2.1 Βήμα 1 - Δημιουργία λίστας με τις εικόνες"
      ]
    },
    {
      "cell_type": "code",
      "execution_count": 4,
      "metadata": {
        "id": "Wdev4Jvh_2Sf"
      },
      "outputs": [],
      "source": [
        "import sys\n",
        "\n",
        "# Remove from cache imported utils with wrong class name `rainy`\n",
        "if 'utils' in sys.modules:\n",
        "    del sys.modules['utils']\n",
        "\n",
        "# Import it again with correct class name `rain`\n",
        "import utils"
      ]
    },
    {
      "cell_type": "markdown",
      "metadata": {
        "id": "QEquyKupETEB"
      },
      "source": [
        "Get files and labels in a dict format"
      ]
    },
    {
      "cell_type": "code",
      "source": [
        "class_files_dict = utils.get_dict_with_files_per_class(DATA_FLD)\n",
        "print(list(class_files_dict.keys()))"
      ],
      "metadata": {
        "colab": {
          "base_uri": "https://localhost:8080/"
        },
        "id": "A2gLs6Qj0Z6t",
        "outputId": "df199474-59cc-4d51-c279-bec59106eab7"
      },
      "execution_count": 5,
      "outputs": [
        {
          "output_type": "stream",
          "name": "stdout",
          "text": [
            "['sunrise', 'cloudy', 'rain', 'shine']\n"
          ]
        }
      ]
    },
    {
      "cell_type": "markdown",
      "metadata": {
        "id": "vPmmit3jKXzi"
      },
      "source": [
        "## 2.2. Βήμα 2 - Αποθήκευση εικόνων με σωστή ιεραρχία"
      ]
    },
    {
      "cell_type": "markdown",
      "source": [
        "Define a function that samples files from each class for ***train***, ***test*** and ***validation*** data according to percentages given"
      ],
      "metadata": {
        "id": "aE-Ni6Gj_a55"
      }
    },
    {
      "cell_type": "code",
      "source": [
        "import random\n",
        "\n",
        "def split_train_test_val_files(class_files_dict, train, test):\n",
        "    '''train, test -> in [0,1]\n",
        "       Return {\n",
        "        'train':{class_files_dict}, 'test':{class_files_dict}, 'val':{class_files_dict}\n",
        "       }\n",
        "    '''\n",
        "    d = {'train':{}, 'test':{}, 'val':{}}\n",
        "    for name, files in class_files_dict.items():\n",
        "        files_num = len(files)\n",
        "        train_num = int(train * files_num)\n",
        "        test_num = int(test * files_num)\n",
        "        # Select files for train\n",
        "        train_fls = random.sample(files, train_num)\n",
        "        d['train'][name] = train_fls\n",
        "        # Select files for test\n",
        "        remaining = [x for x in files if x not in train_fls]\n",
        "        test_fls = random.sample(remaining, test_num)\n",
        "        d['test'][name] = test_fls\n",
        "        # Select files for test\n",
        "        val_fls = [x for x in files if not any([x in train_fls, x in test_fls])]\n",
        "        d['val'][name] = val_fls\n",
        "    return d\n",
        "\n"
      ],
      "metadata": {
        "id": "bjYCsemGcD4u"
      },
      "execution_count": 6,
      "outputs": []
    },
    {
      "cell_type": "markdown",
      "metadata": {
        "id": "n2l4shl0EYPu"
      },
      "source": [
        "Define a function to transform file structure to the form required by `keras`\n",
        "\n",
        "This file structure will be done separately for ***train***, ***test*** and ***validation*** data"
      ]
    },
    {
      "cell_type": "code",
      "execution_count": null,
      "metadata": {
        "id": "I4Qe74xJG2xE"
      },
      "outputs": [],
      "source": [
        "def store_in_keras_structure(class_files_dict):\n",
        "    train_test_val_files = split_train_test_val_files(class_files_dict, TRAIN_PRC, TEST_PRC)\n",
        "    for dataset, cls_fl_dct in train_test_val_files.items():\n",
        "        dataset_fld = os.path.join(DATA_FLD, dataset)\n",
        "        if not os.path.exists(dataset_fld):\n",
        "            os.mkdir(dataset_fld)\n",
        "        for class_name in cls_fl_dct.keys():\n",
        "            class_fld = os.path.join(dataset_fld, class_name)\n",
        "            if not os.path.exists(class_fld):\n",
        "                os.mkdir(class_fld)\n",
        "            for f in cls_fl_dct[class_name]:\n",
        "                if os.path.isfile(f):\n",
        "                    file_name = os.path.normpath(f.split(os.sep)[-1])\n",
        "                    new_file_path = os.path.join(class_fld, file_name)\n",
        "                    if os.path.exists(f):\n",
        "                        os.replace(f, new_file_path)"
      ]
    },
    {
      "cell_type": "markdown",
      "source": [
        "Define percentages for ***train*** and ***test*** and store files in file structure format required by `keras` for ***train***, ***test*** and ***validation*** data"
      ],
      "metadata": {
        "id": "U5b--ZjG_3QE"
      }
    },
    {
      "cell_type": "code",
      "source": [
        "TRAIN_PRC = .6\n",
        "TEST_PRC = .2\n",
        "\n",
        "store_in_keras_structure(class_files_dict)"
      ],
      "metadata": {
        "id": "_IVkbYmO876F"
      },
      "execution_count": null,
      "outputs": []
    },
    {
      "cell_type": "markdown",
      "metadata": {
        "id": "XLqiGSmVKob1"
      },
      "source": [
        "## 2.3. Βήμα 3"
      ]
    },
    {
      "cell_type": "code",
      "execution_count": 11,
      "metadata": {
        "id": "2BauVihuOwQn"
      },
      "outputs": [],
      "source": [
        "import tensorflow as tf\n",
        "from tensorflow import keras\n",
        "import numpy as np\n",
        "import pandas as pd\n",
        "import matplotlib.pyplot as plt\n",
        "import seaborn as sns\n",
        "\n",
        "sns.set_theme()\n",
        "%matplotlib inline"
      ]
    },
    {
      "cell_type": "markdown",
      "metadata": {
        "id": "9yik4s54GFzD"
      },
      "source": [
        "Function implementation to split to train-test-validation datasets, along with the use of `image_dataset_from_directory`\n",
        "\n",
        "[Reference](https://stackoverflow.com/questions/66036271/splitting-a-tensorflow-dataset-into-training-test-and-validation-sets-from-ker)"
      ]
    },
    {
      "cell_type": "code",
      "source": [
        "def load_datasets(train_fld, test_fld, val_fld, batch_size, image_size):\n",
        "    train_ds = tf.keras.utils.image_dataset_from_directory(\n",
        "            directory=train_fld,\n",
        "            shuffle=True,\n",
        "            batch_size=batch_size,\n",
        "            image_size=image_size\n",
        "        )\n",
        "    test_ds = tf.keras.utils.image_dataset_from_directory(\n",
        "            directory=test_fld,\n",
        "            shuffle=False,\n",
        "            batch_size=batch_size,\n",
        "            image_size=image_size\n",
        "        )\n",
        "    val_ds = tf.keras.utils.image_dataset_from_directory(\n",
        "            directory=val_fld,\n",
        "            shuffle=False,\n",
        "            batch_size=batch_size,\n",
        "            image_size=image_size\n",
        "        )\n",
        "    return train_ds, test_ds, val_ds"
      ],
      "metadata": {
        "id": "iPY94yzTAhKL"
      },
      "execution_count": 8,
      "outputs": []
    },
    {
      "cell_type": "code",
      "execution_count": 9,
      "metadata": {
        "id": "b3gnHnYbLEYQ",
        "colab": {
          "base_uri": "https://localhost:8080/"
        },
        "outputId": "a6686312-371e-4e33-f4fc-b1c49c497e80"
      },
      "outputs": [
        {
          "output_type": "stream",
          "name": "stdout",
          "text": [
            "64\n"
          ]
        }
      ],
      "source": [
        "BATCH_SIZE = 64 if DATA_FLD_NAME == 'data' else 4\n",
        "IMAGE_SIZE = (256, 256)\n",
        "\n",
        "print(BATCH_SIZE)"
      ]
    },
    {
      "cell_type": "code",
      "source": [
        "train_fld = os.path.join(DATA_FLD, 'train')\n",
        "test_fld = os.path.join(DATA_FLD, 'test')\n",
        "val_fld = os.path.join(DATA_FLD, 'val')\n",
        "\n",
        "train_ds, test_ds, val_ds = load_datasets(train_fld, test_fld, val_fld, BATCH_SIZE, IMAGE_SIZE)"
      ],
      "metadata": {
        "colab": {
          "base_uri": "https://localhost:8080/"
        },
        "id": "CEniLPAnetzF",
        "outputId": "29cdee71-4470-4074-ba40-4db9bdba5576"
      },
      "execution_count": 12,
      "outputs": [
        {
          "output_type": "stream",
          "name": "stdout",
          "text": [
            "Found 674 files belonging to 4 classes.\n",
            "Found 224 files belonging to 4 classes.\n",
            "Found 227 files belonging to 4 classes.\n"
          ]
        }
      ]
    },
    {
      "cell_type": "code",
      "source": [
        "CLASS_NAMES = train_ds.class_names\n",
        "NUM_CLASSES = len(CLASS_NAMES)\n",
        "print(CLASS_NAMES)"
      ],
      "metadata": {
        "id": "zFkM85E6hm_F",
        "colab": {
          "base_uri": "https://localhost:8080/"
        },
        "outputId": "05b47aef-c969-4bfa-f15b-30e9b8218563"
      },
      "execution_count": 13,
      "outputs": [
        {
          "output_type": "stream",
          "name": "stdout",
          "text": [
            "['cloudy', 'rain', 'shine', 'sunrise']\n"
          ]
        }
      ]
    },
    {
      "cell_type": "markdown",
      "metadata": {
        "id": "QeVgV6_08hsI"
      },
      "source": [
        "Get ***train***, ***test***, ***val*** datasets as a dict"
      ]
    },
    {
      "cell_type": "code",
      "source": [
        "DATASETS_DICT = {\n",
        "        'train': train_ds,\n",
        "        'test': test_ds,\n",
        "        'val': val_ds\n",
        "    }"
      ],
      "metadata": {
        "id": "xHUVy8Qi4Znq"
      },
      "execution_count": 14,
      "outputs": []
    },
    {
      "cell_type": "markdown",
      "metadata": {
        "id": "Cl-Q3dAhLGRa"
      },
      "source": [
        "# 3. Απλό Συνελικτικό Δίκτυο"
      ]
    },
    {
      "cell_type": "markdown",
      "metadata": {
        "id": "4-LWS2AFyIfk"
      },
      "source": [
        "## 3.0. Συνάρτηση δημιουργίας μοντέλου"
      ]
    },
    {
      "cell_type": "markdown",
      "metadata": {
        "id": "HbhLozkmLONG"
      },
      "source": [
        "Implementation of the function creating the model"
      ]
    },
    {
      "cell_type": "code",
      "execution_count": 43,
      "metadata": {
        "id": "h0BlZ4B8UkdA"
      },
      "outputs": [],
      "source": [
        "def cnn_simple(num_classes):\n",
        "    return keras.Sequential(\n",
        "        [\n",
        "            # keras.Input(shape=(256, 256, 3)),\n",
        "            # 1. Rescale an input to [0, 1]\n",
        "            keras.layers.Rescaling(scale=1./255),\n",
        "            # 2. Conv2D 8, 3x3\n",
        "            keras.layers.Conv2D(filters=8, kernel_size=(3, 3), activation=\"relu\"),\n",
        "            # 3. MaxPooling step 2\n",
        "            keras.layers.MaxPooling2D(pool_size=(2, 2), strides=2),\n",
        "            # 4. Conv2D 16, 3x3\n",
        "            keras.layers.Conv2D(filters=16, kernel_size=(3, 3), activation=\"relu\"),\n",
        "            # 5. MaxPooling step 2\n",
        "            keras.layers.MaxPooling2D(pool_size=(2, 2), strides=2),\n",
        "            # 6. Flatten\n",
        "            keras.layers.Flatten(),\n",
        "            # 7. Fully connected\n",
        "            keras.layers.Dense(units=32, activation='relu'),\n",
        "            # 8. Output\n",
        "            keras.layers.Dense(units=num_classes, activation='softmax')\n",
        "        ]\n",
        "    )"
      ]
    },
    {
      "cell_type": "code",
      "source": [
        "nn1 = cnn_simple(NUM_CLASSES)"
      ],
      "metadata": {
        "id": "jPzyTH_ygy3z"
      },
      "execution_count": 44,
      "outputs": []
    },
    {
      "cell_type": "markdown",
      "metadata": {
        "id": "DHVEA9CGyPYL"
      },
      "source": [
        "## 3.1. Εκπαίδευση"
      ]
    },
    {
      "cell_type": "markdown",
      "metadata": {
        "id": "C81JhzRZrvLJ"
      },
      "source": [
        "1. [categorical_crossentropy vs sparse_categorical_crossentropy](https://datascience.stackexchange.com/questions/41921/sparse-categorical-crossentropy-vs-categorical-crossentropy-keras-accuracy/55987#55987)\n",
        "2. [categorical_crossentropy vs sparse_categorical_crossentropy](https://datascience.stackexchange.com/questions/85780/tensorflow-2-one-hot-encoding-of-labels/85783#85783)\n",
        "3. [sparse_categorical_crossentropy](https://www.tensorflow.org/tutorials/load_data/images#configure_the_dataset_for_performance)"
      ]
    },
    {
      "cell_type": "code",
      "execution_count": 45,
      "metadata": {
        "id": "4Gc5bhvUKX7A"
      },
      "outputs": [],
      "source": [
        "from keras.callbacks import EarlyStopping\n",
        "\n",
        "early_stop = EarlyStopping(\n",
        "    monitor='val_loss',\n",
        "    mode='min',\n",
        "    patience=5\n",
        ")\n",
        "\n",
        "def compile_and_fit(\n",
        "    model,\n",
        "    train_X=None,\n",
        "    val_X=None,\n",
        "    train_y=None,\n",
        "    val_y=None,\n",
        "    optimizer=None,\n",
        "    epochs=20\n",
        "):\n",
        "    train_data = [train_X] if train_y is None else [train_X, train_y]\n",
        "    val_data = val_X if val_y is None else [val_X, val_y]\n",
        "    optimizer = keras.optimizers.Adam(\n",
        "            learning_rate=0.001,\n",
        "            beta_1=0.9,\n",
        "            beta_2=0.99\n",
        "        ) if optimizer is None else optimizer\n",
        "    model.compile(\n",
        "        # `sparse_categorical_crossentropy` handles one hot encoding\n",
        "        loss='sparse_categorical_crossentropy',\n",
        "        optimizer=optimizer,\n",
        "        metrics=['accuracy']\n",
        "    )\n",
        "    history = model.fit(\n",
        "        *train_data,\n",
        "        validation_data=val_data,\n",
        "        batch_size=BATCH_SIZE,\n",
        "        epochs=epochs,\n",
        "        callbacks=[early_stop]\n",
        "    )\n",
        "    print(5*'\\n'+'FINISHED')\n",
        "    return history"
      ]
    },
    {
      "cell_type": "code",
      "source": [
        "history = compile_and_fit(nn1, train_ds, val_ds)"
      ],
      "metadata": {
        "colab": {
          "base_uri": "https://localhost:8080/"
        },
        "id": "JSrTfU7vzEM2",
        "outputId": "976a9a4e-a817-4675-bc83-e416020bb0bd"
      },
      "execution_count": 46,
      "outputs": [
        {
          "output_type": "stream",
          "name": "stdout",
          "text": [
            "Epoch 1/20\n",
            "11/11 [==============================] - 8s 202ms/step - loss: 1.7224 - accuracy: 0.5593 - val_loss: 0.6428 - val_accuracy: 0.7753\n",
            "Epoch 2/20\n",
            "11/11 [==============================] - 5s 235ms/step - loss: 0.5828 - accuracy: 0.8012 - val_loss: 0.5715 - val_accuracy: 0.7930\n",
            "Epoch 3/20\n",
            "11/11 [==============================] - 4s 150ms/step - loss: 0.4584 - accuracy: 0.8501 - val_loss: 0.5134 - val_accuracy: 0.7974\n",
            "Epoch 4/20\n",
            "11/11 [==============================] - 6s 367ms/step - loss: 0.3719 - accuracy: 0.8798 - val_loss: 0.4702 - val_accuracy: 0.8326\n",
            "Epoch 5/20\n",
            "11/11 [==============================] - 4s 156ms/step - loss: 0.2579 - accuracy: 0.9258 - val_loss: 0.3804 - val_accuracy: 0.8767\n",
            "Epoch 6/20\n",
            "11/11 [==============================] - 4s 153ms/step - loss: 0.2239 - accuracy: 0.9318 - val_loss: 0.4741 - val_accuracy: 0.8106\n",
            "Epoch 7/20\n",
            "11/11 [==============================] - 4s 205ms/step - loss: 0.2352 - accuracy: 0.9169 - val_loss: 0.3904 - val_accuracy: 0.8590\n",
            "Epoch 8/20\n",
            "11/11 [==============================] - 5s 191ms/step - loss: 0.1902 - accuracy: 0.9377 - val_loss: 0.4050 - val_accuracy: 0.8855\n",
            "Epoch 9/20\n",
            "11/11 [==============================] - 4s 153ms/step - loss: 0.1808 - accuracy: 0.9451 - val_loss: 0.3810 - val_accuracy: 0.8899\n",
            "Epoch 10/20\n",
            "11/11 [==============================] - 4s 151ms/step - loss: 0.1219 - accuracy: 0.9659 - val_loss: 0.3250 - val_accuracy: 0.8987\n",
            "Epoch 11/20\n",
            "11/11 [==============================] - 5s 235ms/step - loss: 0.1178 - accuracy: 0.9644 - val_loss: 0.3704 - val_accuracy: 0.8987\n",
            "Epoch 12/20\n",
            "11/11 [==============================] - 4s 156ms/step - loss: 0.1054 - accuracy: 0.9733 - val_loss: 0.3529 - val_accuracy: 0.9119\n",
            "Epoch 13/20\n",
            "11/11 [==============================] - 3s 152ms/step - loss: 0.0757 - accuracy: 0.9807 - val_loss: 0.3551 - val_accuracy: 0.9163\n",
            "Epoch 14/20\n",
            "11/11 [==============================] - 4s 202ms/step - loss: 0.0496 - accuracy: 0.9926 - val_loss: 0.3560 - val_accuracy: 0.9163\n",
            "Epoch 15/20\n",
            "11/11 [==============================] - 5s 195ms/step - loss: 0.0522 - accuracy: 0.9881 - val_loss: 0.3462 - val_accuracy: 0.9075\n",
            "\n",
            "\n",
            "\n",
            "\n",
            "\n",
            "FINISHED\n"
          ]
        }
      ]
    },
    {
      "cell_type": "code",
      "source": [
        "_ = pd.DataFrame(history.history)[['loss', 'val_loss']].plot()"
      ],
      "metadata": {
        "colab": {
          "base_uri": "https://localhost:8080/",
          "height": 434
        },
        "id": "YWkZfL1xzoD0",
        "outputId": "990a7676-83bd-47c5-f35f-5fd56f9ba82c"
      },
      "execution_count": 47,
      "outputs": [
        {
          "output_type": "display_data",
          "data": {
            "text/plain": [
              "<Figure size 640x480 with 1 Axes>"
            ],
            "image/png": "[encoded data removed]"
          },
          "metadata": {}
        }
      ]
    },
    {
      "cell_type": "markdown",
      "metadata": {
        "id": "fBhEC35CgYyR"
      },
      "source": [
        "\n",
        "We don't observe divergence, so this is a sign we didn't overfit"
      ]
    },
    {
      "cell_type": "code",
      "execution_count": 52,
      "metadata": {
        "id": "ggMJLN5Vgz71",
        "colab": {
          "base_uri": "https://localhost:8080/"
        },
        "outputId": "52bf0496-4c80-4749-8b55-0a4e95168bcc"
      },
      "outputs": [
        {
          "output_type": "stream",
          "name": "stdout",
          "text": [
            "Model: \"sequential\"\n",
            "_________________________________________________________________\n",
            " Layer (type)                Output Shape              Param #   \n",
            "=================================================================\n",
            " rescaling (Rescaling)       (None, 256, 256, 3)       0         \n",
            "                                                                 \n",
            " conv2d_94 (Conv2D)          (None, 254, 254, 8)       224       \n",
            "                                                                 \n",
            " max_pooling2d_4 (MaxPooling  (None, 127, 127, 8)      0         \n",
            " 2D)                                                             \n",
            "                                                                 \n",
            " conv2d_95 (Conv2D)          (None, 125, 125, 16)      1168      \n",
            "                                                                 \n",
            " max_pooling2d_5 (MaxPooling  (None, 62, 62, 16)       0         \n",
            " 2D)                                                             \n",
            "                                                                 \n",
            " flatten (Flatten)           (None, 61504)             0         \n",
            "                                                                 \n",
            " dense_1 (Dense)             (None, 32)                1968160   \n",
            "                                                                 \n",
            " dense_2 (Dense)             (None, 4)                 132       \n",
            "                                                                 \n",
            "=================================================================\n",
            "Total params: 1,969,684\n",
            "Trainable params: 1,969,684\n",
            "Non-trainable params: 0\n",
            "_________________________________________________________________\n"
          ]
        }
      ],
      "source": [
        "nn1.summary()"
      ]
    },
    {
      "cell_type": "markdown",
      "metadata": {
        "id": "oh6DAdVwe4cB"
      },
      "source": [
        "## 3.2. Αξιολόγηση\n",
        "\n",
        "\n"
      ]
    },
    {
      "cell_type": "markdown",
      "source": [
        "### 3.2.0 Βοηθητικές συναρτήσεις"
      ],
      "metadata": {
        "id": "4-ivb68wCdei"
      }
    },
    {
      "cell_type": "markdown",
      "metadata": {
        "id": "X3ChxOhSeOQr"
      },
      "source": [
        "For the model evaluation we define the following functions:\n",
        "- `y_y_pred_from_ds` to get labels and predictions from dataset with a model\n",
        "- `clf_report` to convert make the classification report string\n",
        "- `clf_report_do_df` to convert the classification report string to a `DataFrame` for display purposes\n",
        "- `confusion_matrix_report` to plot the confusion matrix and return it\n",
        "- `stats_from_confusion_matrix` to calculate stats from the confusion matrix independently of the classification report"
      ]
    },
    {
      "cell_type": "code",
      "source": [
        "def y_y_pred_from_ds(ds, model):\n",
        "    '''Get labels and predictions from dataset using model\n",
        "       ds can be a dataset or a list of the form [X, y]\n",
        "    '''\n",
        "    if not isinstance(ds, list):\n",
        "        y_pred, y = [], []\n",
        "        for feature, label in ds:\n",
        "            y_pred.extend(model.predict(feature))\n",
        "            y.extend(label.numpy())\n",
        "    else:\n",
        "        X, y = ds\n",
        "        y_pred = model.predict(X)\n",
        "\n",
        "    # Transform labels to class names\n",
        "    y = keras.utils.to_categorical(y, num_classes=NUM_CLASSES)\n",
        "    y = [CLASS_NAMES[x] for x in np.argmax(y, axis=1)]\n",
        "    y_pred = [CLASS_NAMES[x] for x in np.argmax(y_pred, axis=1)]\n",
        "    return y, y_pred"
      ],
      "metadata": {
        "id": "jLggUkWz3i-A"
      },
      "execution_count": 39,
      "outputs": []
    },
    {
      "cell_type": "code",
      "execution_count": 33,
      "metadata": {
        "id": "PIvu3UYXeRth"
      },
      "outputs": [],
      "source": [
        "def clf_report(model, subset, digits=5):\n",
        "    '''Makes Classification Report and returns it'''\n",
        "    \n",
        "    import sklearn.metrics as metrics\n",
        "    \n",
        "    ds = DATASETS_DICT[subset] if isinstance(subset, str) else subset\n",
        "    y, y_pred = y_y_pred_from_ds(ds, model)\n",
        "\n",
        "    # Classification report\n",
        "    return metrics.classification_report(\n",
        "        y,\n",
        "        y_pred,\n",
        "        target_names=CLASS_NAMES,\n",
        "        digits=digits\n",
        "    )"
      ]
    },
    {
      "cell_type": "code",
      "execution_count": 34,
      "metadata": {
        "id": "MlP8dlNoePIR"
      },
      "outputs": [],
      "source": [
        "def clf_report_to_df(txt):\n",
        "    '''Convert classification report to DataFrame'''\n",
        "    \n",
        "    txt = txt.strip().replace('\\n\\n', '\\n')\n",
        "    txt = [ln.strip() for ln in txt.split('\\n')]\n",
        "    lines = []\n",
        "    for ln in txt:\n",
        "        if ln.startswith('accuracy'):\n",
        "            line = ln.split()\n",
        "            line.insert(1,'')\n",
        "            line.insert(1,'')\n",
        "        elif ln.startswith('precision'):\n",
        "            line = ln.split()\n",
        "            line.insert(0,'classes/agg')\n",
        "        elif 'avg' in ln:\n",
        "            line = ln.replace(' avg','-avg').split()\n",
        "        else:\n",
        "            line = ln.split()\n",
        "        lines.append(line)\n",
        "    \n",
        "    return pd.DataFrame(data=lines[1:], columns=lines[0]).set_index('classes/agg')"
      ]
    },
    {
      "cell_type": "code",
      "execution_count": 35,
      "metadata": {
        "id": "OQGiNMn85A-B"
      },
      "outputs": [],
      "source": [
        "def stats_from_confusion_matrix(cm):\n",
        "    '''Calculate stats from Confusion Matrix'''\n",
        "\n",
        "    import warnings\n",
        "    warnings.filterwarnings('ignore')\n",
        "\n",
        "    # Convert Confusion Matrix to DataFrame\n",
        "    df = pd.DataFrame(cm, columns=CLASS_NAMES, index=CLASS_NAMES)\n",
        "    df.columns.name = 'Predicted'\n",
        "    df.index.name = 'Actual'\n",
        "    \n",
        "    # Accuracy\n",
        "    acc = df.mul(np.eye(len(df))).sum().sum() / df.sum().sum()\n",
        "    precisions, recalls, fscores = [], [], []\n",
        "    print(f' Per Class '.center(50, '='))\n",
        "    for cls in CLASS_NAMES:\n",
        "        print(f'Class `{cls}`')\n",
        "        tp = df.loc[cls,cls]            # Class TP\n",
        "        fp = df.loc[:,cls].sum() - tp   # Class FP\n",
        "        fn = df.loc[cls,:].sum() - tp   # Class FN\n",
        "        # Class Precision\n",
        "        try:\n",
        "            pr = tp / (tp + fp)\n",
        "        except:\n",
        "            pr = 0\n",
        "        else:\n",
        "            if pd.isnull(pr):\n",
        "                pr = 0\n",
        "        # Class Recall\n",
        "        try:\n",
        "            rc = tp / (tp + fn)\n",
        "        except:\n",
        "            rc = 0\n",
        "        else:\n",
        "            if pd.isnull(rc):\n",
        "                rc = 0\n",
        "        # Class FScore\n",
        "        try:                            \n",
        "            1 / pr\n",
        "            1 / rc\n",
        "        except:\n",
        "            fsc = 0\n",
        "        else:\n",
        "            fsc = 2 * pr * rc / (pr + rc)\n",
        "            if pd.isnull(fsc):\n",
        "                fsc = 0\n",
        "        precisions.append(pr)\n",
        "        recalls.append(rc)\n",
        "        fscores.append(fsc)\n",
        "        print(f'\\tPrecision: {pr:.5f}')\n",
        "        print(f'\\tRecall: {rc:.5f}')\n",
        "        print(f'\\tFScore: {fsc:.5f}')\n",
        "    print(f' Overall '.center(50, '='))\n",
        "    print(f'Accuracy: {acc:.5f}')\n",
        "    print(f'Precision: {sum(precisions)/len(precisions):.5f}')\n",
        "    print(f'Recall: {sum(recalls)/len(recalls):.5f}')\n",
        "    print(f'FScore: {sum(fscores)/len(fscores):.5f}')"
      ]
    },
    {
      "cell_type": "code",
      "execution_count": 36,
      "metadata": {
        "id": "tVbwsZNC3WoF"
      },
      "outputs": [],
      "source": [
        "def confusion_matrix_report(model, subset):\n",
        "    '''plot Confusion Matrix and return it'''\n",
        "    \n",
        "    import sklearn.metrics as metrics\n",
        "    \n",
        "    ds = DATASETS_DICT[subset] if isinstance(subset, str) else subset\n",
        "    y, y_pred = y_y_pred_from_ds(ds, model)\n",
        "\n",
        "    # Confusion Matrix\n",
        "    fig, ax = plt.subplots(figsize=(6,4))\n",
        "    ax.grid(False)\n",
        "    cm = metrics.confusion_matrix(y, y_pred)\n",
        "    cmp = metrics.ConfusionMatrixDisplay(cm, display_labels=CLASS_NAMES)\n",
        "    cmp.plot(ax=ax, xticks_rotation=45)\n",
        "    plt.show()\n",
        "    return cm"
      ]
    },
    {
      "cell_type": "markdown",
      "metadata": {
        "id": "4z0C724VzAj0"
      },
      "source": [
        "### 3.2.1. ***Validation*** dataset"
      ]
    },
    {
      "cell_type": "code",
      "source": [
        "stats_from_confusion_matrix(confusion_matrix_report(nn1, 'val'))"
      ],
      "metadata": {
        "colab": {
          "base_uri": "https://localhost:8080/",
          "height": 882
        },
        "id": "NaSJ4zhpyzM9",
        "outputId": "f7b6d736-2c3e-473a-9e4e-c412bad77211"
      },
      "execution_count": 48,
      "outputs": [
        {
          "output_type": "stream",
          "name": "stdout",
          "text": [
            "2/2 [==============================] - 0s 13ms/step\n",
            "2/2 [==============================] - 0s 12ms/step\n",
            "2/2 [==============================] - 0s 13ms/step\n",
            "2/2 [==============================] - 0s 63ms/step\n"
          ]
        },
        {
          "output_type": "display_data",
          "data": {
            "text/plain": [
              "<Figure size 600x400 with 2 Axes>"
            ],
            "image/png": "[encoded data removed]"
          },
          "metadata": {}
        },
        {
          "output_type": "stream",
          "name": "stdout",
          "text": [
            "=================== Per Class ====================\n",
            "Class `cloudy`\n",
            "\tPrecision: 0.84375\n",
            "\tRecall: 0.90000\n",
            "\tFScore: 0.87097\n",
            "Class `rain`\n",
            "\tPrecision: 0.88889\n",
            "\tRecall: 0.93023\n",
            "\tFScore: 0.90909\n",
            "Class `shine`\n",
            "\tPrecision: 0.91489\n",
            "\tRecall: 0.82692\n",
            "\tFScore: 0.86869\n",
            "Class `sunrise`\n",
            "\tPrecision: 0.97183\n",
            "\tRecall: 0.95833\n",
            "\tFScore: 0.96503\n",
            "==================== Overall =====================\n",
            "Accuracy: 0.90749\n",
            "Precision: 0.90484\n",
            "Recall: 0.90387\n",
            "FScore: 0.90345\n"
          ]
        }
      ]
    },
    {
      "cell_type": "markdown",
      "metadata": {
        "id": "0iGJA4-oSRys"
      },
      "source": [
        "We can also calculate stats directly from `sklearn.metrics.classification_report`"
      ]
    },
    {
      "cell_type": "code",
      "execution_count": 50,
      "metadata": {
        "id": "ZMFl5d6fv9io",
        "colab": {
          "base_uri": "https://localhost:8080/",
          "height": 369
        },
        "outputId": "f93b627b-32c6-4ebe-8561-1e6542006f05"
      },
      "outputs": [
        {
          "output_type": "stream",
          "name": "stdout",
          "text": [
            "2/2 [==============================] - 0s 15ms/step\n",
            "2/2 [==============================] - 0s 21ms/step\n",
            "2/2 [==============================] - 0s 35ms/step\n",
            "2/2 [==============================] - 0s 7ms/step\n"
          ]
        },
        {
          "output_type": "execute_result",
          "data": {
            "text/plain": [
              "             precision   recall f1-score support\n",
              "classes/agg                                     \n",
              "cloudy         0.84375  0.90000  0.87097      60\n",
              "rain           0.88889  0.93023  0.90909      43\n",
              "shine          0.91489  0.82692  0.86869      52\n",
              "sunrise        0.97183  0.95833  0.96503      72\n",
              "accuracy                         0.90749     227\n",
              "macro-avg      0.90484  0.90387  0.90345     227\n",
              "weighted-avg   0.90922  0.90749  0.90750     227"
            ],
            "text/html": [
              "\n",
              "  <div id=\"df-7495a99f-f63e-461d-b322-1a3aeff58075\">\n",
              "    <div class=\"colab-df-container\">\n",
              "      <div>\n",
              "<style scoped>\n",
              "    .dataframe tbody tr th:only-of-type {\n",
              "        vertical-align: middle;\n",
              "    }\n",
              "\n",
              "    .dataframe tbody tr th {\n",
              "        vertical-align: top;\n",
              "    }\n",
              "\n",
              "    .dataframe thead th {\n",
              "        text-align: right;\n",
              "    }\n",
              "</style>\n",
              "<table border=\"1\" class=\"dataframe\">\n",
              "  <thead>\n",
              "    <tr style=\"text-align: right;\">\n",
              "      <th></th>\n",
              "      <th>precision</th>\n",
              "      <th>recall</th>\n",
              "      <th>f1-score</th>\n",
              "      <th>support</th>\n",
              "    </tr>\n",
              "    <tr>\n",
              "      <th>classes/agg</th>\n",
              "      <th></th>\n",
              "      <th></th>\n",
              "      <th></th>\n",
              "      <th></th>\n",
              "    </tr>\n",
              "  </thead>\n",
              "  <tbody>\n",
              "    <tr>\n",
              "      <th>cloudy</th>\n",
              "      <td>0.84375</td>\n",
              "      <td>0.90000</td>\n",
              "      <td>0.87097</td>\n",
              "      <td>60</td>\n",
              "    </tr>\n",
              "    <tr>\n",
              "      <th>rain</th>\n",
              "      <td>0.88889</td>\n",
              "      <td>0.93023</td>\n",
              "      <td>0.90909</td>\n",
              "      <td>43</td>\n",
              "    </tr>\n",
              "    <tr>\n",
              "      <th>shine</th>\n",
              "      <td>0.91489</td>\n",
              "      <td>0.82692</td>\n",
              "      <td>0.86869</td>\n",
              "      <td>52</td>\n",
              "    </tr>\n",
              "    <tr>\n",
              "      <th>sunrise</th>\n",
              "      <td>0.97183</td>\n",
              "      <td>0.95833</td>\n",
              "      <td>0.96503</td>\n",
              "      <td>72</td>\n",
              "    </tr>\n",
              "    <tr>\n",
              "      <th>accuracy</th>\n",
              "      <td></td>\n",
              "      <td></td>\n",
              "      <td>0.90749</td>\n",
              "      <td>227</td>\n",
              "    </tr>\n",
              "    <tr>\n",
              "      <th>macro-avg</th>\n",
              "      <td>0.90484</td>\n",
              "      <td>0.90387</td>\n",
              "      <td>0.90345</td>\n",
              "      <td>227</td>\n",
              "    </tr>\n",
              "    <tr>\n",
              "      <th>weighted-avg</th>\n",
              "      <td>0.90922</td>\n",
              "      <td>0.90749</td>\n",
              "      <td>0.90750</td>\n",
              "      <td>227</td>\n",
              "    </tr>\n",
              "  </tbody>\n",
              "</table>\n",
              "</div>\n",
              "      <button class=\"colab-df-convert\" onclick=\"convertToInteractive('df-7495a99f-f63e-461d-b322-1a3aeff58075')\"\n",
              "              title=\"Convert this dataframe to an interactive table.\"\n",
              "              style=\"display:none;\">\n",
              "        \n",
              "  <svg xmlns=\"http://www.w3.org/2000/svg\" height=\"24px\"viewBox=\"0 0 24 24\"\n",
              "       width=\"24px\">\n",
              "    <path d=\"M0 0h24v24H0V0z\" fill=\"none\"/>\n",
              "    <path d=\"M18.56 5.44l.94 2.06.94-2.06 2.06-.94-2.06-.94-.94-2.06-.94 2.06-2.06.94zm-11 1L8.5 8.5l.94-2.06 2.06-.94-2.06-.94L8.5 2.5l-.94 2.06-2.06.94zm10 10l.94 2.06.94-2.06 2.06-.94-2.06-.94-.94-2.06-.94 2.06-2.06.94z\"/><path d=\"M17.41 7.96l-1.37-1.37c-.4-.4-.92-.59-1.43-.59-.52 0-1.04.2-1.43.59L10.3 9.45l-7.72 7.72c-.78.78-.78 2.05 0 2.83L4 21.41c.39.39.9.59 1.41.59.51 0 1.02-.2 1.41-.59l7.78-7.78 2.81-2.81c.8-.78.8-2.07 0-2.86zM5.41 20L4 18.59l7.72-7.72 1.47 1.35L5.41 20z\"/>\n",
              "  </svg>\n",
              "      </button>\n",
              "      \n",
              "  <style>\n",
              "    .colab-df-container {\n",
              "      display:flex;\n",
              "      flex-wrap:wrap;\n",
              "      gap: 12px;\n",
              "    }\n",
              "\n",
              "    .colab-df-convert {\n",
              "      background-color: #E8F0FE;\n",
              "      border: none;\n",
              "      border-radius: 50%;\n",
              "      cursor: pointer;\n",
              "      display: none;\n",
              "      fill: #1967D2;\n",
              "      height: 32px;\n",
              "      padding: 0 0 0 0;\n",
              "      width: 32px;\n",
              "    }\n",
              "\n",
              "    .colab-df-convert:hover {\n",
              "      background-color: #E2EBFA;\n",
              "      box-shadow: 0px 1px 2px rgba(60, 64, 67, 0.3), 0px 1px 3px 1px rgba(60, 64, 67, 0.15);\n",
              "      fill: #174EA6;\n",
              "    }\n",
              "\n",
              "    [theme=dark] .colab-df-convert {\n",
              "      background-color: #3B4455;\n",
              "      fill: #D2E3FC;\n",
              "    }\n",
              "\n",
              "    [theme=dark] .colab-df-convert:hover {\n",
              "      background-color: #434B5C;\n",
              "      box-shadow: 0px 1px 3px 1px rgba(0, 0, 0, 0.15);\n",
              "      filter: drop-shadow(0px 1px 2px rgba(0, 0, 0, 0.3));\n",
              "      fill: #FFFFFF;\n",
              "    }\n",
              "  </style>\n",
              "\n",
              "      <script>\n",
              "        const buttonEl =\n",
              "          document.querySelector('#df-7495a99f-f63e-461d-b322-1a3aeff58075 button.colab-df-convert');\n",
              "        buttonEl.style.display =\n",
              "          google.colab.kernel.accessAllowed ? 'block' : 'none';\n",
              "\n",
              "        async function convertToInteractive(key) {\n",
              "          const element = document.querySelector('#df-7495a99f-f63e-461d-b322-1a3aeff58075');\n",
              "          const dataTable =\n",
              "            await google.colab.kernel.invokeFunction('convertToInteractive',\n",
              "                                                     [key], {});\n",
              "          if (!dataTable) return;\n",
              "\n",
              "          const docLinkHtml = 'Like what you see? Visit the ' +\n",
              "            '<a target=\"_blank\" href=https://colab.research.google.com/notebooks/data_table.ipynb>data table notebook</a>'\n",
              "            + ' to learn more about interactive tables.';\n",
              "          element.innerHTML = '';\n",
              "          dataTable['output_type'] = 'display_data';\n",
              "          await google.colab.output.renderOutput(dataTable, element);\n",
              "          const docLink = document.createElement('div');\n",
              "          docLink.innerHTML = docLinkHtml;\n",
              "          element.appendChild(docLink);\n",
              "        }\n",
              "      </script>\n",
              "    </div>\n",
              "  </div>\n",
              "  "
            ]
          },
          "metadata": {},
          "execution_count": 50
        }
      ],
      "source": [
        "clf_report_to_df(clf_report(nn1, 'val'))"
      ]
    },
    {
      "cell_type": "markdown",
      "metadata": {
        "id": "lIvHqKB9X6OJ"
      },
      "source": [
        "### 3.2.2. ***Test*** dataset"
      ]
    },
    {
      "cell_type": "code",
      "source": [
        "stats_from_confusion_matrix(confusion_matrix_report(nn1, 'test'))"
      ],
      "metadata": {
        "colab": {
          "base_uri": "https://localhost:8080/",
          "height": 882
        },
        "id": "40Ghspe70BGH",
        "outputId": "e08cc8f4-21eb-4640-ef84-8f56b78665ef"
      },
      "execution_count": 49,
      "outputs": [
        {
          "output_type": "stream",
          "name": "stdout",
          "text": [
            "2/2 [==============================] - 0s 15ms/step\n",
            "2/2 [==============================] - 0s 16ms/step\n",
            "2/2 [==============================] - 0s 15ms/step\n",
            "1/1 [==============================] - 0s 30ms/step\n"
          ]
        },
        {
          "output_type": "display_data",
          "data": {
            "text/plain": [
              "<Figure size 600x400 with 2 Axes>"
            ],
            "image/png": "[encoded data removed]"
          },
          "metadata": {}
        },
        {
          "output_type": "stream",
          "name": "stdout",
          "text": [
            "=================== Per Class ====================\n",
            "Class `cloudy`\n",
            "\tPrecision: 0.86792\n",
            "\tRecall: 0.76667\n",
            "\tFScore: 0.81416\n",
            "Class `rain`\n",
            "\tPrecision: 0.82000\n",
            "\tRecall: 0.95349\n",
            "\tFScore: 0.88172\n",
            "Class `shine`\n",
            "\tPrecision: 0.81132\n",
            "\tRecall: 0.86000\n",
            "\tFScore: 0.83495\n",
            "Class `sunrise`\n",
            "\tPrecision: 1.00000\n",
            "\tRecall: 0.95775\n",
            "\tFScore: 0.97842\n",
            "==================== Overall =====================\n",
            "Accuracy: 0.88393\n",
            "Precision: 0.87481\n",
            "Recall: 0.88448\n",
            "FScore: 0.87731\n"
          ]
        }
      ]
    },
    {
      "cell_type": "markdown",
      "metadata": {
        "id": "u9xIh-eExSIo"
      },
      "source": [
        "# 4. Συνελικτικό δίκτυο μεγάλου βάθους"
      ]
    },
    {
      "cell_type": "code",
      "execution_count": 51,
      "metadata": {
        "id": "_1tDMXIv70jp"
      },
      "outputs": [],
      "source": [
        "nn2 = keras.Sequential(\n",
        "    [\n",
        "        # 1. Rescale an input to [0, 1]\n",
        "        keras.layers.Rescaling(scale=1./255),\n",
        "        # 2. 3x Conv2D 32, 3x3\n",
        "        keras.layers.Conv2D(filters=32, kernel_size=(3, 3), activation=\"relu\"),\n",
        "        keras.layers.Conv2D(filters=32, kernel_size=(3, 3), activation=\"relu\"),\n",
        "        keras.layers.Conv2D(filters=32, kernel_size=(3, 3), activation=\"relu\"),\n",
        "        # 3. MaxPooling step 4\n",
        "        keras.layers.MaxPooling2D(pool_size=(2, 2), strides=4),\n",
        "        # 4. 3x Conv2D 64, 3x3\n",
        "        keras.layers.Conv2D(filters=64, kernel_size=(3, 3), activation=\"relu\"),\n",
        "        keras.layers.Conv2D(filters=64, kernel_size=(3, 3), activation=\"relu\"),\n",
        "        keras.layers.Conv2D(filters=64, kernel_size=(3, 3), activation=\"relu\"),\n",
        "        # 5. MaxPooling step 2\n",
        "        keras.layers.MaxPooling2D(pool_size=(2, 2), strides=2),\n",
        "        # 6. 3x Conv2D 128, 3x3\n",
        "        keras.layers.Conv2D(filters=128, kernel_size=(3, 3), activation=\"relu\"),\n",
        "        keras.layers.Conv2D(filters=128, kernel_size=(3, 3), activation=\"relu\"),\n",
        "        keras.layers.Conv2D(filters=128, kernel_size=(3, 3), activation=\"relu\"),\n",
        "        # 7. MaxPooling step 2\n",
        "        keras.layers.MaxPooling2D(pool_size=(2, 2), strides=2),\n",
        "        # 8. Flatten\n",
        "        keras.layers.Flatten(),\n",
        "        # 9. Fully connected\n",
        "        keras.layers.Dense(units=128, activation='relu'),\n",
        "        # 10. Output\n",
        "        keras.layers.Dense(units=NUM_CLASSES, activation='softmax')\n",
        "    ]\n",
        ")"
      ]
    },
    {
      "cell_type": "code",
      "execution_count": null,
      "metadata": {
        "id": "cvh2P05A-FJw",
        "colab": {
          "base_uri": "https://localhost:8080/"
        },
        "outputId": "c3414830-a28e-47e5-cf9c-1590837edf80"
      },
      "outputs": [
        {
          "output_type": "stream",
          "name": "stdout",
          "text": [
            "Epoch 1/20\n",
            "11/11 [==============================] - 15s 429ms/step - loss: 1.1792 - accuracy: 0.4318 - val_loss: 0.8815 - val_accuracy: 0.5551\n",
            "Epoch 2/20\n",
            "11/11 [==============================] - 7s 429ms/step - loss: 0.9290 - accuracy: 0.5178 - val_loss: 0.9644 - val_accuracy: 0.5595\n",
            "Epoch 3/20\n",
            "11/11 [==============================] - 7s 417ms/step - loss: 0.8649 - accuracy: 0.5534 - val_loss: 0.8631 - val_accuracy: 0.5683\n",
            "Epoch 4/20\n",
            "11/11 [==============================] - 8s 551ms/step - loss: 0.8101 - accuracy: 0.6246 - val_loss: 0.8055 - val_accuracy: 0.5815\n",
            "Epoch 5/20\n",
            "11/11 [==============================] - 6s 369ms/step - loss: 0.7420 - accuracy: 0.6899 - val_loss: 0.7457 - val_accuracy: 0.6211\n",
            "Epoch 6/20\n",
            "11/11 [==============================] - 7s 421ms/step - loss: 0.6673 - accuracy: 0.7359 - val_loss: 0.6311 - val_accuracy: 0.7357\n",
            "Epoch 7/20\n",
            "11/11 [==============================] - 6s 383ms/step - loss: 0.6125 - accuracy: 0.7596 - val_loss: 0.5847 - val_accuracy: 0.7489\n",
            "Epoch 8/20\n",
            "11/11 [==============================] - 7s 421ms/step - loss: 0.5371 - accuracy: 0.7760 - val_loss: 0.5917 - val_accuracy: 0.7489\n",
            "Epoch 9/20\n",
            "11/11 [==============================] - 6s 382ms/step - loss: 0.4651 - accuracy: 0.8160 - val_loss: 0.5796 - val_accuracy: 0.7974\n",
            "Epoch 10/20\n",
            "11/11 [==============================] - 7s 389ms/step - loss: 0.4132 - accuracy: 0.8368 - val_loss: 0.4894 - val_accuracy: 0.8018\n",
            "Epoch 11/20\n",
            "11/11 [==============================] - 6s 366ms/step - loss: 0.4076 - accuracy: 0.8294 - val_loss: 0.5365 - val_accuracy: 0.7533\n",
            "Epoch 12/20\n",
            "11/11 [==============================] - 7s 414ms/step - loss: 0.4584 - accuracy: 0.8101 - val_loss: 0.5412 - val_accuracy: 0.7753\n",
            "Epoch 13/20\n",
            "11/11 [==============================] - 6s 366ms/step - loss: 0.3996 - accuracy: 0.8442 - val_loss: 0.5057 - val_accuracy: 0.7753\n",
            "Epoch 14/20\n",
            "11/11 [==============================] - 8s 428ms/step - loss: 0.4196 - accuracy: 0.8249 - val_loss: 0.7527 - val_accuracy: 0.7137\n",
            "Epoch 15/20\n",
            "11/11 [==============================] - 6s 366ms/step - loss: 0.4593 - accuracy: 0.8279 - val_loss: 0.6466 - val_accuracy: 0.7841\n",
            "\n",
            "\n",
            "\n",
            "\n",
            "\n",
            "FINISHED\n"
          ]
        }
      ],
      "source": [
        "history = compile_and_fit(nn2, train_ds, val_ds)"
      ]
    },
    {
      "cell_type": "code",
      "execution_count": null,
      "metadata": {
        "id": "VdfXtjJF_N-B",
        "colab": {
          "base_uri": "https://localhost:8080/"
        },
        "outputId": "da2d3df4-9a56-420c-8256-0c4dd87f917a"
      },
      "outputs": [
        {
          "output_type": "stream",
          "name": "stdout",
          "text": [
            "Model: \"sequential_3\"\n",
            "_________________________________________________________________\n",
            " Layer (type)                Output Shape              Param #   \n",
            "=================================================================\n",
            " rescaling_3 (Rescaling)     (None, 256, 256, 3)       0         \n",
            "                                                                 \n",
            " conv2d_114 (Conv2D)         (None, 254, 254, 32)      896       \n",
            "                                                                 \n",
            " conv2d_115 (Conv2D)         (None, 252, 252, 32)      9248      \n",
            "                                                                 \n",
            " conv2d_116 (Conv2D)         (None, 250, 250, 32)      9248      \n",
            "                                                                 \n",
            " max_pooling2d_12 (MaxPoolin  (None, 63, 63, 32)       0         \n",
            " g2D)                                                            \n",
            "                                                                 \n",
            " conv2d_117 (Conv2D)         (None, 61, 61, 64)        18496     \n",
            "                                                                 \n",
            " conv2d_118 (Conv2D)         (None, 59, 59, 64)        36928     \n",
            "                                                                 \n",
            " conv2d_119 (Conv2D)         (None, 57, 57, 64)        36928     \n",
            "                                                                 \n",
            " max_pooling2d_13 (MaxPoolin  (None, 28, 28, 64)       0         \n",
            " g2D)                                                            \n",
            "                                                                 \n",
            " conv2d_120 (Conv2D)         (None, 26, 26, 128)       73856     \n",
            "                                                                 \n",
            " conv2d_121 (Conv2D)         (None, 24, 24, 128)       147584    \n",
            "                                                                 \n",
            " conv2d_122 (Conv2D)         (None, 22, 22, 128)       147584    \n",
            "                                                                 \n",
            " max_pooling2d_14 (MaxPoolin  (None, 11, 11, 128)      0         \n",
            " g2D)                                                            \n",
            "                                                                 \n",
            " flatten_3 (Flatten)         (None, 15488)             0         \n",
            "                                                                 \n",
            " dense_8 (Dense)             (None, 128)               1982592   \n",
            "                                                                 \n",
            " dense_9 (Dense)             (None, 4)                 516       \n",
            "                                                                 \n",
            "=================================================================\n",
            "Total params: 2,463,876\n",
            "Trainable params: 2,463,876\n",
            "Non-trainable params: 0\n",
            "_________________________________________________________________\n"
          ]
        }
      ],
      "source": [
        "nn2.summary()"
      ]
    },
    {
      "cell_type": "code",
      "source": [
        "_ = pd.DataFrame(history.history)[['loss', 'val_loss']].plot()"
      ],
      "metadata": {
        "colab": {
          "base_uri": "https://localhost:8080/",
          "height": 434
        },
        "id": "dTaHYy4uH4ZN",
        "outputId": "60a73da4-00a2-4b88-9c96-93ea1bbf9b39"
      },
      "execution_count": null,
      "outputs": [
        {
          "output_type": "display_data",
          "data": {
            "text/plain": [
              "<Figure size 640x480 with 1 Axes>"
            ],
            "image/png": "[encoded data removed]"
          },
          "metadata": {}
        }
      ]
    },
    {
      "cell_type": "markdown",
      "source": [
        "We don't observe divergence, so this is a sign we didn't overfit"
      ],
      "metadata": {
        "id": "W1yck4IhGCMB"
      }
    },
    {
      "cell_type": "markdown",
      "metadata": {
        "id": "Tk8IuuBvbugD"
      },
      "source": [
        "## 4.0 Αξιολόγηση"
      ]
    },
    {
      "cell_type": "markdown",
      "metadata": {
        "id": "Dlj-bll1b_Mz"
      },
      "source": [
        "#### 4.0.1. ***Validation*** dataset"
      ]
    },
    {
      "cell_type": "code",
      "execution_count": null,
      "metadata": {
        "id": "3BeGtpJSb2uw",
        "colab": {
          "base_uri": "https://localhost:8080/",
          "height": 882
        },
        "outputId": "d49a3656-caa1-4894-eca8-378abbc7b014"
      },
      "outputs": [
        {
          "output_type": "stream",
          "name": "stdout",
          "text": [
            "2/2 [==============================] - 0s 58ms/step\n",
            "2/2 [==============================] - 0s 57ms/step\n",
            "2/2 [==============================] - 0s 37ms/step\n",
            "2/2 [==============================] - 0s 34ms/step\n"
          ]
        },
        {
          "output_type": "display_data",
          "data": {
            "text/plain": [
              "<Figure size 600x400 with 2 Axes>"
            ],
            "image/png": "[encoded data removed]"
          },
          "metadata": {}
        },
        {
          "output_type": "stream",
          "name": "stdout",
          "text": [
            "=================== Per Class ====================\n",
            "Class `cloudy`\n",
            "\tPrecision: 0.70909\n",
            "\tRecall: 0.65000\n",
            "\tFScore: 0.67826\n",
            "Class `rain`\n",
            "\tPrecision: 0.59459\n",
            "\tRecall: 0.51163\n",
            "\tFScore: 0.55000\n",
            "Class `shine`\n",
            "\tPrecision: 0.78462\n",
            "\tRecall: 0.98077\n",
            "\tFScore: 0.87179\n",
            "Class `sunrise`\n",
            "\tPrecision: 0.94286\n",
            "\tRecall: 0.91667\n",
            "\tFScore: 0.92958\n",
            "==================== Overall =====================\n",
            "Accuracy: 0.78414\n",
            "Precision: 0.75779\n",
            "Recall: 0.76477\n",
            "FScore: 0.75741\n"
          ]
        }
      ],
      "source": [
        "stats_from_confusion_matrix(confusion_matrix_report(nn2, 'val'))"
      ]
    },
    {
      "cell_type": "markdown",
      "metadata": {
        "id": "7Ertg8lmb3FU"
      },
      "source": [
        "#### 4.0.2. ***Test*** dataset"
      ]
    },
    {
      "cell_type": "code",
      "execution_count": null,
      "metadata": {
        "id": "InbQ8OzCb3Ys",
        "colab": {
          "base_uri": "https://localhost:8080/",
          "height": 888
        },
        "outputId": "0f757733-40d7-4de1-ba8b-860ab2d57a44"
      },
      "outputs": [
        {
          "output_type": "stream",
          "name": "stdout",
          "text": [
            "2/2 [==============================] - 0s 53ms/step\n",
            "2/2 [==============================] - 0s 55ms/step\n",
            "2/2 [==============================] - 0s 46ms/step\n",
            "1/1 [==============================] - 0s 34ms/step\n"
          ]
        },
        {
          "output_type": "display_data",
          "data": {
            "text/plain": [
              "<Figure size 600x400 with 2 Axes>"
            ],
            "image/png": "[encoded data removed]"
          },
          "metadata": {}
        },
        {
          "output_type": "stream",
          "name": "stdout",
          "text": [
            "=================== Per Class ====================\n",
            "Class `cloudy`\n",
            "\tPrecision: 0.67797\n",
            "\tRecall: 0.66667\n",
            "\tFScore: 0.67227\n",
            "Class `rain`\n",
            "\tPrecision: 0.78571\n",
            "\tRecall: 0.51163\n",
            "\tFScore: 0.61972\n",
            "Class `shine`\n",
            "\tPrecision: 0.71212\n",
            "\tRecall: 0.94000\n",
            "\tFScore: 0.81034\n",
            "Class `sunrise`\n",
            "\tPrecision: 0.98592\n",
            "\tRecall: 0.98592\n",
            "\tFScore: 0.98592\n",
            "==================== Overall =====================\n",
            "Accuracy: 0.79911\n",
            "Precision: 0.79043\n",
            "Recall: 0.77605\n",
            "FScore: 0.77206\n"
          ]
        }
      ],
      "source": [
        "stats_from_confusion_matrix(confusion_matrix_report(nn2, 'test'))"
      ]
    },
    {
      "cell_type": "markdown",
      "source": [
        "# Σύγκριση 1"
      ],
      "metadata": {
        "id": "2_5vhKdhAFHa"
      }
    },
    {
      "cell_type": "markdown",
      "source": [
        "We observe bigger difference in accuracy between **train-validation** and **train-test** data in the simple model than in the deep one, but significantly better performance of the simple one on **test** data compared to the deep.\n",
        "\n",
        "The better performance is maybe because it learns in a simpler way and can generalize better."
      ],
      "metadata": {
        "id": "eDoX03EH9jdq"
      }
    },
    {
      "cell_type": "markdown",
      "metadata": {
        "id": "vqc90UrifUEJ"
      },
      "source": [
        "# 5. Προεκπαιδευμένο Νευρωνικό Δίκτυο"
      ]
    },
    {
      "cell_type": "code",
      "execution_count": 16,
      "metadata": {
        "id": "QZZZm0mtfXo-"
      },
      "outputs": [],
      "source": [
        "from keras.applications.inception_v3 import InceptionV3"
      ]
    },
    {
      "cell_type": "markdown",
      "source": [
        "Define a function to split `X` nd `y` from datasets"
      ],
      "metadata": {
        "id": "rrbeXWdz6J9T"
      }
    },
    {
      "cell_type": "code",
      "source": [
        "def split_X_y(ds):\n",
        "    '''We need to create X and y in one run of ds if it is shuffled\n",
        "       because each time it is exhausted it is reshuffled\n",
        "       and if we do it separatelly we will have observation missmatches for X,y\n",
        "    '''\n",
        "    Xs, ys = [], []\n",
        "    for X, y in ds.unbatch().take(-1):\n",
        "        Xs.append(X.numpy())\n",
        "        ys.append(y.numpy())\n",
        "    return np.array(Xs), np.array(ys)"
      ],
      "metadata": {
        "id": "ef5dKWsDKqqa"
      },
      "execution_count": 17,
      "outputs": []
    },
    {
      "cell_type": "markdown",
      "source": [
        "Seperate `X` from `y`"
      ],
      "metadata": {
        "id": "Q6dT8UhySIiO"
      }
    },
    {
      "cell_type": "code",
      "source": [
        "train_X, train_y = split_X_y(train_ds)\n",
        "test_X, test_y = split_X_y(test_ds)\n",
        "val_X, val_y = split_X_y(val_ds)"
      ],
      "metadata": {
        "id": "xfvB4jddIf4q"
      },
      "execution_count": 21,
      "outputs": []
    },
    {
      "cell_type": "markdown",
      "metadata": {
        "id": "IqJC0vooho7m"
      },
      "source": [
        "Scale input pixels between -1 and 1 as mentioned in the [docs](https://keras.io/api/applications/inceptionv3/)"
      ]
    },
    {
      "cell_type": "code",
      "execution_count": 22,
      "metadata": {
        "id": "zvZ9i8k-fyR1"
      },
      "outputs": [],
      "source": [
        "train_X_pre = keras.applications.resnet50.preprocess_input(train_X.astype('float32'))\n",
        "test_X_pre = keras.applications.resnet50.preprocess_input(test_X.astype('float32'))\n",
        "val_X_pre = keras.applications.resnet50.preprocess_input(val_X.astype('float32'))"
      ]
    },
    {
      "cell_type": "markdown",
      "metadata": {
        "id": "H-gZ3sKJi9NH"
      },
      "source": [
        "Define input shape as the one used for model training (`(299, 299, 3)` according to the [docs](https://keras.io/api/applications/inceptionv3/))"
      ]
    },
    {
      "cell_type": "code",
      "execution_count": 23,
      "metadata": {
        "id": "SnZT6CcviubV"
      },
      "outputs": [],
      "source": [
        "input_shape = (299, 299, 3)"
      ]
    },
    {
      "cell_type": "code",
      "execution_count": 24,
      "metadata": {
        "id": "9Qb7QUKdhYyW",
        "colab": {
          "base_uri": "https://localhost:8080/"
        },
        "outputId": "9b049550-dd34-4706-8dda-ee3c02e588b9"
      },
      "outputs": [
        {
          "output_type": "stream",
          "name": "stdout",
          "text": [
            "Downloading data from https://storage.googleapis.com/tensorflow/keras-applications/inception_v3/inception_v3_weights_tf_dim_ordering_tf_kernels_notop.h5\n",
            "87910968/87910968 [==============================] - 0s 0us/step\n"
          ]
        }
      ],
      "source": [
        "inception_v3 = InceptionV3(input_shape=input_shape, weights='imagenet', include_top=False)"
      ]
    },
    {
      "cell_type": "markdown",
      "metadata": {
        "id": "5sA946JYlfTF"
      },
      "source": [
        "- Freeze `InceptionV3`'s convolutional layers\n",
        "- Resize input to our needs\n",
        "- Add `GlobalAveragePooling2D` according to recommendation ([Fine-tune InceptionV3 on a new set of classes](https://keras.io/api/applications/#usage-examples-for-image-classification-models))"
      ]
    },
    {
      "cell_type": "code",
      "execution_count": 25,
      "metadata": {
        "id": "KO984nNVkGyA"
      },
      "outputs": [],
      "source": [
        "def make_pretrained(trainable=False):\n",
        "    # Freeze all convolutional InceptionV3 layers according to `trainable`\n",
        "    inception_v3.trainable = trainable\n",
        "\n",
        "    # Resizing layer\n",
        "    input = keras.Input(shape=train_X[0].shape)\n",
        "    x = keras.layers.Resizing(*input_shape[:-1])(input)\n",
        "    x = inception_v3(x)\n",
        "\n",
        "    # Add GlobalAveragePooling\n",
        "    x = keras.layers.GlobalAveragePooling2D()(x)\n",
        "\n",
        "    # Define output\n",
        "    out = keras.layers.Dense(NUM_CLASSES, activation='softmax')(x)\n",
        "    return keras.Model(input, outputs=[out])"
      ]
    },
    {
      "cell_type": "code",
      "source": [
        "nn3 = make_pretrained()"
      ],
      "metadata": {
        "id": "A2jkC-5S2TWp"
      },
      "execution_count": 26,
      "outputs": []
    },
    {
      "cell_type": "code",
      "execution_count": 28,
      "metadata": {
        "id": "c5Y40uVckLO2",
        "colab": {
          "base_uri": "https://localhost:8080/"
        },
        "outputId": "0f916913-04aa-461d-f45a-9eee495a9ac2"
      },
      "outputs": [
        {
          "output_type": "stream",
          "name": "stdout",
          "text": [
            "Epoch 1/20\n",
            "11/11 [==============================] - 15s 1s/step - loss: 7.4583 - accuracy: 0.2849 - val_loss: 4.3693 - val_accuracy: 0.4229\n",
            "Epoch 2/20\n",
            "11/11 [==============================] - 4s 352ms/step - loss: 3.1595 - accuracy: 0.5193 - val_loss: 3.1166 - val_accuracy: 0.5595\n",
            "Epoch 3/20\n",
            "11/11 [==============================] - 4s 355ms/step - loss: 2.5511 - accuracy: 0.6261 - val_loss: 3.0206 - val_accuracy: 0.5991\n",
            "Epoch 4/20\n",
            "11/11 [==============================] - 4s 366ms/step - loss: 1.9413 - accuracy: 0.6573 - val_loss: 2.3013 - val_accuracy: 0.6167\n",
            "Epoch 5/20\n",
            "11/11 [==============================] - 4s 355ms/step - loss: 1.5446 - accuracy: 0.6973 - val_loss: 2.0015 - val_accuracy: 0.6784\n",
            "Epoch 6/20\n",
            "11/11 [==============================] - 4s 358ms/step - loss: 1.1592 - accuracy: 0.7478 - val_loss: 2.1397 - val_accuracy: 0.6300\n",
            "Epoch 7/20\n",
            "11/11 [==============================] - 4s 335ms/step - loss: 1.0297 - accuracy: 0.7507 - val_loss: 1.7767 - val_accuracy: 0.6872\n",
            "Epoch 8/20\n",
            "11/11 [==============================] - 4s 339ms/step - loss: 0.9737 - accuracy: 0.7715 - val_loss: 2.6501 - val_accuracy: 0.5683\n",
            "Epoch 9/20\n",
            "11/11 [==============================] - 3s 317ms/step - loss: 0.9766 - accuracy: 0.7700 - val_loss: 1.5684 - val_accuracy: 0.6960\n",
            "Epoch 10/20\n",
            "11/11 [==============================] - 3s 321ms/step - loss: 0.6052 - accuracy: 0.8279 - val_loss: 1.5142 - val_accuracy: 0.7137\n",
            "Epoch 11/20\n",
            "11/11 [==============================] - 3s 323ms/step - loss: 0.5703 - accuracy: 0.8353 - val_loss: 1.6083 - val_accuracy: 0.6784\n",
            "Epoch 12/20\n",
            "11/11 [==============================] - 4s 372ms/step - loss: 0.4854 - accuracy: 0.8516 - val_loss: 1.6943 - val_accuracy: 0.6828\n",
            "Epoch 13/20\n",
            "11/11 [==============================] - 3s 318ms/step - loss: 0.4864 - accuracy: 0.8576 - val_loss: 1.4983 - val_accuracy: 0.7093\n",
            "Epoch 14/20\n",
            "11/11 [==============================] - 4s 351ms/step - loss: 0.3512 - accuracy: 0.8828 - val_loss: 1.3904 - val_accuracy: 0.7313\n",
            "Epoch 15/20\n",
            "11/11 [==============================] - 3s 307ms/step - loss: 0.3257 - accuracy: 0.8976 - val_loss: 1.4500 - val_accuracy: 0.7225\n",
            "Epoch 16/20\n",
            "11/11 [==============================] - 3s 314ms/step - loss: 0.3552 - accuracy: 0.8872 - val_loss: 1.5946 - val_accuracy: 0.6960\n",
            "Epoch 17/20\n",
            "11/11 [==============================] - 4s 362ms/step - loss: 0.2861 - accuracy: 0.9036 - val_loss: 1.4495 - val_accuracy: 0.7357\n",
            "Epoch 18/20\n",
            "11/11 [==============================] - 4s 350ms/step - loss: 0.3001 - accuracy: 0.8917 - val_loss: 1.3642 - val_accuracy: 0.7269\n",
            "Epoch 19/20\n",
            "11/11 [==============================] - 4s 349ms/step - loss: 0.3330 - accuracy: 0.8917 - val_loss: 1.4183 - val_accuracy: 0.7621\n",
            "Epoch 20/20\n",
            "11/11 [==============================] - 4s 352ms/step - loss: 0.2854 - accuracy: 0.9021 - val_loss: 1.8108 - val_accuracy: 0.7093\n",
            "\n",
            "\n",
            "\n",
            "\n",
            "\n",
            "FINISHED\n"
          ]
        }
      ],
      "source": [
        "history = compile_and_fit(nn3, train_X_pre, val_X_pre, train_y, val_y)"
      ]
    },
    {
      "cell_type": "code",
      "execution_count": 29,
      "metadata": {
        "colab": {
          "base_uri": "https://localhost:8080/"
        },
        "outputId": "3b3e273e-7d57-439c-8b7b-f9694a07677c",
        "id": "wm-L-eohb5hF"
      },
      "outputs": [
        {
          "output_type": "stream",
          "name": "stdout",
          "text": [
            "Model: \"model\"\n",
            "_________________________________________________________________\n",
            " Layer (type)                Output Shape              Param #   \n",
            "=================================================================\n",
            " input_2 (InputLayer)        [(None, 256, 256, 3)]     0         \n",
            "                                                                 \n",
            " resizing (Resizing)         (None, 299, 299, 3)       0         \n",
            "                                                                 \n",
            " inception_v3 (Functional)   (None, 8, 8, 2048)        21802784  \n",
            "                                                                 \n",
            " global_average_pooling2d (G  (None, 2048)             0         \n",
            " lobalAveragePooling2D)                                          \n",
            "                                                                 \n",
            " dense (Dense)               (None, 4)                 8196      \n",
            "                                                                 \n",
            "=================================================================\n",
            "Total params: 21,810,980\n",
            "Trainable params: 8,196\n",
            "Non-trainable params: 21,802,784\n",
            "_________________________________________________________________\n"
          ]
        }
      ],
      "source": [
        "nn3.summary()"
      ]
    },
    {
      "cell_type": "code",
      "source": [
        "_ = pd.DataFrame(history.history)[['loss', 'val_loss']].plot()"
      ],
      "metadata": {
        "colab": {
          "base_uri": "https://localhost:8080/",
          "height": 434
        },
        "outputId": "64b071cf-1d83-49f0-f5c6-78da230b7882",
        "id": "uZX7Aqi8b5hj"
      },
      "execution_count": 54,
      "outputs": [
        {
          "output_type": "display_data",
          "data": {
            "text/plain": [
              "<Figure size 640x480 with 1 Axes>"
            ],
            "image/png": "[encoded data removed]"
          },
          "metadata": {}
        }
      ]
    },
    {
      "cell_type": "markdown",
      "source": [
        "\n",
        "We don't observe divergence, so this is a sign we didn't overfit"
      ],
      "metadata": {
        "id": "QBR0gpvVvw-N"
      }
    },
    {
      "cell_type": "markdown",
      "metadata": {
        "id": "PY_CixvLb5hk"
      },
      "source": [
        "## 5.0 Αξιολόγηση"
      ]
    },
    {
      "cell_type": "markdown",
      "metadata": {
        "id": "N6xjlJNOb5hk"
      },
      "source": [
        "#### 5.0.1. ***Validation*** dataset"
      ]
    },
    {
      "cell_type": "code",
      "execution_count": 40,
      "metadata": {
        "colab": {
          "base_uri": "https://localhost:8080/",
          "height": 836
        },
        "outputId": "a8bc255d-1a83-4b59-ea6d-bb92fba5fcf4",
        "id": "_HXnAWd1b5hl"
      },
      "outputs": [
        {
          "output_type": "stream",
          "name": "stdout",
          "text": [
            "8/8 [==============================] - 1s 131ms/step\n"
          ]
        },
        {
          "output_type": "display_data",
          "data": {
            "text/plain": [
              "<Figure size 600x400 with 2 Axes>"
            ],
            "image/png": "[encoded data removed]"
          },
          "metadata": {}
        },
        {
          "output_type": "stream",
          "name": "stdout",
          "text": [
            "=================== Per Class ====================\n",
            "Class `cloudy`\n",
            "\tPrecision: 0.86207\n",
            "\tRecall: 0.41667\n",
            "\tFScore: 0.56180\n",
            "Class `rain`\n",
            "\tPrecision: 0.76923\n",
            "\tRecall: 0.69767\n",
            "\tFScore: 0.73171\n",
            "Class `shine`\n",
            "\tPrecision: 0.73469\n",
            "\tRecall: 0.69231\n",
            "\tFScore: 0.71287\n",
            "Class `sunrise`\n",
            "\tPrecision: 0.63636\n",
            "\tRecall: 0.97222\n",
            "\tFScore: 0.76923\n",
            "==================== Overall =====================\n",
            "Accuracy: 0.70925\n",
            "Precision: 0.75059\n",
            "Recall: 0.69472\n",
            "FScore: 0.69390\n"
          ]
        }
      ],
      "source": [
        "stats_from_confusion_matrix(confusion_matrix_report(nn3, [val_X_pre, val_y]))"
      ]
    },
    {
      "cell_type": "markdown",
      "metadata": {
        "id": "x0kH28a8b5hl"
      },
      "source": [
        "#### 5.0.2. ***Test*** dataset"
      ]
    },
    {
      "cell_type": "code",
      "execution_count": 41,
      "metadata": {
        "colab": {
          "base_uri": "https://localhost:8080/",
          "height": 836
        },
        "outputId": "6c3c7326-43ad-4e96-ca3f-cf0ee58e5fdd",
        "id": "p5TWmfvtb5hm"
      },
      "outputs": [
        {
          "output_type": "stream",
          "name": "stdout",
          "text": [
            "7/7 [==============================] - 1s 124ms/step\n"
          ]
        },
        {
          "output_type": "display_data",
          "data": {
            "text/plain": [
              "<Figure size 600x400 with 2 Axes>"
            ],
            "image/png": "[encoded data removed]"
          },
          "metadata": {}
        },
        {
          "output_type": "stream",
          "name": "stdout",
          "text": [
            "=================== Per Class ====================\n",
            "Class `cloudy`\n",
            "\tPrecision: 0.82051\n",
            "\tRecall: 0.53333\n",
            "\tFScore: 0.64646\n",
            "Class `rain`\n",
            "\tPrecision: 0.76190\n",
            "\tRecall: 0.74419\n",
            "\tFScore: 0.75294\n",
            "Class `shine`\n",
            "\tPrecision: 0.68421\n",
            "\tRecall: 0.52000\n",
            "\tFScore: 0.59091\n",
            "Class `sunrise`\n",
            "\tPrecision: 0.66667\n",
            "\tRecall: 0.98592\n",
            "\tFScore: 0.79545\n",
            "==================== Overall =====================\n",
            "Accuracy: 0.71429\n",
            "Precision: 0.73332\n",
            "Recall: 0.69586\n",
            "FScore: 0.69644\n"
          ]
        }
      ],
      "source": [
        "stats_from_confusion_matrix(confusion_matrix_report(nn3, [test_X_pre, test_y]))"
      ]
    },
    {
      "cell_type": "markdown",
      "source": [
        "# Σύγκριση 2"
      ],
      "metadata": {
        "id": "UzSeaUK6_-Ws"
      }
    },
    {
      "cell_type": "markdown",
      "source": [
        "The pre trained model has the biggest difference between **train-validation** and **train-test** sets, and the worst performance in the **test** data.\n",
        "\n",
        "This can be a sign that simple models often discribe better the problem."
      ],
      "metadata": {
        "id": "ycuKYAtm_Yld"
      }
    },
    {
      "cell_type": "markdown",
      "metadata": {
        "id": "oeRVQdYikMwN"
      },
      "source": [
        "# Δοκιμή δικών σας εικόνων"
      ]
    },
    {
      "cell_type": "code",
      "source": [
        "MY_DATA_FLD_NAME = 'my-photos'\n",
        "\n",
        "MY_DATA_FLD = get_dataset_fld(True, dataset_fld_name=MY_DATA_FLD_NAME)\n",
        "print(MY_DATA_FLD)"
      ],
      "metadata": {
        "colab": {
          "base_uri": "https://localhost:8080/"
        },
        "id": "C5NTLdKfvYxx",
        "outputId": "a0544002-133a-4702-f86e-383c7993bd2d"
      },
      "execution_count": 55,
      "outputs": [
        {
          "output_type": "stream",
          "name": "stdout",
          "text": [
            "Mounted at /content/gdrive\n",
            "/content/gdrive/MyDrive/Colab Notebooks/my-photos\n"
          ]
        }
      ]
    },
    {
      "cell_type": "code",
      "source": [
        "MY_BATCH_SIZE = 1\n",
        "MY_IMAGE_SIZE = (256, 256)"
      ],
      "metadata": {
        "id": "WhPnjbJywFDs"
      },
      "execution_count": 56,
      "outputs": []
    },
    {
      "cell_type": "code",
      "source": [
        "my_ds = tf.keras.utils.image_dataset_from_directory(\n",
        "        directory=MY_DATA_FLD,\n",
        "        shuffle=False,\n",
        "        batch_size=MY_BATCH_SIZE,\n",
        "        image_size=MY_IMAGE_SIZE\n",
        "    )"
      ],
      "metadata": {
        "colab": {
          "base_uri": "https://localhost:8080/"
        },
        "id": "rUkV8ennvY4W",
        "outputId": "dfedbf5d-3d0f-4144-b65d-13edfca79559"
      },
      "execution_count": 57,
      "outputs": [
        {
          "output_type": "stream",
          "name": "stdout",
          "text": [
            "Found 12 files belonging to 4 classes.\n"
          ]
        }
      ]
    },
    {
      "cell_type": "markdown",
      "source": [
        "## Αξιολόγηση Απλού Συνελικτικού"
      ],
      "metadata": {
        "id": "W7MVQBdkwkkk"
      }
    },
    {
      "cell_type": "code",
      "execution_count": 58,
      "metadata": {
        "colab": {
          "base_uri": "https://localhost:8080/",
          "height": 1000
        },
        "outputId": "43fe6559-9774-42c6-c330-94d8326d4502",
        "id": "1deoN90pweb6"
      },
      "outputs": [
        {
          "output_type": "stream",
          "name": "stdout",
          "text": [
            "1/1 [==============================] - 0s 86ms/step\n",
            "1/1 [==============================] - 0s 20ms/step\n",
            "1/1 [==============================] - 0s 20ms/step\n",
            "1/1 [==============================] - 0s 18ms/step\n",
            "1/1 [==============================] - 0s 30ms/step\n",
            "1/1 [==============================] - 0s 20ms/step\n",
            "1/1 [==============================] - 0s 17ms/step\n",
            "1/1 [==============================] - 0s 20ms/step\n",
            "1/1 [==============================] - 0s 21ms/step\n",
            "1/1 [==============================] - 0s 18ms/step\n",
            "1/1 [==============================] - 0s 17ms/step\n",
            "1/1 [==============================] - 0s 18ms/step\n"
          ]
        },
        {
          "output_type": "display_data",
          "data": {
            "text/plain": [
              "<Figure size 600x400 with 2 Axes>"
            ],
            "image/png": "[encoded data removed]"
          },
          "metadata": {}
        },
        {
          "output_type": "stream",
          "name": "stdout",
          "text": [
            "=================== Per Class ====================\n",
            "Class `cloudy`\n",
            "\tPrecision: 0.00000\n",
            "\tRecall: 0.00000\n",
            "\tFScore: 0.00000\n",
            "Class `rain`\n",
            "\tPrecision: 0.37500\n",
            "\tRecall: 1.00000\n",
            "\tFScore: 0.54545\n",
            "Class `shine`\n",
            "\tPrecision: 1.00000\n",
            "\tRecall: 0.33333\n",
            "\tFScore: 0.50000\n",
            "Class `sunrise`\n",
            "\tPrecision: 0.66667\n",
            "\tRecall: 0.66667\n",
            "\tFScore: 0.66667\n",
            "==================== Overall =====================\n",
            "Accuracy: 0.50000\n",
            "Precision: 0.51042\n",
            "Recall: 0.50000\n",
            "FScore: 0.42803\n"
          ]
        }
      ],
      "source": [
        "stats_from_confusion_matrix(confusion_matrix_report(nn1, my_ds))"
      ]
    },
    {
      "cell_type": "markdown",
      "source": [
        "## Αξιολόγηση Συνελικτικού μεγάλου βάθους"
      ],
      "metadata": {
        "id": "H48fzhYMxxHE"
      }
    },
    {
      "cell_type": "code",
      "execution_count": 59,
      "metadata": {
        "colab": {
          "base_uri": "https://localhost:8080/",
          "height": 1000
        },
        "outputId": "961ba55c-39dc-4025-fdd5-afbe6d3b66b2",
        "id": "m6o5ay2KxxHF"
      },
      "outputs": [
        {
          "output_type": "stream",
          "name": "stdout",
          "text": [
            "1/1 [==============================] - 0s 460ms/step\n",
            "1/1 [==============================] - 0s 19ms/step\n",
            "1/1 [==============================] - 0s 19ms/step\n",
            "1/1 [==============================] - 0s 20ms/step\n",
            "1/1 [==============================] - 0s 31ms/step\n",
            "1/1 [==============================] - 0s 19ms/step\n",
            "1/1 [==============================] - 0s 19ms/step\n",
            "1/1 [==============================] - 0s 21ms/step\n",
            "1/1 [==============================] - 0s 19ms/step\n",
            "1/1 [==============================] - 0s 22ms/step\n",
            "1/1 [==============================] - 0s 18ms/step\n",
            "1/1 [==============================] - 0s 20ms/step\n"
          ]
        },
        {
          "output_type": "display_data",
          "data": {
            "text/plain": [
              "<Figure size 600x400 with 2 Axes>"
            ],
            "image/png": "[encoded data removed]"
          },
          "metadata": {}
        },
        {
          "output_type": "stream",
          "name": "stdout",
          "text": [
            "=================== Per Class ====================\n",
            "Class `cloudy`\n",
            "\tPrecision: 0.50000\n",
            "\tRecall: 0.66667\n",
            "\tFScore: 0.57143\n",
            "Class `rain`\n",
            "\tPrecision: 0.25000\n",
            "\tRecall: 0.33333\n",
            "\tFScore: 0.28571\n",
            "Class `shine`\n",
            "\tPrecision: 0.00000\n",
            "\tRecall: 0.00000\n",
            "\tFScore: 0.00000\n",
            "Class `sunrise`\n",
            "\tPrecision: 0.50000\n",
            "\tRecall: 0.66667\n",
            "\tFScore: 0.57143\n",
            "==================== Overall =====================\n",
            "Accuracy: 0.41667\n",
            "Precision: 0.31250\n",
            "Recall: 0.41667\n",
            "FScore: 0.35714\n"
          ]
        }
      ],
      "source": [
        "stats_from_confusion_matrix(confusion_matrix_report(nn2, my_ds))"
      ]
    },
    {
      "cell_type": "markdown",
      "source": [
        "## Αξιολόγηση Προεκπαιδευμένου"
      ],
      "metadata": {
        "id": "6-J9wrFLx7Mc"
      }
    },
    {
      "cell_type": "markdown",
      "source": [
        "Bring data to the form required by the model"
      ],
      "metadata": {
        "id": "B_fBPpBJ6hhL"
      }
    },
    {
      "cell_type": "code",
      "source": [
        "my_X, my_y = split_X_y(my_ds)\n",
        "my_X_pre = keras.applications.resnet50.preprocess_input(my_X.astype('float32'))"
      ],
      "metadata": {
        "id": "YAlyr22G2mgJ"
      },
      "execution_count": 61,
      "outputs": []
    },
    {
      "cell_type": "code",
      "execution_count": 62,
      "metadata": {
        "colab": {
          "base_uri": "https://localhost:8080/",
          "height": 836
        },
        "outputId": "57873dc9-8717-4ac4-f825-e3ae67518e08",
        "id": "KyAn89MPx7M0"
      },
      "outputs": [
        {
          "output_type": "stream",
          "name": "stdout",
          "text": [
            "1/1 [==============================] - 2s 2s/step\n"
          ]
        },
        {
          "output_type": "display_data",
          "data": {
            "text/plain": [
              "<Figure size 600x400 with 2 Axes>"
            ],
            "image/png": "[encoded data removed]"
          },
          "metadata": {}
        },
        {
          "output_type": "stream",
          "name": "stdout",
          "text": [
            "=================== Per Class ====================\n",
            "Class `cloudy`\n",
            "\tPrecision: 0.00000\n",
            "\tRecall: 0.00000\n",
            "\tFScore: 0.00000\n",
            "Class `rain`\n",
            "\tPrecision: 0.42857\n",
            "\tRecall: 1.00000\n",
            "\tFScore: 0.60000\n",
            "Class `shine`\n",
            "\tPrecision: 1.00000\n",
            "\tRecall: 0.33333\n",
            "\tFScore: 0.50000\n",
            "Class `sunrise`\n",
            "\tPrecision: 0.33333\n",
            "\tRecall: 0.33333\n",
            "\tFScore: 0.33333\n",
            "==================== Overall =====================\n",
            "Accuracy: 0.41667\n",
            "Precision: 0.44048\n",
            "Recall: 0.41667\n",
            "FScore: 0.35833\n"
          ]
        }
      ],
      "source": [
        "stats_from_confusion_matrix(confusion_matrix_report(nn3, [my_X_pre, my_y]))"
      ]
    },
    {
      "cell_type": "markdown",
      "source": [
        "We observe that the model with the best performance is the simpler one, although still not good enough, since it raises accuracy just by 25% from random guess.\n",
        "\n",
        "However, the predictions of each of the models on my photos are very different from the predictions they did one samples they had never seen (***test*** datasets), were they performed much better.\n",
        "\n",
        "In order for the models to be trusted, they have to be tested again on more data they have never seen and compare performances."
      ],
      "metadata": {
        "id": "BgFBPv8l3ccK"
      }
    }
  ],
  "metadata": {
    "colab": {
      "provenance": [],
      "gpuType": "T4",
      "toc_visible": true
    },
    "kernelspec": {
      "display_name": "Python 3",
      "name": "python3"
    },
    "language_info": {
      "name": "python"
    },
    "accelerator": "GPU",
    "gpuClass": "standard"
  },
  "nbformat": 4,
  "nbformat_minor": 0
}